{
 "cells": [
  {
   "attachments": {},
   "cell_type": "markdown",
   "metadata": {},
   "source": [
    "# Modelos LSTM\n",
    "\n",
    "## 1. Introducción a LSTM\n",
    "\n",
    "LSTM es un acrónimo de *Long-Short Term Memory* y representa a un **subtipo de RNN** (*Recurrent Neural Network*) capaz de **retener información relevante** sobre datos ya procesados que ayude al procesamiento de nuevas secuencias de datos completas. Su arquitectura se encuentra compuesta a su vez por tres redes neuronales:\n",
    "\n",
    "* ***Forget Gate***: este primer modelo es el encargado de filtrar qué información previa es útil para su almacenamiento y qué datos ya no son útiles para futuras iteraciones. \n",
    "\n",
    "* ***Input Gate***: esta segunda red trata de determinar el valor que presentan los datos entrantes para resolver la tarea de clasificación.\n",
    "\n",
    "* ***Output Gate***: finalmente esta red calcula las salidas del modelo LSTM que dependerán de la tarea de clasificación que se pretende abordar.\n",
    "\n",
    "### 1.1. Introducción a BiLSTM\n",
    "\n",
    "Se trata de una variante de la arquitectura compuesta por **dos redes LSTM independientes** con el objetivo de procesar los textos de derecha a izquierda y viceversa. Esta característica permite la **extracción de características en ambos sentidos** proporcionando un **contexto más voluminoso y preciso** al considerar los **términos precedores y sucesores**, almacenando así información pasada y futura del texto. Así, generalmente las redes BiLSTM tienden a mejorar el rendimiento y su capacidad preditiva.\n",
    "\n",
    "### 1.2. Condiciones de uso\n",
    "\n",
    "Dependiendo del framework que se pretenda utilizar (Tensorflow, Keras, Pytorch) existen diferentes tratamientos de datos y requisitos de implementación que se deben cumplir al definir la arquitectura, entrenamiento y validación de modelos. En mi caso particular he optado por utilizar **Keras** debido a la experiencia previa que tengo con la librería y a su facilidad de uso. \n",
    "\n",
    "1. **Procesamiento y limpieza** de los documentos.\n",
    "\n",
    "2. **Tokenización** de los documentos especificando un token para aquellos términos que no sean reconocidos dentro de un vocabulario de palabras.\n",
    "\n",
    "3. **Codificación** numérica en forma de matrices secuenciales de valores. \n",
    "\n",
    "5. **Normalización** de las secuencias numéricas para establecer un mismo **tamaño fijo**, completando con ceros aquellas de menor longitud y separando en varias secuencias aquellas que dispongan de un mayor tamaño.\n",
    "\n",
    "6. Definición de la arquitectura de un **modelo** e instanciación para su posterior entrenamiento y validación.\n",
    "\n",
    "### 1.3. Casos de uso\n",
    "\n",
    "* Detección y extracción de patrones en secuencias de datos.\n",
    "* Modelado del lenguaje natural.\n",
    "* Traducción de texto.\n",
    "* Reconocimiento de textos manuscritos.\n",
    "* Generación de imágenes mediante mecanismos de atención.\n",
    "* Sistemas de preguntas y respuestas.\n",
    "* Conversión de vídeo a texto."
   ]
  },
  {
   "attachments": {},
   "cell_type": "markdown",
   "metadata": {},
   "source": [
    "## 2. Estructura del notebook\n",
    "\n",
    "1. Introducción a LSTM\n",
    "2. Estructura del notebook\n",
    "3. Instalación y carga de librerías\n",
    "4. Lectura y carga de datos\n",
    "5. Experimentos y modelos\n",
    "6. Conclusiones"
   ]
  },
  {
   "attachments": {},
   "cell_type": "markdown",
   "metadata": {},
   "source": [
    "## 3. Instalación y carga de librerías\n",
    "\n",
    "Este apartado tiene como único propósito cargar las librerías y dependencias necesarias para la ejecución de este notebook, así como las funciones propiamente desarrolladas. Previo a ello deberán ser instaladas bien ejecutando el script *setup.sh* mediante el comando `bash setup.sh` con permisos de ejecución en distribuciones Linux, o bien ejecutando el compando `pip install -r requirements.txt`."
   ]
  },
  {
   "cell_type": "code",
   "execution_count": 42,
   "metadata": {},
   "outputs": [],
   "source": [
    "%%capture\n",
    "# pandas: to read the datasets\n",
    "import pandas as pd\n",
    "\n",
    "# numpy: to work with Numpy ndarrays\n",
    "import numpy as np\n",
    "\n",
    "# keras: to load pre-trained models\n",
    "from keras.utils import pad_sequences\n",
    "from keras.models import Model, load_model\n",
    "from keras.preprocessing.text import Tokenizer\n",
    "\n",
    "# sklearn: to plot a confusion matrix per trained model\n",
    "from sklearn.metrics import ConfusionMatrixDisplay\n",
    "from sklearn.metrics import confusion_matrix\n",
    "\n",
    "# matplotlib: to plot charts\n",
    "import matplotlib.pyplot as plt\n",
    " \n",
    "import sys\n",
    "sys.path.append('../scripts')\n",
    "\n",
    "# data: to analyze test predictions\n",
    "from data import analyze_predicted_probs, map_texts_to_emotions"
   ]
  },
  {
   "attachments": {},
   "cell_type": "markdown",
   "metadata": {},
   "source": [
    "## 4. Lectura y carga de datos procesados\n",
    "\n",
    "En esta sección se pretende leer y cargar los datos de entrenamiento y test ya procesados a los que se les ha aplicado las siguientes técnicas de tratamiento de documentos:\n",
    "\n",
    "  - Elimina URLs.\n",
    "  - Elimina usuarios mencionados.\n",
    "  - Elimina caracteres especiales, no alfabéticos y signos de puntuación.\n",
    "  - Convierte todos los caracteres en minúsculas.\n",
    "  - **No se aplica lematización** puesto que el rendimiento del modelo apenas mejora aunque el tiempo invertido se multiplica exponencialmente.\n",
    "  - **No se intenta detectar y corregir palabras erróneamente escritas** puesto que tampoco mejora el rendimiento del modelo pero la inversión de recursos es desorbitada. Según he podido comprobar apenas se detecta un 9,43% de términos con faltas de ortogragía y solo un 7,61% son corregidos, por lo que esta técnica no parece que vaya a ser de utilidad. </p>\n",
    "\n",
    "Tal y como se puede comprobar en los siguientes resultados las dimensiones de sendos conjuntos de datos se detallan a continuación:\n",
    "\n",
    "* Conjunto de entrenamiento: **6.865 muestras**.\n",
    "* Conjunto de validación: **4.296 muestras**."
   ]
  },
  {
   "cell_type": "code",
   "execution_count": 24,
   "metadata": {},
   "outputs": [
    {
     "name": "stdout",
     "output_type": "stream",
     "text": [
      "Train dataset dimensions: (6865, 6)\n",
      "Test dataset dimensions: (4296, 6)\n"
     ]
    }
   ],
   "source": [
    "# Read already processed EXIST datasets\n",
    "train_df = pd.read_csv('../data/proc_EXIST2021_train.csv')\n",
    "test_df = pd.read_csv('../data/proc_EXIST2021_test.csv')\n",
    "\n",
    "# Show the dimensions of the datasets\n",
    "print('Train dataset dimensions:', train_df.shape)\n",
    "print('Test dataset dimensions:', test_df.shape)"
   ]
  },
  {
   "attachments": {},
   "cell_type": "markdown",
   "metadata": {},
   "source": [
    "## 5. Experimentos y modelos\n",
    "\n",
    "En esta sección se pretende ejemplificar la mejor configuración obtenida en relación a la combinación de distintas técnicas de procesamiento de textos, codificación de documentos y arquitecturas LSTM/BiLSTM, como modelos de Aprendizaje Automático avanzados. A diferencia de los clasificadores entrenados con Regresión Logística, los experimentos efectuados con LSTM/BiLSTM **no son determinísticos**. Como consecuencia, para evaluar el impacto de las modificaciones realizadas sobre los datasets y las arquitecturas se ejecutan **30 iteraciones de cada experimento** para luego calcular la **media de accuracy y AUC**, como métricas de evaluación seleccionadas para medir la calidad de un clasificador. Para más detalles se puede consultar [este notebook](https://github.com/lidiasm/DATCOM-TFM/blob/main/notebooks/run_lstm_experiments.ipynb) donde se encuentra codificado el procedimiento descrito.\n",
    "\n",
    "Tal y como se explica en ambas competiciones, se realiza una **distinción entre textos en inglés y español** puesto que parece ser que estos últimos se caracterizan por una mejor representación y por ende, los **clasificadores entrenados únicamente sobre documentos españoles demuestran una mayor capacidad de predicción**.\n",
    "\n",
    "Previo al comienzo de la experimentación se definen las siguientes tres funciones con las que transformar los conjuntos de datos ya procesados en matrices numéricas con las que generar la matriz de embeddings y evaluar los modelos ya entrenados sobre sendos datasets con el objetivo de posteriormente analizar los resultados."
   ]
  },
  {
   "cell_type": "code",
   "execution_count": 25,
   "metadata": {},
   "outputs": [],
   "source": [
    "def encode_data_as_matrixes(train_texts:list, test_texts: list, max_n_words: int, sequence_len: int):\n",
    "    '''\n",
    "    Function that creates and trains a Keras tokenizer based on the provided\n",
    "    train documents to encode the train and test data as numeric matrixes.\n",
    "\n",
    "    Parameters\n",
    "    ----------\n",
    "    train_texts : list\n",
    "        A list of strings with the train documents to encode.\n",
    "    test_texts : list\n",
    "        A list of strings with the test documents to encode.\n",
    "    max_n_words : int\n",
    "        Maximum number of words to keep within the LSTM memory\n",
    "        based on computing the word frequency.\n",
    "    sequence_len : int\n",
    "        Maximum lenght of all sequences.\n",
    "    \n",
    "    Returns\n",
    "    -------\n",
    "    A\n",
    "    '''\n",
    "    # Create a tokenizer based on train texts\n",
    "    tokenizer = Tokenizer(num_words=max_n_words)\n",
    "    tokenizer.fit_on_texts(train_texts)\n",
    "\n",
    "    # Transform each text into a numeric sequence\n",
    "    train_sequences = tokenizer.texts_to_sequences(train_texts)\n",
    "\n",
    "    # Transform each numeric sequence into a 2D vector\n",
    "    train_matrix = pad_sequences(\n",
    "        sequences=train_sequences, \n",
    "        maxlen=sequence_len)\n",
    "\n",
    "    # Tokenize the test documents using the prior trained tokenizer\n",
    "    test_sequences = tokenizer.texts_to_sequences(test_texts)\n",
    "\n",
    "    # Transform each numeric sequence into a 2D vector\n",
    "    test_matrix = pad_sequences(\n",
    "        sequences=test_sequences,\n",
    "        maxlen=sequence_len)\n",
    "    \n",
    "    return tokenizer, train_matrix, test_matrix"
   ]
  },
  {
   "cell_type": "code",
   "execution_count": 26,
   "metadata": {},
   "outputs": [],
   "source": [
    "def get_embedding_matrix(embedding_file: str, tokenizer: Tokenizer, sequence_len: int):\n",
    "    '''\n",
    "    Load the embeddings stored in the provided file to then\n",
    "    create a matrix with the numeric encoding of each\n",
    "    available word within the tokenizer vocabulary.\n",
    "\n",
    "    Parameters\n",
    "    ----------\n",
    "    embedding_file : str\n",
    "        The path to the file which contains a set of embeddings\n",
    "    tokenizer : Tokenizer (Keras)\n",
    "        A trained Keras tokenizer which contains the vocabulary\n",
    "        of the documents to use during the training of models\n",
    "    sequence_len : int\n",
    "        Maximum lenght of all embeddings.\n",
    "\n",
    "    Returns\n",
    "    -------\n",
    "    A Numpy ndarray which represents an embedding matrix.\n",
    "    '''\n",
    "    # Load the embeddings stored in a TXT file\n",
    "    embedding_file = open(embedding_file)\n",
    "\n",
    "    # Store each word with its embeddings\n",
    "    embeddings_index = {\n",
    "        line.split()[0]:np.asarray(line.split()[1:], dtype='float32') \n",
    "        for line in embedding_file\n",
    "    }\n",
    "\n",
    "    # Initialize the embedding matrix with zeros\n",
    "    embedding_matrix = np.zeros(shape=(len(tokenizer.word_index)+1, sequence_len))\n",
    "\n",
    "    # Complete the matrix with the prior loaded embeddings\n",
    "    for word, i in tokenizer.word_index.items():\n",
    "        # Search for the embeddings of each word\n",
    "        embedding_vector = embeddings_index.get(word)\n",
    "\n",
    "        # Words not found will be zeros\n",
    "        if embedding_vector is not None:\n",
    "            embedding_matrix[i] = embedding_vector\n",
    "\n",
    "    return embedding_matrix "
   ]
  },
  {
   "cell_type": "code",
   "execution_count": 27,
   "metadata": {},
   "outputs": [],
   "source": [
    "def validate_lstm_model(\n",
    "    model: Model, \n",
    "    train_matrix: np.ndarray, train_labels: list, \n",
    "    test_matrix: np.ndarray, test_labels: list):\n",
    "    '''\n",
    "    Evaluates the provided trained LSTM model over the \n",
    "    train and test datasets to get the accuracy, AUC and\n",
    "    a confusion matrix. To create the predictions for a\n",
    "    binary classification a threshold has been set:\n",
    "        - <= 0.5 represents the negative class (non-sexist).\n",
    "        - > 0.5 represents the positive class (sexist).\n",
    "\n",
    "    Parameters\n",
    "    ----------\n",
    "    model : Keras model\n",
    "        A trained Keras model to be evaluated.\n",
    "    train_matrix : Numpy ndarray\n",
    "        A numeric sequence matrix with the trained documents.\n",
    "    train_labels : list\n",
    "        A numeric list with the class labels of the train dataset.\n",
    "    test_matrix : Numpy ndarray\n",
    "        A numeric sequence matrix with the test documents.\n",
    "    test_labels : list\n",
    "        A numeric list with the class labels of the test dataset.\n",
    "    '''\n",
    "    # Compute and print the accuracy and AUC over train\n",
    "    train_acc = model.evaluate(\n",
    "        x=train_matrix, \n",
    "        y=np.array(train_labels))\n",
    "\n",
    "    print(f'Train accuracy: {train_acc[1]}')\n",
    "    print(f'Train AUC: {train_acc[2]}\\n')\n",
    "\n",
    "    # Compute and print the accuracy and AUC over test\n",
    "    test_acc = model.evaluate(\n",
    "        x=test_matrix, \n",
    "        y=np.array(test_labels))\n",
    "\n",
    "    print(f'Test accuracy: {test_acc[1]}')\n",
    "    print(f'Test AUC: {test_acc[2]}')\n",
    "\n",
    "    # Generate class label predictions over the test dataset\n",
    "    test_preds = (model.predict(test_matrix) >= 0.5).astype('int32')\n",
    "\n",
    "    # Plot the confusion matrix \n",
    "    ConfusionMatrixDisplay(\n",
    "        confusion_matrix=confusion_matrix(\n",
    "            np.array(test_labels), \n",
    "            np.array(test_preds)), \n",
    "        display_labels=['Non-sexist', 'Sexist']) \\\n",
    "    .plot()"
   ]
  },
  {
   "attachments": {},
   "cell_type": "markdown",
   "metadata": {},
   "source": [
    "### 5.1. Modelo específico para inglés\n",
    "\n",
    "* **Codificación de textos mediante embeddings**. Tras experimentar con diferentes ficheros situados en el siguiente [enlace](https://nlp.stanford.edu/projects/glove/), por ser **multilenguaje**, estar basado en un **mayor número de vocabulario** y por proporcionar un buen balance entre el rendimiento de los modelos y la inversión de recursos necesarios, he seleccionado el archivo **glove.twitter.27B.100d.txt**.\n",
    "\n",
    "* **Arquitectura e hiperparámetros**.\n",
    "  * 1 capa de entrada para proporcionar los documentos procesados.\n",
    "  * **2 capas ocultas con 128 neuronas** cada una.\n",
    "  * 1 capa de salida con la que asignar una clase a cada muestra.\n",
    "  * **Tamaño del lote: 32**.\n",
    "  * <p>Máximo número de palabras que se mantienen en memoria: 1.000.</p>\n",
    "\n",
    "* **Entrenamiento y validación**.\n",
    "  * Número máximo de **iteraciones**: 100.\n",
    "  * **Early Stopping** tras 15 iteraciones sin una mejora mayor que 0.01 en el valor de la métrica *AUC* en validación y recuperando los pesos del mejor modelo encontrado. \n",
    "  * Porcentaje de **validación**: 20%.\n",
    "  * Función de pérdida: *binary_crossentropy*.\n",
    "  * Optimizador: Adam.\n",
    "  * **Métricas de validación**: *accuracy* y AUC.\n",
    "\n",
    "Tal y como se puede apreciar en los siguientes resultados, la tasa de aciertos sobre el conjunto de entrenamiento apenas alcanza un 78% mientras que sobre **test únicamente existe un 70% de accuracy**. Parece que esta diferencia no es demasiado notable como para detectar cierto *overfitting* y observando el área bajo la curva ROC del conjunto de test se puede determinar que el modelo **no dispone de una buena capacidad de predicción**. \n",
    "\n",
    "Observando la matriz de confusión es altamente notable la **elevada tasa de falsos negativos**, es decir, textos sexistas que no han sido detectados. Por lo tanto una arquitectura LSTM y la mejor configuración encontrada en este grupo de experimentos, parece no ser suficiente precisa como para construir un clasificador de calidad capaz de identificar textos sexistas y no sexistas."
   ]
  },
  {
   "cell_type": "code",
   "execution_count": 33,
   "metadata": {},
   "outputs": [
    {
     "name": "stdout",
     "output_type": "stream",
     "text": [
      "107/107 [==============================] - 7s 60ms/step - loss: 0.4713 - accuracy: 0.7778 - auc: 0.8626\n",
      "Train accuracy: 0.7777777910232544\n",
      "Train AUC: 0.8626314997673035\n",
      "\n",
      "69/69 [==============================] - 4s 59ms/step - loss: 0.6212 - accuracy: 0.7042 - auc: 0.7715\n",
      "Test accuracy: 0.7041800618171692\n",
      "Test AUC: 0.771522581577301\n",
      "69/69 [==============================] - 10s 116ms/step\n"
     ]
    },
    {
     "data": {
      "image/png": "[encoded data removed]",
      "text/plain": [
       "<Figure size 640x480 with 2 Axes>"
      ]
     },
     "metadata": {},
     "output_type": "display_data"
    }
   ],
   "source": [
    "# Number of words to retain in the LSTM memory\n",
    "MAX_N_WORDS = 1000\n",
    "\n",
    "# Max number of tokens per numeric sequence\n",
    "SEQUENCE_MAX_LEN = 100\n",
    "\n",
    "# Path to the multilanguage embedding file\n",
    "MULTILAN_EMBEDDINGS_FILE = '../en_es_embeddings/glove.twitter.27B.100d.txt'\n",
    "\n",
    "# Filter train and test texts by language\n",
    "en_train_df = train_df[train_df['language'] == 'en']\n",
    "en_test_df = test_df[test_df['language'] == 'en']\n",
    "\n",
    "# Convert processed train and test documents into matrixes\n",
    "en_tokenizer, en_train_matrix, en_test_matrix = encode_data_as_matrixes(\n",
    "    train_texts=list(en_train_df['clean_text'].values),\n",
    "    test_texts=list(en_test_df['clean_text'].values),\n",
    "    max_n_words=MAX_N_WORDS,\n",
    "    sequence_len=SEQUENCE_MAX_LEN\n",
    ")\n",
    "\n",
    "# Get the embedding matrix based on the train documents\n",
    "en_embed_matrix = get_embedding_matrix(\n",
    "    embedding_file=MULTILAN_EMBEDDINGS_FILE,\n",
    "    tokenizer=en_tokenizer,\n",
    "    sequence_len=SEQUENCE_MAX_LEN\n",
    ")\n",
    "\n",
    "# Load a pretrained BiLSTM model trained over English texts\n",
    "en_bilstm_model = load_model('../models/en_lstm_models/en_bilstm_model_2L_128N_32BS.h5')\n",
    "\n",
    "# Evaluate the model over train and test datasets\n",
    "validate_lstm_model(\n",
    "    model=en_bilstm_model,\n",
    "    train_matrix=en_train_matrix,\n",
    "    train_labels=list(en_train_df['task1'].values),\n",
    "    test_matrix=en_test_matrix,\n",
    "    test_labels=list(en_test_df['task1'].values)\n",
    ")"
   ]
  },
  {
   "attachments": {},
   "cell_type": "markdown",
   "metadata": {},
   "source": [
    "#### 5.1.1. Análisis de resultados\n",
    "\n",
    "Con el propósito de tratar de identificar la existencia de posibles patrones que dificultan la construcción de un clasificador de calidad para detectar textos sexistas y no sexistas, se ha realizado la siguiente experimentación. Consiste en evaluar las **muestras mal clasificadas** de cada categoría a partir de intervalos de confianza para posteriormente cruzar los ejemplos resultantes con el **análisis de emociones y las categorías sexistas** de la columna *task2*, para las muestras de la clase positiva. \n",
    "\n",
    "En los siguientes resultados podemos observar cómo la **gran mayoría de falsos negativos han sido clasificados en base a umbrales ínfimos de confianza**, por lo que el modelo no parece estar nada seguro acerca de las decisiones que ha tomado. Esta situación puede ser más beneficiosa puesto que se pueden aplicar técnicas a priori o a posteriori para ayudar a mejorar la clasificación. Sin embargo, el fenómeno contrario ocurre con los **falsos positivos, puesto que la mayoría de estos casos se concentran en los intervalos de confianza más altos**."
   ]
  },
  {
   "cell_type": "code",
   "execution_count": 43,
   "metadata": {},
   "outputs": [
    {
     "name": "stdout",
     "output_type": "stream",
     "text": [
      "69/69 [==============================] - 4s 53ms/step\n",
      "69/69 [==============================] - 4s 64ms/step\n",
      "FALSE NEGATIVES\n",
      "Confidence Interval Very low (0.0, 0.2): 182 samples\n",
      "Confidence Interval Low (0.2, 0.4): 123 samples\n",
      "Confidence Interval Medium (0.4, 0.6): 93 samples\n",
      "Confidence Interval High (0.6, 0.8): 0 samples\n",
      "Confidence Interval Very high (0.8, 1.0): 0 samples\n",
      "\n",
      "FALSE POSITIVES\n",
      "Confidence Interval Very low (0.0, 0.2): 0 samples\n",
      "Confidence Interval Low (0.2, 0.4): 0 samples\n",
      "Confidence Interval Medium (0.4, 0.6): 69 samples\n",
      "Confidence Interval High (0.6, 0.8): 123 samples\n",
      "Confidence Interval Very high (0.8, 1.0): 54 samples\n"
     ]
    },
    {
     "name": "stderr",
     "output_type": "stream",
     "text": [
      "/tmp/ipykernel_11892/1470426946.py:6: SettingWithCopyWarning: \n",
      "A value is trying to be set on a copy of a slice from a DataFrame.\n",
      "Try using .loc[row_indexer,col_indexer] = value instead\n",
      "\n",
      "See the caveats in the documentation: https://pandas.pydata.org/pandas-docs/stable/user_guide/indexing.html#returning-a-view-versus-a-copy\n",
      "  en_test_df['task1_pred_classes'] = en_test_preds\n",
      "/tmp/ipykernel_11892/1470426946.py:7: SettingWithCopyWarning: \n",
      "A value is trying to be set on a copy of a slice from a DataFrame.\n",
      "Try using .loc[row_indexer,col_indexer] = value instead\n",
      "\n",
      "See the caveats in the documentation: https://pandas.pydata.org/pandas-docs/stable/user_guide/indexing.html#returning-a-view-versus-a-copy\n",
      "  en_test_df['task1_pred_probs'] = en_test_probs\n"
     ]
    }
   ],
   "source": [
    "# Predict over the test dataset\n",
    "en_test_probs = (en_bilstm_model.predict(en_test_matrix))\n",
    "en_test_preds = (en_bilstm_model.predict(en_test_matrix) >= 0.5).astype('int32')\n",
    "\n",
    "# Insert the predicted classes and probabilities into the test dataset\n",
    "en_test_df['task1_pred_classes'] = en_test_preds\n",
    "en_test_df['task1_pred_probs'] = en_test_probs\n",
    "\n",
    "print('FALSE NEGATIVES')\n",
    "false_negatives_df = en_test_df[(en_test_df['task1'] == 1) & (en_test_df['task1_pred_classes'] == 0)]\n",
    "analyze_predicted_probs(\n",
    "    dataset=false_negatives_df,\n",
    "    probs_col='task1_pred_probs')\n",
    "\n",
    "print('\\nFALSE POSITIVES')\n",
    "false_positives_df = en_test_df[(en_test_df['task1'] == 0) & (en_test_df['task1_pred_classes'] == 1)]\n",
    "analyze_predicted_probs(\n",
    "    dataset=false_positives_df,\n",
    "    probs_col='task1_pred_probs')"
   ]
  },
  {
   "attachments": {},
   "cell_type": "markdown",
   "metadata": {},
   "source": [
    "Si se cruzan las muestras positivas erróneamente clasificadas con las categorías sexistas a las que pertenecen se observa una tendencia idéntica a la vista en el entrenamiento y validación de modelos con Regresión Logística. La **mayoría de los documentos sexistas pertenecen a categorías sumamente complicadas de detectar** por clasificadores automáticos debido a su falta de características concretas que permitan asimilar su patrón."
   ]
  },
  {
   "cell_type": "code",
   "execution_count": 44,
   "metadata": {},
   "outputs": [
    {
     "data": {
      "text/html": [
       "<div>\n",
       "<style scoped>\n",
       "    .dataframe tbody tr th:only-of-type {\n",
       "        vertical-align: middle;\n",
       "    }\n",
       "\n",
       "    .dataframe tbody tr th {\n",
       "        vertical-align: top;\n",
       "    }\n",
       "\n",
       "    .dataframe thead th {\n",
       "        text-align: right;\n",
       "    }\n",
       "</style>\n",
       "<table border=\"1\" class=\"dataframe\">\n",
       "  <thead>\n",
       "    <tr style=\"text-align: right;\">\n",
       "      <th></th>\n",
       "      <th>id</th>\n",
       "    </tr>\n",
       "    <tr>\n",
       "      <th>task2</th>\n",
       "      <th></th>\n",
       "    </tr>\n",
       "  </thead>\n",
       "  <tbody>\n",
       "    <tr>\n",
       "      <th>ideological-inequality</th>\n",
       "      <td>121</td>\n",
       "    </tr>\n",
       "    <tr>\n",
       "      <th>stereotyping-dominance</th>\n",
       "      <td>96</td>\n",
       "    </tr>\n",
       "    <tr>\n",
       "      <th>misogyny-non-sexual-violence</th>\n",
       "      <td>86</td>\n",
       "    </tr>\n",
       "    <tr>\n",
       "      <th>sexual-violence</th>\n",
       "      <td>56</td>\n",
       "    </tr>\n",
       "    <tr>\n",
       "      <th>objectification</th>\n",
       "      <td>39</td>\n",
       "    </tr>\n",
       "  </tbody>\n",
       "</table>\n",
       "</div>"
      ],
      "text/plain": [
       "                               id\n",
       "task2                            \n",
       "ideological-inequality        121\n",
       "stereotyping-dominance         96\n",
       "misogyny-non-sexual-violence   86\n",
       "sexual-violence                56\n",
       "objectification                39"
      ]
     },
     "execution_count": 44,
     "metadata": {},
     "output_type": "execute_result"
    }
   ],
   "source": [
    "false_negatives_df.groupby(['task2']).count().filter(['id']).sort_values(by=['id'], ascending=False)"
   ]
  },
  {
   "attachments": {},
   "cell_type": "markdown",
   "metadata": {},
   "source": [
    "Finalmente combinando los falsos positivos y negativos con el análisis de detección de emociones realizado se descubren dos principales emociones que aglutinan la mayoría de documentos erróneamente clasificados: ***anger*** y ***joy***. Tras una inspección visual de nuevo he podido encontrar conclusiones similares a las alcanzadas con los modelos de Regresión Logística, siendo un **alto porcentaje de documentos irónicos los predominantes en la emoción *anger*, mientras que los textos clasificados en la emoción *joy* contienen terminología positiva mayoritariamente aunque sus significados son muy negativos y sexistas**."
   ]
  },
  {
   "cell_type": "code",
   "execution_count": 45,
   "metadata": {},
   "outputs": [
    {
     "name": "stdout",
     "output_type": "stream",
     "text": [
      "FALSE NEGATIVES\n",
      "Emotion: fear - No. of texts: 36\n",
      "Emotion: surprise - No. of texts: 7\n",
      "Emotion: joy - No. of texts: 97\n",
      "Emotion: love - No. of texts: 6\n",
      "Emotion: anger - No. of texts: 186\n",
      "Emotion: sadness - No. of texts: 66\n",
      "\n",
      "FALSE POSITIVES\n",
      "Emotion: fear - No. of texts: 30\n",
      "Emotion: surprise - No. of texts: 5\n",
      "Emotion: joy - No. of texts: 76\n",
      "Emotion: love - No. of texts: 2\n",
      "Emotion: anger - No. of texts: 107\n",
      "Emotion: sadness - No. of texts: 26\n"
     ]
    }
   ],
   "source": [
    "print('FALSE NEGATIVES')\n",
    "map_texts_to_emotions(\n",
    "    text_ids=list(false_negatives_df['id'].values),\n",
    "    is_test=True\n",
    ")\n",
    "\n",
    "print('\\nFALSE POSITIVES')\n",
    "map_texts_to_emotions(\n",
    "    text_ids=list(false_positives_df['id'].values),\n",
    "    is_test=True\n",
    ")"
   ]
  }
 ],
 "metadata": {
  "kernelspec": {
   "display_name": "venv",
   "language": "python",
   "name": "python3"
  },
  "language_info": {
   "codemirror_mode": {
    "name": "ipython",
    "version": 3
   },
   "file_extension": ".py",
   "mimetype": "text/x-python",
   "name": "python",
   "nbconvert_exporter": "python",
   "pygments_lexer": "ipython3",
   "version": "3.10.6"
  },
  "orig_nbformat": 4,
  "vscode": {
   "interpreter": {
    "hash": "00f7dc61815a6da5453fee0a1d7c3baaa88d552412e55cf65ecdf10d17265d5d"
   }
  }
 },
 "nbformat": 4,
 "nbformat_minor": 2
}

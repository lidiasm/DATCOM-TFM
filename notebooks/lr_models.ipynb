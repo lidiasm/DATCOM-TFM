{
 "cells": [
  {
   "attachments": {},
   "cell_type": "markdown",
   "metadata": {},
   "source": [
    "# Modelos de Regresión Logística\n",
    "\n",
    "## 1. Introducción a la Regresión Logística\n",
    "\n",
    "Se trata de un **algoritmo estadístico** cuyo objetivo es aproximar una **función matemática acotada** en el intervalo [0, 1]. Así permite la estimación de las **probabilidades de pertenencia** de cada muestra a las distintas clases. Como la detección de sexismo es un problema de clasificación binario, se establece el umbral en 0.5 con el que asignar una clase a cada instancia aplicando las siguientes casuísticas:\n",
    "\n",
    "* Si la probabilidad es **menor que 0.5** entonces la clase es **no sexista** (categoría 0). \n",
    "* Si la probabilidad es **mayor que 0.5** entonces la clase es **sexista** (categoría 1).\n",
    "\n",
    "### 1.1. Condiciones de uso\n",
    "\n",
    "* **Mínima correlación** entre los predictores o variables independientes.\n",
    "* La existencia de una **relación lineal** entre los predictores y la probabilidad de cada variable dependiente.\n",
    "* Mínima existencia de **outliers**.\n",
    "* Conjunto de datos razonáblemente amplio.\n",
    "\n",
    "### 1.2. Casos de uso\n",
    "\n",
    "1. Construir **modelos lineales** para solventar problemas de clasificación cuyos datos son fácilmente separables.\n",
    "\n",
    "2. Comprobar de la existencia de **relaciones lineales** entre los predictores y la variable dependiente en función de los valores de los coeficientes del hiperplano.\n",
    "\n",
    "   - Si es 0 significa que **no existe una relación lineal** entre un predictor y la variable dependiente por lo que dicho predictor no ayuda en su predicción.\n",
    "\n",
    "   - Si es mayor que 0 supone un crecimiento simultáneo del predictor al aumentar la variable dependiente, mientras que si es menor que 0 simboliza el incremento del predictor cuando disminuye la variable dependiente. Aunque en ambos casos el **predictor puede ser útil para predecir** la clase de una muestra."
   ]
  },
  {
   "attachments": {},
   "cell_type": "markdown",
   "metadata": {},
   "source": [
    "## 2. Estructura del notebook\n",
    "\n",
    "1. Introducción a la Regresión Logística\n",
    "2. Estructura del notebook\n",
    "3. Instalación y carga de librerías\n",
    "4. Lectura y carga de datos\n",
    "5. Técnicas de codificación de textos\n",
    "6. Experimentos y modelos\n",
    "7. Conclusiones"
   ]
  },
  {
   "attachments": {},
   "cell_type": "markdown",
   "metadata": {},
   "source": [
    "## 3. Instalación y carga de librerías\n",
    "\n",
    "Este apartado tiene como único propósito cargar las librerías y dependencias necesarias para la ejecución de este notebook, así como las funciones propiamente desarrolladas. Previo a ello deberán ser instaladas bien ejecutando el script *setup.sh* mediante el comando `bash setup.sh` con permisos de ejecución en distribuciones Linux, o bien ejecutando el compando `pip install -r requirements.txt`."
   ]
  },
  {
   "cell_type": "code",
   "execution_count": 1,
   "metadata": {},
   "outputs": [
    {
     "name": "stderr",
     "output_type": "stream",
     "text": [
      "[nltk_data] Downloading package stopwords to /home/lidia/nltk_data...\n",
      "[nltk_data]   Package stopwords is already up-to-date!\n"
     ]
    }
   ],
   "source": [
    "import sys\n",
    "sys.path.append('../scripts')\n",
    "\n",
    "# Import data read and compute functions\n",
    "from data import read_training_dataset, read_testing_dataset\n",
    "\n",
    "# Import text preprocess functions\n",
    "from processing import *\n",
    "\n",
    "# Import LR models and validation metrics\n",
    "from sklearn.linear_model import LogisticRegression\n",
    "from sklearn import metrics\n",
    "from sklearn.metrics import ConfusionMatrixDisplay\n",
    "\n",
    "# Import plot lib to show the confussion matrixes\n",
    "import matplotlib.pyplot as plt"
   ]
  },
  {
   "attachments": {},
   "cell_type": "markdown",
   "metadata": {},
   "source": [
    "## 4. Lectura y carga de datos\n",
    "\n",
    "En esta sección se pretende **cargar los datasets de entrenamiento y validación** procedentes de los correspondientes ficheros situados en la carpeta *data*. Al tener un **formato TSV** se deben leer como tablas aunque posteriormente se trabaje con ellos en formato *dataframe*. \n",
    "\n",
    "Tal y como se puede comprobar en los siguientes resultados las dimensiones de sendos conjuntos de datos se detallan a continuación:\n",
    "\n",
    "* Conjunto de entrenamiento: **6.977 muestras**.\n",
    "* Conjunto de validación: **4.368 muestras**."
   ]
  },
  {
   "cell_type": "code",
   "execution_count": 2,
   "metadata": {},
   "outputs": [
    {
     "name": "stdout",
     "output_type": "stream",
     "text": [
      "Training dataset dimensions: (6977, 7)\n",
      "Testing dataset dimensions: (4368, 7)\n"
     ]
    }
   ],
   "source": [
    "# Read EXIST datasets\n",
    "training_df = read_training_dataset()\n",
    "testing_df = read_testing_dataset()\n",
    "\n",
    "# Show the dimensions of the datasets\n",
    "print(\"Training dataset dimensions:\", training_df.shape)\n",
    "print(\"Testing dataset dimensions:\", testing_df.shape)"
   ]
  },
  {
   "attachments": {},
   "cell_type": "markdown",
   "metadata": {},
   "source": [
    "## 5. Técnicas de codificación de textos\n",
    "\n",
    "### 5.1. Bolsa de palabras\n",
    "\n",
    "Es una técnica orientada a la **extracción de características** basada en **texto** que convierte cada documento en un vector de longitud fija a partir del cálculo de la frecuencia de sus términos. Si bien se trata de un procedimiento altamente sencillo y rápido de aplicar, **no** respeta el **orden de los términos** en los documentos y tampoco se considera el **contexto** de los mismos como consecuencia.\n",
    "\n",
    "### 5.2. TF-IDF\n",
    "\n",
    "Este procedimiento trata de codificar un conjunto de documentos considerando tanto la **frecuencia de los términos** en los textos como su **importancia relativa** con respecto a la población completa. Para ello calcula las frecuencias relativas y absolutas de todo el vocabulario disponible con las que posteriormente determinar el **grado de relevancia y representatividad** de los términos. Este método suele beneficiar con un mayor valor a aquellos conceptos con un menor número de ocurrencias. \n",
    "\n",
    "### 5.3. Word Embeddings\n",
    "\n",
    "El cometido de este método consiste en codificar **documentos o palabras** como vectores numéricos capturando las **características contextuales** en base a sus relaciones, definiciones de términos, similitudes semánticas y sintácticas. La principal cualidad más destacable es su capacidad de **detectar entidades similares** y generar representaciones numéricas altamente parecidas. Si bien se pueden **entrenar modelos** completamente personalizados a conjuntos de datos, también existen **modelos pre-entrenados** con *word embeddings* ya generados listos para ser empleados en la codificación.\n",
    "\n",
    "#### 5.3.1. Generación de Word Embeddings\n",
    "\n",
    "Existen multitud de técnicas con diferentes enfoques para el entrenamiento y creación de representaciones numéricas vectoriales a partir de documentos y las que se han decidido experimentar en este notebook se detallan a continuación:\n",
    "\n",
    "* **Word2Vec**: es una de las técnicas más populares para codificar a nivel de palabras. Los dos siguientes algoritmos son los que se encuentran disponibles para entrenar un modelo de esta tipología.\n",
    "\n",
    "   * **CBWO** (*Continuous Bag of Words*): esta primera arquitectura trata de **predecir el siguiente término dentro de un contexto determinado**. Se encuentra recomendada para **conjuntos de datos voluminosos** puesto que considera únicamente un vecindario de términos y tiende a representar mejor **conceptos frecuentes**.\n",
    "\n",
    "   * **Skip-Gram**: esta segunda arquitectura trata de **predecir los contextos asociados a un término** de entrada. Puede ser empleada sobre **conjuntos de datos pequeños** para detectar **diferentes significados** por palabra.\n",
    "\n",
    "* **Doc2Vec**: se trata de una versión muy similar a la técnica anterior aunque añadiendo un **nuevo vector numérico** que representa los **párrafos** existentes en los **documentos**. A continuación se presentan los dos algoritmos disponibles que se pueden aplicar para entrenar un modelo mediante esta técnica.\n",
    "\n",
    "   * **PV-DM** (*Distributed Memory Version of Paragraph Vector*): aplica métodos de **Aprendizaje No Supervisado** para aprender **vectores de características de tamaños estáticos** a partir de diferentes tipos de textos de longitud variable, como frases, párrafos y documentos. Así mediante las representaciones de los párrafos se compone un **contexto** que ayuda a **predecir el siguiente término** dentro de los documentos. Es un enfoque similar al *CBWO* de la técnica anterior.\n",
    "\n",
    "   * **PV-DBOW** (*Distributed Bag of Words Version of Paragraph Vector*): este algoritmo comparte el **enfoque del método anterior** aunque basado en el enfoque de la técnica previa denominada *Skip-Gram*, en el que se entrena un modelo para **predecir el contexto** de un documento en función de un conjunto términos.\n",
    "\n",
    "* **FastText**: esta codificación propuesta por Facebook tiene como objetivo la codificación de términos a partir de la **suma de las distintas representaciones morfológicas** que se encuentran en los documentos. Se trata de un algoritmo especialmente orientado a conjuntos de **datasets de gran tamaño y con vocabulario extraño** que permite al modelo codificar conceptos que incluso no ha conocido durante la fase de entrenamiento. De nuevo se encuentran disponibles las dos aproximaciones explicadas anteriormente en la técnica *Word2Vec* para escoger entre **CBWO** o **Skip-Gram**.\n",
    "\n",
    "### 5.3.2. Generación de Word Embeddings\n",
    "\n",
    "Un segundo enfoque para emplear word embeddings en la clasificación de textos consiste en utilizar **word embeddings pre-entrenados** sobre diferentes conjuntos de datos y configuraciones de modelos. Entre la multitud de ventajas que presenta esta aproximación se encuentra la idea de hacer uso de representaciones numéricas listas para utilizarse en *\"cualquier problema\"*, así como la existencia de distintas versiones basadas en distintas longitudes de poblaciones y técnicas de entrenamiento. A continuación se resumen los modelos pre-entrenados que se han experimentado en este notebook, todos ellos pertencientes a la librería `gensim`.\n",
    "\n",
    "* "
   ]
  },
  {
   "attachments": {},
   "cell_type": "markdown",
   "metadata": {},
   "source": [
    "## 6. Experimentos y modelos\n",
    "\n",
    "A continuación se detallan los experimentos más relevantes de entre las distintas pruebas realizadas mediante diversas combinaciones de técnicas de procesamiento de textos, codificación de documentos y algoritmos clásicos de Aprendizaje Automático. Dos nuevas funciones se han desarrollado para este notebook puesto que tanto el tratamiento de datos como la validación de modelos son dos procesos comunes a todos los experimentos."
   ]
  },
  {
   "cell_type": "code",
   "execution_count": 3,
   "metadata": {},
   "outputs": [],
   "source": [
    "def process_encode_datasets(lemm: bool, stemm: bool):\n",
    "    \"\"\"\n",
    "    Processes the sets of training and testing documents\n",
    "    and encodes the class labels of both datasets to convert\n",
    "    them into numeric labels.\n",
    "\n",
    "    Parameters\n",
    "    ----------\n",
    "    lemm : bool\n",
    "        True to lemmatize the texts, False to not apply it.\n",
    "    stemm : bool\n",
    "        True to apply stemming to the texts, False to not apply it.\n",
    "\n",
    "    Returns\n",
    "    -------\n",
    "    A dictionary with the processed data and the encoded labels.\n",
    "        - 'training_df': a Pandas dataframe with the processed training texts.\n",
    "        - 'testing_df': a Pandas dataframe with the processed testing texts.\n",
    "        - 'encoded_training_labels': a list of numeric values with the encoded training labels.\n",
    "        - 'encoded_testing_labels': a list of numeric values with the encoded testing labels.\n",
    "    \"\"\"\n",
    "    # Specific encoding for class labels\n",
    "    encoding = {\n",
    "        \"non-sexist\": 0, \n",
    "        \"sexist\": 1\n",
    "    }\n",
    "\n",
    "    return {\n",
    "        \"training_df\": text_processing_pipeline(\n",
    "            dataset=training_df, \n",
    "            text_col=\"text\", \n",
    "            lemm=lemm,\n",
    "            stemm=stemm, \n",
    "            language_col=\"language\"),\n",
    "        \"testing_df\":text_processing_pipeline(\n",
    "            dataset=testing_df, \n",
    "            text_col=\"text\", \n",
    "            lemm=lemm,\n",
    "            stemm=stemm, \n",
    "            language_col=\"language\"),\n",
    "        \"encoded_training_labels\": to_numeric_labels(\n",
    "            dataset=training_df, \n",
    "            column=\"task1\", \n",
    "            encoding=encoding),\n",
    "        \"encoded_testing_labels\": to_numeric_labels(\n",
    "            dataset=testing_df, \n",
    "            column=\"task1\", \n",
    "            encoding=encoding)\n",
    "    }"
   ]
  },
  {
   "cell_type": "code",
   "execution_count": 4,
   "metadata": {},
   "outputs": [],
   "source": [
    "def validate_lr_model(lr_model: LogisticRegression, \n",
    "    training_labels: list, training_preds: list, \n",
    "    testing_labels: list, testing_preds: list):\n",
    "    \"\"\"\n",
    "    Computes some validation metrics using a provided trained\n",
    "    Logistic Regression model as well as the true class labels \n",
    "    and the predictions over the training and testing datasets.\n",
    "\n",
    "    Parameters\n",
    "    ----------\n",
    "    lr_model : LogisticRegression\n",
    "        A trained Logistic Regression model to validate.\n",
    "    training_labels : list\n",
    "        A list of numeric values with the true training class labels.\n",
    "    training_preds : list\n",
    "        A list of numeric values with the predictions performed by the\n",
    "        trained model over the training dataset.\n",
    "    testing_labels : list\n",
    "        A list of numeric values with the true testing class labels.\n",
    "    testing_preds : list\n",
    "        A list of numeric values with the predictions performed by the\n",
    "        trained model over the testing dataset.\n",
    "\n",
    "    Returns\n",
    "    -------\n",
    "    None.\n",
    "    \"\"\"\n",
    "    # LR model validation over the training dataset\n",
    "    print(\"Training accuracy %.3f\" %metrics.accuracy_score(\n",
    "        y_true=training_labels, \n",
    "        y_pred=training_preds))\n",
    "\n",
    "    # LR model validation over the testing dataset\n",
    "    print(\"Test accuracy %.3f\" %metrics.accuracy_score(\n",
    "        y_true=testing_labels, \n",
    "        y_pred=testing_preds))\n",
    "\n",
    "    # Area of the ROC curve for the testing dataset\n",
    "    print(\"AUC %.3f\" %metrics.roc_auc_score(\n",
    "        y_true=testing_labels, \n",
    "        y_score=testing_preds))\n",
    "\n",
    "    # Create and plot a confusion matrix for the testing dataset\n",
    "    ConfusionMatrixDisplay(\n",
    "        confusion_matrix=metrics.confusion_matrix(\n",
    "            y_true=testing_labels, \n",
    "            y_pred=testing_preds), \n",
    "        display_labels=lr_model.classes_).plot()\n",
    "    plt.show()"
   ]
  },
  {
   "attachments": {},
   "cell_type": "markdown",
   "metadata": {},
   "source": [
    "### 6.1. Primer experimento: Bolsa de palabras\n",
    "\n",
    "- **Procesamiento** de los conjuntos de entrenamiento y validación, incluyendo las siguientes técnicas:\n",
    "\n",
    "  - Elimina caracteres especiales, no alfabéticos y signos de puntuación.\n",
    "  - Elimina hashtags y menciones de usuarios.\n",
    "  - Elimina *stopwords* de los documentos en inglés y español.\n",
    "  - Convierte todos los caracteres en minúsculas.\n",
    "  - Convierte todos los términos a su raíz (**stemming**). Con esta técnica en particular el rendimiento del modelo aumenta únicamente en un 1% de *accuracy* y AUC aunque el **gasto temporal y computacional** es considerablemente **menor**.\n",
    "\n",
    "- \n",
    "- **Codificación** de la variable dependiente *task1* a **etiquetas numéricas** en los conjuntos de entrenamiento y validación, estableciendo la asignación *non-sexist*~0 y *sexist*~1.\n",
    "\n",
    "- Generación de una **bolsa de palabras** para entrenamiento y otra para validación como codificación de documentos en valores numéricos.\n",
    "\n",
    "- Entrenamiento, hiperparametrización y validación con **Regresión Logística** para la construcción de varios modelos, siendo la siguiente configuración la que mejores resultados de validación ha conseguido:\n",
    "\n",
    "  - **Regularización L1** es la penalización que ha conseguido el *accuracy* y área sobre la curva ROC más elevados gracias a su tendencia de minimizar los coeficientes a cero. Mientras que con la **regularización L2** se consiguen también unos **resultados similares**, si no se aplica penalización ambas métricas descienden más de 5 puntos. Por lo tanto se concluye que la **aplicación de regularización** para un modelo de tales características y sobre este conjunto de datos es necesaria para **reducir el overfitting**, ya que el *accuracy* de entrenamiento es muy superior al de validación.\n",
    "\n",
    "  - El **valor de la penalización** establecido que mejor rendimiento proporciona se encuentra **muy cercano a cero**, siendo el intervalo posible [0, infinito]. Este hecho nos indica que para aumentar la capacidad de predicción de un modelo con Regresión Logística y el conjunto de datos EXIST2022, es necesario aplicar una **fortísima penalización** con motivo de **reducir el overfitting** que tiende a aparecer."
   ]
  },
  {
   "cell_type": "code",
   "execution_count": 5,
   "metadata": {},
   "outputs": [],
   "source": [
    "# Process the training and testing documents\n",
    "# Encode the class labels to numeric values for training and testing datasets\n",
    "process_data = process_encode_datasets(\n",
    "    lemm=False, \n",
    "    stemm=True)\n",
    "\n",
    "# Encode documents as bags of words for training and testing texts\n",
    "bag_words = to_bag_of_words(\n",
    "    training_docs=list(process_data[\"training_df\"][\"cleaned_text\"].values), \n",
    "    testing_docs=list(process_data[\"testing_df\"][\"cleaned_text\"].values))\n",
    "\n",
    "# Create and configure a LR model\n",
    "lr_model1 = LogisticRegression(\n",
    "    multi_class=\"ovr\", \n",
    "    solver=\"liblinear\", \n",
    "    penalty=\"l1\", \n",
    "    C=0.3)\n",
    "\n",
    "# Train the LR model\n",
    "lr_model1.fit(\n",
    "    X=bag_words[\"training\"], \n",
    "    y=process_data[\"encoded_training_labels\"])\n",
    "\n",
    "# Predict over the training dataset\n",
    "lr1_training_preds = lr_model1.predict(X=bag_words[\"training\"])\n",
    "\n",
    "# Predict over the testing dataset\n",
    "lr1_testing_preds = lr_model1.predict(X=bag_words[\"testing\"])"
   ]
  },
  {
   "attachments": {},
   "cell_type": "markdown",
   "metadata": {},
   "source": [
    "Tal y como se observa en los siguientes resultados que representan la validación del modelo, sobre el conjunto de **entrenamiento** consigue un **77% de aciertos**, mientras que para el de **test** únicamente alcanza un **70% de aciertos**. Por lo tanto no se puede considerar un modelo competente puesto que al intentar identificar un texto como sexista o no sexista falla prácticamente un 30% del total de muestras. \n",
    "\n",
    "Si se estudia la matriz de confusión se aprecia la existencia de una **concentración de falsos negativos**, puesto que más de ochocientos **textos sexistas no han sido detectados** por el modelo. Este fenómeno ya se anticipaba durante la recopilación de información sobre los conjuntos de datos, ya que dependiendo del lenguaje utilizado en los documentos, su identificación puede llegar a ser bastante compleja de realizar automáticamente."
   ]
  },
  {
   "cell_type": "code",
   "execution_count": 6,
   "metadata": {},
   "outputs": [
    {
     "name": "stdout",
     "output_type": "stream",
     "text": [
      "Training accuracy 0.777\n",
      "Test accuracy 0.708\n",
      "AUC 0.712\n"
     ]
    },
    {
     "data": {
      "image/png": "[encoded data removed]",
      "text/plain": [
       "<Figure size 640x480 with 2 Axes>"
      ]
     },
     "metadata": {},
     "output_type": "display_data"
    }
   ],
   "source": [
    "validate_lr_model(\n",
    "    lr_model=lr_model1, \n",
    "    training_labels=process_data[\"encoded_training_labels\"], \n",
    "    training_preds=lr1_training_preds, \n",
    "    testing_labels=process_data[\"encoded_testing_labels\"],\n",
    "    testing_preds=lr1_testing_preds)"
   ]
  },
  {
   "attachments": {},
   "cell_type": "markdown",
   "metadata": {},
   "source": [
    "### 6.2. Segundo experimento: TF-IDF\n",
    "\n",
    "La configuración tanto de los datasets como del modelo son idénticas a las explicadas en el anterior experimento, a excepción de los dos siguientes aspectos:\n",
    "\n",
    "* La **codificación de textos** se ha realizado aplicando la técnica denominada **TF-IDF**. \n",
    "\n",
    "* La **regularización** escogida en este caso ha sido la **L2** con un valor de penalización por defecto establecido en 1.0 puesto que al aumentarlo (menos penalización) el sobreajuste incrementaba considerablemente, mientas que al decrementar el valor (más penalización) el rendimiento del modelo empeoraba ligeramente."
   ]
  },
  {
   "cell_type": "code",
   "execution_count": 7,
   "metadata": {},
   "outputs": [],
   "source": [
    "# Process the training and testing documents\n",
    "# Encode the class labels to numeric values for training and testing datasets\n",
    "process_data = process_encode_datasets(\n",
    "    lemm=False, \n",
    "    stemm=True)\n",
    "\n",
    "# Encode documents as TF-IDF values for training and testing texts\n",
    "tf_idf = to_tf_idf(\n",
    "    training_docs=list(training_df[\"cleaned_text\"].values), \n",
    "    testing_docs=list(testing_df[\"cleaned_text\"].values))\n",
    "\n",
    "# Create and configure a LR model\n",
    "lr_model2 = LogisticRegression(\n",
    "    multi_class=\"ovr\", \n",
    "    solver=\"liblinear\")\n",
    "\n",
    "# Train the LR model\n",
    "lr_model2.fit(\n",
    "    X=tf_idf[\"training\"], \n",
    "    y=process_data[\"encoded_training_labels\"])\n",
    "\n",
    "# Predict over the training dataset\n",
    "lr2_training_preds = lr_model2.predict(X=tf_idf[\"training\"])\n",
    "\n",
    "# Predict over the testing dataset\n",
    "lr2_testing_preds = lr_model2.predict(X=tf_idf[\"testing\"])"
   ]
  },
  {
   "attachments": {},
   "cell_type": "markdown",
   "metadata": {},
   "source": [
    "Tal y como se puede observar en los siguientes resultados, este segundo modelo parece caracterizarse por un **mayor sobreajuste** que el anterior puesto que la tasa de aciertos de entrenamiento es más de 14 puntos con respecto al conjunto de test. Un aspecto interesante ha sido la posibilidad de ajustar la configuración de entrenamiento obteniendo distintos resultados tras involucrar a una nueva técnica de codificación de textos. Con la misma **configuración anterior** el modelo del segundo experimento disponía de un **menor sobreajuste pero también un menor rendimiento**, mientras que con esta nueva configuración se dispara la tasa de aciertos en entrenamiento mientras que se resiente considerablemente en validación."
   ]
  },
  {
   "cell_type": "code",
   "execution_count": 8,
   "metadata": {},
   "outputs": [
    {
     "name": "stdout",
     "output_type": "stream",
     "text": [
      "Training accuracy 0.876\n",
      "Test accuracy 0.710\n",
      "AUC 0.713\n"
     ]
    },
    {
     "data": {
      "image/png": "[encoded data removed]",
      "text/plain": [
       "<Figure size 640x480 with 2 Axes>"
      ]
     },
     "metadata": {},
     "output_type": "display_data"
    }
   ],
   "source": [
    "validate_lr_model(\n",
    "    lr_model=lr_model2, \n",
    "    training_labels=process_data[\"encoded_training_labels\"], \n",
    "    training_preds=lr2_training_preds, \n",
    "    testing_labels=process_data[\"encoded_testing_labels\"],\n",
    "    testing_preds=lr2_testing_preds)"
   ]
  },
  {
   "attachments": {},
   "cell_type": "markdown",
   "metadata": {},
   "source": [
    "### 6.3. Tercer experimento: generación de embeddings\n",
    "\n",
    "#### 6.3.1. Word2Vec embeddings\n",
    "\n",
    "En este nuevo experimento la configuración de los conjuntos de datos es similar a las anteriores así como la del propio modelo de Regresión Logística, destacando los siguientes aspectos:\n",
    "\n",
    "* La **codificación de textos** se ha realizado aplicando la técnica denominada **Word2Vec** para generar *word embeddings* personalizados a los datasets. \n",
    "\n",
    "* La **regularización** escogida en este caso ha sido la **L2** puesto que se presenta una casuística parecida a la explicada en el experimento anterior."
   ]
  },
  {
   "cell_type": "code",
   "execution_count": 9,
   "metadata": {},
   "outputs": [],
   "source": [
    "# Process the training and testing documents\n",
    "# Encode the class labels to numeric values for training and testing datasets\n",
    "process_data = process_encode_datasets(\n",
    "    lemm=False, \n",
    "    stemm=True)\n",
    "\n",
    "# Encode documents as word embeddings for training and testing texts\n",
    "word2vec = word2vec_pipeline(\n",
    "    training_df=training_df, \n",
    "    training_text_col=\"cleaned_text\", \n",
    "    testing_df=testing_df, \n",
    "    testing_text_col=\"cleaned_text\",\n",
    "    vector_size=100, \n",
    "    window=2, \n",
    "    min_count=4, \n",
    "    epochs=7, \n",
    "    alg=0)\n",
    "\n",
    "# Create and configure a LR model\n",
    "lr_model3 = LogisticRegression(\n",
    "    multi_class=\"ovr\", \n",
    "    solver=\"liblinear\")\n",
    "\n",
    "# Train the LR model\n",
    "lr_model3.fit(\n",
    "    X=word2vec[\"training\"], \n",
    "    y=process_data[\"encoded_training_labels\"])\n",
    "\n",
    "# Predict over the training dataset\n",
    "lr3_training_preds = lr_model3.predict(X=word2vec[\"training\"])\n",
    "\n",
    "# Predict over the testing dataset\n",
    "lr3_testing_preds = lr_model3.predict(X=word2vec[\"testing\"])"
   ]
  },
  {
   "attachments": {},
   "cell_type": "markdown",
   "metadata": {},
   "source": [
    "Tras probar diversos valores para los distintos parámetros de la codificación de textos se han podido obtener las siguientes conclusiones:\n",
    "\n",
    "* El rango para el parámetro *vector_size* se encuentra alrededor de 100 por lo que es necesario aumentar el tamaño de los embeddings para almacenar una **mayor cantidad de vocabulario** con la que posteriormente codificar los documentos de una manera más precisa y sin perder tanta información que con longitudes menores.\n",
    "\n",
    "* El valor del parámetro *min_count* también es relevante puesto que si **aumenta demasiado el vocabulario** puede contener **demasiado ruido** y por ende las representaciones resultantes perjudican el rendimiento del clasificador. No obstante, si el valor es muy elevado el **vocabulario se reduce drásticamente perdiendo información**.\n",
    "\n",
    "* Una situación similar ocurre con el número de **iteraciones** puesto que a **mayor número, más sobreajuste** puesto que mayor es la diferencia entre los aciertos de entrenamiento y validación, aunque si se **decrementa demasiado** el modelo puede no tener suficiente tiempo como para estudiar los datos y perder información **disminuyendo su rendimiento**.\n",
    "\n",
    "* En relación al algoritmo utilizado para la codificación ha sido **CBWO** el que mejores resultados ha proporcionado siendo hasta un 5% más elevado en las tres métricas escogidas con respecto al algoritmo Skip-Gram. Por lo tanto para este conjunto de datos y utilizando Regresión Logística, es más factible intentar **predecir el siguiente término a partir del contexto** que no aplicando la arquitectura inversa.\n",
    "\n",
    "* Finalmente se ha experimentado a entrenar un único modelo Word2Vec generando un vocabulario con sendos datasets, con únicamente el de entrenamiento o dos modelos, uno para cada conjunto. De las tres configuraciones la que mejores valores métricos ha conseguido ha sido la última en la que se entrena **un modelo Word2Vec por dataset**. Una de las posibles teorías explicativas de este fenómeno reside en que si bien el conjunto de entrenamiento solo está compuesto por *tweets*, el de validación también dispone de documentos procedentes de una segunda red social llamada *Gab* y un alto contenido en noticias, por lo que la **terminología** parece ser **considerablemente diferente entre datasets**.\n",
    "\n",
    "Aún así las métricas reflejan un **clasificador prácticamente aleatorio** con muchísima menor capacidad de predicción que los anteriores que emplean otras codificaciones de textos. A diferencia de los experimentos anteriores, en este se presenta una **desmesurada tasa de falsos positivos**, es decir, textos no sexistas clasificados como positivos."
   ]
  },
  {
   "cell_type": "code",
   "execution_count": 10,
   "metadata": {},
   "outputs": [
    {
     "name": "stdout",
     "output_type": "stream",
     "text": [
      "Training accuracy 0.559\n",
      "Test accuracy 0.478\n",
      "AUC 0.500\n"
     ]
    },
    {
     "data": {
      "image/png": "[encoded data removed]",
      "text/plain": [
       "<Figure size 640x480 with 2 Axes>"
      ]
     },
     "metadata": {},
     "output_type": "display_data"
    }
   ],
   "source": [
    "validate_lr_model(\n",
    "    lr_model=lr_model3, \n",
    "    training_labels=process_data[\"encoded_training_labels\"], \n",
    "    training_preds=lr3_training_preds, \n",
    "    testing_labels=process_data[\"encoded_testing_labels\"],\n",
    "    testing_preds=lr3_testing_preds)"
   ]
  },
  {
   "attachments": {},
   "cell_type": "markdown",
   "metadata": {},
   "source": [
    "#### 6.3.2. Doc2Vec embeddings\n",
    "\n",
    "Al igual que con la versión anterior se replica la misma configuración de los conjuntos de entrenamiento y validación para entrenar un modelo con Regresión Logística destacando los siguientes aspectos más relevantes:\n",
    "\n",
    "* La **codificación de textos** se ha realizado aplicando la técnica denominada **Doc2Vec** para generar *word embeddings* personalizados a los datasets. \n",
    "\n",
    "* La **regularización** escogida en este caso ha sido la **L2** con un valor ligeramente superior al valor por defecto por lo que aplicando una **menor penalización** el modelo presenta **mejores resultados**. Tanto con una mayor penalización como aplicando la regularización L1, los resultados de las métricas descienden hasta en más de 3 puntos. "
   ]
  },
  {
   "cell_type": "code",
   "execution_count": 11,
   "metadata": {},
   "outputs": [],
   "source": [
    "# Process the training and testing documents\n",
    "# Encode the class labels to numeric values for training and testing datasets\n",
    "process_data = process_encode_datasets(\n",
    "    lemm=False, \n",
    "    stemm=True)\n",
    "\n",
    "# Encode documents as doc embeddings for training and testing texts\n",
    "doc2vec = doc2vec_pipeline(\n",
    "    training_df=training_df, \n",
    "    training_text_col=\"cleaned_text\", \n",
    "    testing_df=testing_df, \n",
    "    testing_text_col=\"cleaned_text\", \n",
    "    vector_size=200, \n",
    "    window=5, \n",
    "    min_count=10, \n",
    "    epochs=2, \n",
    "    alg=1)\n",
    "\n",
    "# Create and configure a LR model\n",
    "lr_model4 = LogisticRegression(\n",
    "    multi_class=\"ovr\", \n",
    "    solver=\"liblinear\", \n",
    "    penalty=\"l2\", \n",
    "    C=1.5)\n",
    "\n",
    "# Train the LR model\n",
    "lr_model4.fit(\n",
    "    X=doc2vec[\"training\"], \n",
    "    y=process_data[\"encoded_training_labels\"])\n",
    "\n",
    "# Predict over the training dataset\n",
    "lr4_training_preds = lr_model4.predict(X=doc2vec[\"training\"])\n",
    "\n",
    "# Predict over the testing dataset\n",
    "lr4_testing_preds = lr_model4.predict(X=doc2vec[\"testing\"])"
   ]
  },
  {
   "attachments": {},
   "cell_type": "markdown",
   "metadata": {},
   "source": [
    "Tras probar diversos valores para los distintos parámetros de la codificación de textos se han podido obtener las siguientes conclusiones:\n",
    "\n",
    "* El rango para el parámetro *vector_size* es más elevado que con la técnica *Word2Vec* necesitando **vectores de mayor longitud** para encapsular más información que ayude al modelo a obtener un mejor rendimiento. La teoría explicativa más plausible para este aumento de tamaño puede estar relacionada con la característica adicional que presenta esta variante al incluir la **representación de los párrafos** en los que se encuentran los términos, ya que ocupan una mayor longitud que los propios conceptos.\n",
    "\n",
    "* El valor del parámetro *min_count* también ha **aumentado su valor** para mejorar el rendimiento del modelo por lo que parece necesario **restringir más los términos** que aparecen en el vocabulario que en la variante anterior. Así se obtiene un vocabulario más preciso pese a que la representación de los textos ocupe una mayor cantidad de memoria.\n",
    "\n",
    "* Una situación similar ocurre con el número de **iteraciones** puesto que a **mayor número, más sobreajuste** puesto que mayor es la diferencia entre los aciertos de entrenamiento y validación, aunque si se **decrementa demasiado** el modelo puede no tener suficiente tiempo como para estudiar los datos y perder información **disminuyendo su rendimiento**.\n",
    "\n",
    "* Mientras que los experimentos con el algoritmo **PV-DBOW apenas han hecho variar el rendimiento del modelo**, la segunda opción **PV-DM** es la que ha proporcionado una **mayor variabilidad y respuesta** ante los cambios de los parámetros y por ende el mejor modelo encontrado para esta configuración. De nuevo el enfoque de entrenamiento de *embeddings* que parece ser más efectivo es la **predicción de términos a partir de un contexto** proporcionado.\n",
    "\n",
    "A pesar de las diferencias destacadas entre ambas técnicas, este nuevo clasificador resultante también presenta un **comportamiento prácticamente aleatorio** por sus ínfimas tasas de aciertos tanto en entrenamiento como en validación, además de un valor AUC casi despreciable que confirma el nulo aprendizaje del modelo. Como en el experimento previo destaca una fortísima tasa de **falsos positivos** si observamos la matriz de confusión."
   ]
  },
  {
   "cell_type": "code",
   "execution_count": 12,
   "metadata": {},
   "outputs": [
    {
     "name": "stdout",
     "output_type": "stream",
     "text": [
      "Training accuracy 0.530\n",
      "Test accuracy 0.483\n",
      "AUC 0.499\n"
     ]
    },
    {
     "data": {
      "image/png": "[encoded data removed]",
      "text/plain": [
       "<Figure size 640x480 with 2 Axes>"
      ]
     },
     "metadata": {},
     "output_type": "display_data"
    }
   ],
   "source": [
    "validate_lr_model(\n",
    "    lr_model=lr_model4, \n",
    "    training_labels=process_data[\"encoded_training_labels\"], \n",
    "    training_preds=lr4_training_preds, \n",
    "    testing_labels=process_data[\"encoded_testing_labels\"],\n",
    "    testing_preds=lr4_testing_preds)"
   ]
  },
  {
   "attachments": {},
   "cell_type": "markdown",
   "metadata": {},
   "source": [
    "#### 6.3.3. FastText embeddings\n",
    "\n",
    "Tras realizar múltiples experimentos con distintas combinaciones de técnicas de procesamiento de textos, hiperparametrización para construir un modelo de codificación de textos utilizando FastText así como una segunda hiperparametrización para configurar el clasificador con Regresión Logística, **ninguno de los modelos proporcionados han sido capaces de mejorar el rendimiento** demostrado hasta el momento. Sus métricas son muy similares al experimento anterior con *Doc2Vec* por lo que **no parece aportar ningún valor para su inclusión** en este notebook.\n",
    "\n",
    "Una posible teoría explicativa fundamentada en la definición de *FastText* puede residir en el **escaso volumen de documentos** disponibles para el problema de sexismo que se trata de abordar. \n"
   ]
  },
  {
   "attachments": {},
   "cell_type": "markdown",
   "metadata": {},
   "source": [
    "#### 6.3.4. Embeddings pre-entrenados\n"
   ]
  },
  {
   "cell_type": "code",
   "execution_count": 13,
   "metadata": {},
   "outputs": [],
   "source": [
    "# Process the training and testing documents\n",
    "# Encode the class labels to numeric values for training and testing datasets\n",
    "process_data = process_encode_datasets(\n",
    "    lemm=False, \n",
    "    stemm=True)\n",
    "\n",
    "# Download and load pre-trained models with ready-to-use embeddings\n",
    "trained_embeddings = trained_embeddings_pipeline(\n",
    "    training_df=training_df, \n",
    "    training_text_col=\"cleaned_text\", \n",
    "    testing_df=testing_df, \n",
    "    testing_text_col=\"cleaned_text\", \n",
    "    model=\"word2vec-ruscorpora-300\",\n",
    "    vector_size=100)\n",
    "\n",
    "# Create and configure a LR model\n",
    "lr_model5 = LogisticRegression(\n",
    "    multi_class=\"ovr\", \n",
    "    solver=\"liblinear\")\n",
    "\n",
    "# Train the LR model\n",
    "lr_model5.fit(\n",
    "    X=trained_embeddings[\"training\"], \n",
    "    y=process_data[\"encoded_training_labels\"])\n",
    "\n",
    "# Predict over the training dataset\n",
    "lr5_training_preds = lr_model5.predict(X=trained_embeddings[\"training\"])\n",
    "\n",
    "# Predict over the testing dataset\n",
    "lr5_testing_preds = lr_model5.predict(X=trained_embeddings[\"testing\"])"
   ]
  },
  {
   "cell_type": "code",
   "execution_count": 14,
   "metadata": {},
   "outputs": [
    {
     "name": "stdout",
     "output_type": "stream",
     "text": [
      "Training accuracy 0.516\n",
      "Test accuracy 0.478\n",
      "AUC 0.500\n"
     ]
    },
    {
     "data": {
      "image/png": "[encoded data removed]",
      "text/plain": [
       "<Figure size 640x480 with 2 Axes>"
      ]
     },
     "metadata": {},
     "output_type": "display_data"
    }
   ],
   "source": [
    "validate_lr_model(\n",
    "    lr_model=lr_model5, \n",
    "    training_labels=process_data[\"encoded_training_labels\"], \n",
    "    training_preds=lr5_training_preds, \n",
    "    testing_labels=process_data[\"encoded_testing_labels\"],\n",
    "    testing_preds=lr5_testing_preds)"
   ]
  },
  {
   "attachments": {},
   "cell_type": "markdown",
   "metadata": {},
   "source": [
    "## 7. Conclusiones\n",
    "\n",
    "Después de experimentar con diferentes configuraciones de codificación de textos y entrenamiento de modelos con Regresión Logística, a continuación se resumen las claves más relevantes que se han extraído durante la generación de este notebook:\n",
    "\n",
    "* Si bien la técnica con la que entrenar los clasificadores es profundamente sencilla, como la Regresión Logística, el **objetivo se orientaba más hacia el estudio y comprensión de diversas metodologías de codificación de textos**. Por lo tanto debemos considerar que los resultados obtenidos **no permiten descartar** a unas u otras puesto que la Regresión Logística no está pensada para abordar problemas de clasificación de textos.\n",
    "\n",
    "* De las experimentaciones realizadas destacan principalmente las dos primeras en las que se empleaban **Bolsas de Palabras** y **TF-IDF** por sus **mejores resultados** en base a las métricas consideradas de *accuracy* en entrenamiento y test, *AUC* y matriz de confusión. Si bien han sido **las más sencillas** de conocer, implementar y analizar, han demostrado disponer de una **suficiente capacidad de representación** para construir clasificadores medianamente decentes con un algoritmo estadístico como es la Regresión Logística.\n",
    "\n",
    "* En relación al **entrenamiento de word embeddings personalizados** en los conjuntos de datos se han podido experimentar con diversas técnicas que son prácticamente **variantes de Word2Vec**. En estos casos los **resultados no han sido aceptables** pero de nuevo intuyo un gran potencial si son combinados con arquitecturas más complejas y específicamente diseñadas para la clasificación de textos, como redes LSTM.\n",
    "\n",
    "* Una conclusión general a todos los modelos ha sido el **aumento del sobreajuste** presentado conforme **aumenta la complejidad de la codificación de textos**. Este fenómeno probablemente esté únicamente asociado al empleo de la Regresión Logística para la construcción de los clasificadores pero ha sido inesperado por mi parte y por tanto debe ser destacado como precaución a tomar en el uso de arquitecturas más complejas."
   ]
  }
 ],
 "metadata": {
  "kernelspec": {
   "display_name": "venv",
   "language": "python",
   "name": "python3"
  },
  "language_info": {
   "codemirror_mode": {
    "name": "ipython",
    "version": 3
   },
   "file_extension": ".py",
   "mimetype": "text/x-python",
   "name": "python",
   "nbconvert_exporter": "python",
   "pygments_lexer": "ipython3",
   "version": "3.10.6"
  },
  "orig_nbformat": 4,
  "vscode": {
   "interpreter": {
    "hash": "00f7dc61815a6da5453fee0a1d7c3baaa88d552412e55cf65ecdf10d17265d5d"
   }
  }
 },
 "nbformat": 4,
 "nbformat_minor": 2
}

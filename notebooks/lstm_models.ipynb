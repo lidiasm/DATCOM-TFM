{
 "cells": [
  {
   "attachments": {},
   "cell_type": "markdown",
   "metadata": {},
   "source": [
    "# Modelos LSTM\n",
    "\n",
    "## 1. Introducción a LSTM\n",
    "\n",
    "LSTM es un acrónimo de *Long-Short Term Memory* y representa a un **subtipo de RNN** (*Recurrent Neural Network*) capaz de **retener información relevante** sobre datos ya procesados que ayude al procesamiento de nuevas secuencias de datos completas. Su arquitectura se encuentra compuesta a su vez por tres redes neuronales:\n",
    "\n",
    "* ***Forget Gate***: este primer modelo es el encargado de filtrar qué información previa es útil para su almacenamiento y qué datos ya no son útiles para futuras iteraciones. \n",
    "\n",
    "* ***Input Gate***: esta segunda red trata de determinar el valor que presentan los datos entrantes para resolver la tarea de clasificación.\n",
    "\n",
    "* ***Output Gate***: finalmente esta red calcula las salidas del modelo LSTM que dependerán de la tarea de clasificación que se pretende abordar.\n",
    "\n",
    "### 1.1. Condiciones de uso\n",
    "\n",
    "Dependiendo del framework que se pretenda utilizar (Tensorflow, Keras, Pytorch) existen diferentes tratamientos de datos y requisitos de implementación que se deben cumplir al definir la arquitectura, entrenamiento y validación de modelos. En mi caso particular he optado por utilizar **Keras** debido a la experiencia previa que tengo con la librería y a su facilidad de uso. \n",
    "\n",
    "1. **Procesamiento y limpieza** de los documentos.\n",
    "\n",
    "2. **Tokenización** de los documentos especificando un token para aquellos términos que no sean reconocidos dentro de un vocabulario de palabras.\n",
    "\n",
    "3. **Codificación** numérica en forma de matrices secuenciales de valores. \n",
    "\n",
    "5. **Normalización** de las secuencias numéricas para establecer un mismo tamaño fijo, completando con ceros aquellas de menor longitud y separando en varias secuencias aquellas que dispongan de un mayor tamaño.\n",
    "\n",
    "6. Definición de la arquitectura de un **modelo** e instanciación para su posterior entrenamiento y validación.\n",
    "\n",
    "### 1.2. Casos de uso\n",
    "\n",
    "* Detección y extracción de patrones en secuencias de datos.\n",
    "* Modelado del lenguaje natural.\n",
    "* Traducción de texto.\n",
    "* Reconocimiento de textos manuscritos.\n",
    "* Generación de imágenes mediante mecanismos de atención.\n",
    "* Sistemas de preguntas y respuestas.\n",
    "* Conversión de vídeo a texto."
   ]
  },
  {
   "attachments": {},
   "cell_type": "markdown",
   "metadata": {},
   "source": [
    "## 2. Estructura del notebook\n",
    "\n",
    "1. Introducción a LSTM\n",
    "2. Estructura del notebook\n",
    "3. Instalación y carga de librerías\n",
    "4. Lectura y carga de datos\n",
    "5. Experimentos y modelos\n",
    "6. Conclusiones"
   ]
  },
  {
   "attachments": {},
   "cell_type": "markdown",
   "metadata": {},
   "source": [
    "## 3. Instalación y carga de librerías\n",
    "\n",
    "Este apartado tiene como único propósito cargar las librerías y dependencias necesarias para la ejecución de este notebook, así como las funciones propiamente desarrolladas. Previo a ello deberán ser instaladas bien ejecutando el script *setup.sh* mediante el comando `bash setup.sh` con permisos de ejecución en distribuciones Linux, o bien ejecutando el compando `pip install -r requirements.txt`."
   ]
  },
  {
   "cell_type": "code",
   "execution_count": 17,
   "metadata": {},
   "outputs": [],
   "source": [
    "%%capture\n",
    "\n",
    "# !pip install -r ../requirements.txt\n",
    "\n",
    "import sys\n",
    "sys.path.append('../scripts')\n",
    "\n",
    "# Import data read and compute functions\n",
    "from data import read_train_dataset, read_test_dataset\n",
    "\n",
    "# Import text preprocess functions\n",
    "from processing import *\n",
    "\n",
    "# numpy: to work with numeric codifications and embeddings\n",
    "import numpy as np\n",
    "\n",
    "# keras: to define and build LSTM models\n",
    "from keras.preprocessing.text import Tokenizer\n",
    "from keras.utils import pad_sequences\n",
    "from keras.layers import LSTM, Activation, Dense, Dropout, Input, Embedding\n",
    "from keras.models import Model\n",
    "from keras.optimizers import RMSprop\n",
    "\n",
    "# sklearn: to plot a confusion matrix per trained model\n",
    "from sklearn.metrics import ConfusionMatrixDisplay\n",
    "from sklearn.metrics import confusion_matrix\n",
    "\n",
    "# matplotlib: to plot charts\n",
    "import matplotlib.pyplot as plt"
   ]
  },
  {
   "attachments": {},
   "cell_type": "markdown",
   "metadata": {},
   "source": [
    "## 4. Lectura y carga de datos originales\n",
    "\n",
    "En esta sección se pretende **cargar los datasets de entrenamiento y validación** procedentes de los correspondientes ficheros situados en la carpeta *data*. Al tener un **formato TSV** se deben leer como tablas aunque posteriormente se trabaje con ellos en formato *dataframe*. \n",
    "\n",
    "Tal y como se puede comprobar en los siguientes resultados las dimensiones de sendos conjuntos de datos se detallan a continuación:\n",
    "\n",
    "* Conjunto de entrenamiento: **6.977 muestras**.\n",
    "* Conjunto de validación: **4.368 muestras**."
   ]
  },
  {
   "cell_type": "code",
   "execution_count": 2,
   "metadata": {},
   "outputs": [
    {
     "name": "stdout",
     "output_type": "stream",
     "text": [
      "Train dataset dimensions: (6977, 7)\n",
      "Test dataset dimensions: (4368, 7)\n"
     ]
    }
   ],
   "source": [
    "# Read EXIST datasets\n",
    "train_df = read_train_dataset()\n",
    "test_df = read_test_dataset()\n",
    "\n",
    "# Show the dimensions of the datasets\n",
    "print(\"Train dataset dimensions:\", train_df.shape)\n",
    "print(\"Test dataset dimensions:\", test_df.shape)"
   ]
  },
  {
   "attachments": {},
   "cell_type": "markdown",
   "metadata": {},
   "source": [
    "## 5. Experimentos y modelos\n",
    "\n",
    "A continuación se detallan los experimentos más relevantes de entre las distintas pruebas realizadas mediante diversas combinaciones de técnicas de procesamiento de textos, codificación de documentos y arquitecturas LSTM. A continuación se definen tres funciones comunes a todos los experimentos para el tratamiento y codificación de documentos, carga de embeddings pre-entrenados y validación de modelos."
   ]
  },
  {
   "cell_type": "code",
   "execution_count": 3,
   "metadata": {},
   "outputs": [],
   "source": [
    "def get_train_test_matrix(max_n_words: int, sequence_len: int, \n",
    "                          lemm: bool = False, stemm: bool = False):\n",
    "    # Process train and test text documents\n",
    "    processed_df = process_encode_datasets(\n",
    "        train_df=train_df, \n",
    "        test_df=test_df,\n",
    "        lemm=False, \n",
    "        stemm=False\n",
    "    )\n",
    "\n",
    "    # Processed train texts and encoded train labels \n",
    "    train_texts = list(processed_df[\"train_df\"][\"cleaned_text\"].values)\n",
    "    train_labels = processed_df[\"encoded_train_labels\"]\n",
    "\n",
    "    # Processed test texts and encoded test labels\n",
    "    test_texts = list(processed_df[\"test_df\"][\"cleaned_text\"].values)\n",
    "    test_labels = processed_df[\"encoded_test_labels\"]\n",
    "\n",
    "    # Createa a tokenizer based on train texts\n",
    "    tokenizer = Tokenizer(num_words=max_n_words)\n",
    "    tokenizer.fit_on_texts(train_texts)\n",
    "\n",
    "    # Transform each text into a numeric sequence\n",
    "    train_sequences = tokenizer.texts_to_sequences(train_texts)\n",
    "\n",
    "    # Transform each numeric sequence into a 2D vector\n",
    "    train_matrix = pad_sequences(\n",
    "        sequences=train_sequences, \n",
    "        maxlen=sequence_len)\n",
    "\n",
    "    # Tokenize the test documents using the prior trained tokenizer\n",
    "    test_sequences = tokenizer.texts_to_sequences(test_texts)\n",
    "\n",
    "    # Transform each numeric sequence into a 2D vector\n",
    "    test_matrix = pad_sequences(\n",
    "        sequences=test_sequences,\n",
    "        maxlen=sequence_len)\n",
    "\n",
    "    return {\n",
    "        \"tokenizer\": tokenizer,\n",
    "        \"train_matrix\": train_matrix,\n",
    "        \"train_labels\": train_labels,\n",
    "        \"test_matrix\": test_matrix,\n",
    "        \"test_labels\": test_labels\n",
    "    }"
   ]
  },
  {
   "cell_type": "code",
   "execution_count": 4,
   "metadata": {},
   "outputs": [],
   "source": [
    "def get_embedding_matrix(embedding_file, tokenizer, sequence_len):\n",
    "    # Load the embeddings stored in a TXT file\n",
    "    embedding_file = open(embedding_file)\n",
    "\n",
    "    # Store each word with its embeddings\n",
    "    embeddings_index = {\n",
    "        line.split()[0]:np.asarray(line.split()[1:], dtype='float32') \n",
    "        for line in embedding_file\n",
    "    }\n",
    "\n",
    "    # Initialize the embedding matrix with zeros\n",
    "    embedding_matrix = np.zeros(shape=(len(tokenizer.word_index)+1, sequence_len))\n",
    "\n",
    "    # Complete the matrix with the prior loaded embeddings\n",
    "    for word, i in tokenizer.word_index.items():\n",
    "        # Search for the embeddings of each word\n",
    "        embedding_vector = embeddings_index.get(word)\n",
    "\n",
    "        # Words not found will be zeros\n",
    "        if embedding_vector is not None:\n",
    "            embedding_matrix[i] = embedding_vector\n",
    "\n",
    "    return embedding_matrix    "
   ]
  },
  {
   "cell_type": "code",
   "execution_count": 5,
   "metadata": {},
   "outputs": [],
   "source": [
    "def validate_lstm_model(model, train_matrix, train_labels, test_matrix, test_labels):\n",
    "    # Compute and print the accuracy and AUC over train\n",
    "    train_acc = model.evaluate(\n",
    "        x=train_matrix, \n",
    "        y=np.array(train_labels))\n",
    "\n",
    "    print(f\"Accuracy over train dataset: {train_acc[1]}\")\n",
    "    print(f\"AUC over train dataset: {train_acc[2]}\\n\")\n",
    "\n",
    "    # Compute and print the accuracy and AUC over test\n",
    "    test_acc = model.evaluate(\n",
    "        x=test_matrix, \n",
    "        y=np.array(test_labels))\n",
    "\n",
    "    print(f\"Accuracy over test dataset: {test_acc[1]}\")\n",
    "    print(f\"AUC over test dataset: {test_acc[2]}\")\n",
    "\n",
    "    # Create preditions over the test dataset\n",
    "    test_preds = model.predict(x=test_matrix).argmax(axis=-1)\n",
    "\n",
    "    # Plot the confusion matrix \n",
    "    ConfusionMatrixDisplay(\n",
    "        confusion_matrix=confusion_matrix(\n",
    "            np.array(test_labels), \n",
    "            np.array(test_preds)), \n",
    "        display_labels=[\"Non-sexist\", \"Sexist\"]) \\\n",
    "    .plot()\n",
    "    plt.show()"
   ]
  },
  {
   "attachments": {},
   "cell_type": "markdown",
   "metadata": {},
   "source": [
    "### 5.1. Primer experimento: LSTM básica\n",
    "\n",
    "* **Procesamiento de texto** para los conjuntos de entrenamiento y test aplicando las siguientes técnicas.\n",
    "  - Elimina caracteres especiales, no alfabéticos y signos de puntuación.\n",
    "  - Elimina hashtags y menciones de usuarios.\n",
    "  - Elimina *stopwords* de los documentos en inglés y español.\n",
    "  - <p>Convierte todos los caracteres en minúsculas.</p>\n",
    "\n",
    "* **Codificación de documentos** \n",
    "  - Tanto para entrenamiento como para test se ha empleado el conjunto ***Glove 6B 50d*** de embeddings pre-entrenados disponibles online. <p></p>\n",
    "\n",
    "* **Arquitectura del modelo**. Se trata de una arquitectura muy básica para comenzar las pruebas.\n",
    "  - 1 capa de entrada: para proporcionar la matriz de datos.\n",
    "  - 1 capa de embeddings: para proporcionar los embeddings pre-entrenados de Glove 6B 50d.\n",
    "  - 1 capa LSTM: con 64 neuronas ocultas para la extracción de características.\n",
    "  - 1 capa de salida: para unificar los datos de la capa anterior en una única salida. \n",
    "  - <p>Función de activación: sigmoidal para calcular la probabilidad de pertenencia de cada muestra.</p>\n",
    "\n",
    "* Configuración para las fases de **entrenamiento y validación**.\n",
    "  - Tamaño de cada lote: 128.\n",
    "  - Número de épocas de entrenamiento: 10.\n",
    "  - % de datos para validación durante entrenamiento: 20%.\n",
    "  - Métricas de validación sobre entrenamiento y test: *accuracy* y AUC.\n",
    "  - <p>Métrica de validación únicamente sobre test: matriz de confusión.</p>"
   ]
  },
  {
   "cell_type": "code",
   "execution_count": 12,
   "metadata": {},
   "outputs": [
    {
     "name": "stdout",
     "output_type": "stream",
     "text": [
      "Train matrix:\n",
      "[[  0   0   0 ... 210 761  92]\n",
      " [  0   0   0 ... 139 466 842]\n",
      " [  0   0   0 ... 255 256 183]\n",
      " ...\n",
      " [  0   0   0 ...   0   0   0]\n",
      " [  0   0   0 ...  53 324 509]\n",
      " [  0   0   0 ...   2 726   7]]\n",
      "Train labels:[1, 0, 1, 0, 0]\n",
      "\n",
      "Test matrix:\n",
      "[[  0   0   0 ... 259 297  32]\n",
      " [  0   0   0 ... 109   3  48]\n",
      " [  0   0   0 ... 911 179 911]\n",
      " ...\n",
      " [  0   0   0 ... 522 413  97]\n",
      " [  0   0   0 ...   7  36 455]\n",
      " [  0   0   0 ...   5 102 166]]\n",
      "Test labels:[0, 0, 1, 1, 0]\n"
     ]
    }
   ],
   "source": [
    "LSTM1_MAX_N_WORDS = 1000\n",
    "LSTM1_SEQUENCE_MAX_LEN = 50\n",
    "\n",
    "# Create a tokenizer based on the train texts\n",
    "# Process train and test texts\n",
    "lstm1_data = get_train_test_matrix(\n",
    "    max_n_words=LSTM1_MAX_N_WORDS,\n",
    "    sequence_len=LSTM1_SEQUENCE_MAX_LEN,\n",
    "    lemm=False,\n",
    "    stemm=False\n",
    ")\n",
    "\n",
    "print(f\"Train matrix:\\n{lstm1_data['train_matrix']}\")\n",
    "print(f\"Train labels:{lstm1_data['train_labels'][0:5]}\")\n",
    "\n",
    "print(f\"\\nTest matrix:\\n{lstm1_data['test_matrix']}\")\n",
    "print(f\"Test labels:{lstm1_data['test_labels'][0:5]}\")"
   ]
  },
  {
   "cell_type": "code",
   "execution_count": 13,
   "metadata": {},
   "outputs": [
    {
     "data": {
      "text/plain": [
       "array([[ 0.        ,  0.        ,  0.        , ...,  0.        ,\n",
       "         0.        ,  0.        ],\n",
       "       [-0.95897001,  0.86149001, -0.53064001, ..., -1.0158    ,\n",
       "        -0.35795   , -0.31110999],\n",
       "       [ 0.90706998,  0.50944   , -0.78408003, ..., -1.18550003,\n",
       "         0.84682   ,  0.68440002],\n",
       "       ...,\n",
       "       [ 0.        ,  0.        ,  0.        , ...,  0.        ,\n",
       "         0.        ,  0.        ],\n",
       "       [ 0.        ,  0.        ,  0.        , ...,  0.        ,\n",
       "         0.        ,  0.        ],\n",
       "       [ 0.        ,  0.        ,  0.        , ...,  0.        ,\n",
       "         0.        ,  0.        ]])"
      ]
     },
     "execution_count": 13,
     "metadata": {},
     "output_type": "execute_result"
    }
   ],
   "source": [
    "LSTM1_EMBEDDING_FILE_PATH = \"../embeddings/glove.6B.50d.txt\"\n",
    "\n",
    "# Load the embeddings stored in the defined file path\n",
    "# Encode the train matrix with these embeddings\n",
    "lstm1_embedding_matrix = get_embedding_matrix(\n",
    "    embedding_file=LSTM1_EMBEDDING_FILE_PATH,\n",
    "    tokenizer=lstm1_data[\"tokenizer\"],\n",
    "    sequence_len=LSTM1_SEQUENCE_MAX_LEN\n",
    ")\n",
    "\n",
    "lstm1_embedding_matrix"
   ]
  },
  {
   "cell_type": "code",
   "execution_count": 14,
   "metadata": {},
   "outputs": [
    {
     "name": "stderr",
     "output_type": "stream",
     "text": [
      "2023-01-20 13:57:31.347561: I tensorflow/core/platform/cpu_feature_guard.cc:193] This TensorFlow binary is optimized with oneAPI Deep Neural Network Library (oneDNN) to use the following CPU instructions in performance-critical operations:  AVX2 FMA\n",
      "To enable them in other operations, rebuild TensorFlow with the appropriate compiler flags.\n"
     ]
    },
    {
     "name": "stdout",
     "output_type": "stream",
     "text": [
      "Model: \"model\"\n",
      "_________________________________________________________________\n",
      " Layer (type)                Output Shape              Param #   \n",
      "=================================================================\n",
      " inputs (InputLayer)         [(None, 50)]              0         \n",
      "                                                                 \n",
      " embedding (Embedding)       (None, 50, 50)            1207500   \n",
      "                                                                 \n",
      " lstm (LSTM)                 (None, 64)                29440     \n",
      "                                                                 \n",
      " outputs (Dense)             (None, 1)                 65        \n",
      "                                                                 \n",
      "=================================================================\n",
      "Total params: 1,237,005\n",
      "Trainable params: 29,505\n",
      "Non-trainable params: 1,207,500\n",
      "_________________________________________________________________\n"
     ]
    }
   ],
   "source": [
    "# LSTM ARCHITECTURE\n",
    "## Input layer\n",
    "input_layer = Input(\n",
    "    name=\"inputs\",\n",
    "    shape=[LSTM1_SEQUENCE_MAX_LEN])\n",
    "\n",
    "## Embedding layer: pre-trained embeddings\n",
    "layer = Embedding(\n",
    "    input_dim=len(lstm1_data[\"tokenizer\"].word_index)+1,\n",
    "    output_dim=LSTM1_SEQUENCE_MAX_LEN,\n",
    "    weights=[lstm1_embedding_matrix],\n",
    "    input_length=LSTM1_MAX_N_WORDS,\n",
    "    trainable=False)(input_layer)\n",
    "\n",
    "## LSTM layer\n",
    "layer = LSTM(units=64)(layer)\n",
    "\n",
    "## Output layer\n",
    "output_layer = Dense(\n",
    "    name=\"outputs\",\n",
    "    units=1)(layer)\n",
    "\n",
    "## Activation layer\n",
    "layer = Activation(activation=\"sigmoid\")(output_layer)\n",
    "\n",
    "# CREATE A LSTM MODEL WITH THE PRIOR ARCHITECTURE\n",
    "## Model object\n",
    "lstm_model1 = Model(\n",
    "    inputs=input_layer,\n",
    "    outputs=output_layer)\n",
    "\n",
    "## Summary of the model\n",
    "lstm_model1.summary()\n",
    "\n",
    "## Compile the model \n",
    "lstm_model1.compile(\n",
    "    loss=\"binary_crossentropy\",\n",
    "    optimizer=RMSprop(),\n",
    "    metrics=[\"accuracy\", \"AUC\"])"
   ]
  },
  {
   "cell_type": "code",
   "execution_count": 15,
   "metadata": {},
   "outputs": [
    {
     "name": "stdout",
     "output_type": "stream",
     "text": [
      "Epoch 1/10\n",
      "44/44 [==============================] - 4s 41ms/step - loss: 0.8250 - accuracy: 0.5770 - auc: 0.5695 - val_loss: 0.7149 - val_accuracy: 0.5201 - val_auc: 0.5565\n",
      "Epoch 2/10\n",
      "44/44 [==============================] - 1s 29ms/step - loss: 0.6750 - accuracy: 0.6246 - auc: 0.6499 - val_loss: 1.1870 - val_accuracy: 0.3438 - val_auc: 0.5672\n",
      "Epoch 3/10\n",
      "44/44 [==============================] - 1s 29ms/step - loss: 0.6515 - accuracy: 0.6450 - auc: 0.6822 - val_loss: 0.8597 - val_accuracy: 0.4348 - val_auc: 0.5741\n",
      "Epoch 4/10\n",
      "44/44 [==============================] - 1s 30ms/step - loss: 0.6330 - accuracy: 0.6540 - auc: 0.7002 - val_loss: 1.5463 - val_accuracy: 0.3532 - val_auc: 0.5613\n",
      "Epoch 5/10\n",
      "44/44 [==============================] - 1s 30ms/step - loss: 0.6812 - accuracy: 0.6158 - auc: 0.6712 - val_loss: 0.6883 - val_accuracy: 0.5595 - val_auc: 0.5562\n",
      "Epoch 6/10\n",
      "44/44 [==============================] - 1s 33ms/step - loss: 0.6151 - accuracy: 0.6696 - auc: 0.7215 - val_loss: 0.9340 - val_accuracy: 0.4026 - val_auc: 0.5570\n",
      "Epoch 7/10\n",
      "44/44 [==============================] - 2s 36ms/step - loss: 0.6112 - accuracy: 0.6714 - auc: 0.7220 - val_loss: 0.8237 - val_accuracy: 0.4943 - val_auc: 0.5615\n",
      "Epoch 8/10\n",
      "44/44 [==============================] - 1s 29ms/step - loss: 0.6137 - accuracy: 0.6757 - auc: 0.7273 - val_loss: 0.8592 - val_accuracy: 0.4670 - val_auc: 0.5685\n",
      "Epoch 9/10\n",
      "44/44 [==============================] - 1s 31ms/step - loss: 0.6021 - accuracy: 0.6864 - auc: 0.7454 - val_loss: 1.0403 - val_accuracy: 0.4277 - val_auc: 0.5740\n",
      "Epoch 10/10\n",
      "44/44 [==============================] - 1s 31ms/step - loss: 0.5951 - accuracy: 0.6941 - auc: 0.7498 - val_loss: 0.8236 - val_accuracy: 0.5021 - val_auc: 0.5829\n"
     ]
    },
    {
     "data": {
      "text/plain": [
       "<keras.callbacks.History at 0x7f55822aa470>"
      ]
     },
     "execution_count": 15,
     "metadata": {},
     "output_type": "execute_result"
    }
   ],
   "source": [
    "# LSTM TRAINING\n",
    "## Train the prior built model\n",
    "lstm_model1.fit(\n",
    "    x=lstm1_data[\"train_matrix\"], \n",
    "    y=np.array(lstm1_data[\"train_labels\"]),\n",
    "    batch_size=128,\n",
    "    epochs=10,\n",
    "    validation_split=0.2)"
   ]
  },
  {
   "attachments": {},
   "cell_type": "markdown",
   "metadata": {},
   "source": [
    "Tal y como se puede apreciar en los siguientes resultados, el modelo obtenido parece **no haber aprendido nada** puesto que en función de la matriz de confusión ha clasificado **todos los textos como no sexistas**. Al tratarse de la clase mayoritaria acierta más de un 70% en entrenamiento y 60% en test, no obstante el clasificador resultante no es útil para ninguna tarea."
   ]
  },
  {
   "cell_type": "code",
   "execution_count": 18,
   "metadata": {},
   "outputs": [
    {
     "name": "stdout",
     "output_type": "stream",
     "text": [
      "219/219 [==============================] - 1s 5ms/step - loss: 0.6279 - accuracy: 0.6573 - auc: 0.7137\n",
      "Accuracy over train dataset: 0.6573025584220886\n",
      "AUC over train dataset: 0.7137353420257568\n",
      "\n",
      "137/137 [==============================] - 1s 5ms/step - loss: 0.6976 - accuracy: 0.6154 - auc: 0.6654\n",
      "Accuracy over test dataset: 0.6153846383094788\n",
      "AUC over test dataset: 0.6653963327407837\n",
      "137/137 [==============================] - 1s 5ms/step\n"
     ]
    },
    {
     "data": {
      "image/png": "[encoded data removed]",
      "text/plain": [
       "<Figure size 640x480 with 2 Axes>"
      ]
     },
     "metadata": {},
     "output_type": "display_data"
    }
   ],
   "source": [
    "## LSTM VALIDATION\n",
    "## Evaluate the trained LSTM model over train and test datasets\n",
    "validate_lstm_model(\n",
    "    model=lstm_model1,\n",
    "    train_matrix=lstm1_data[\"train_matrix\"],\n",
    "    train_labels=lstm1_data[\"train_labels\"],\n",
    "    test_matrix=lstm1_data[\"test_matrix\"],\n",
    "    test_labels=lstm1_data[\"test_labels\"]\n",
    ")"
   ]
  }
 ],
 "metadata": {
  "kernelspec": {
   "display_name": "venv",
   "language": "python",
   "name": "python3"
  },
  "language_info": {
   "codemirror_mode": {
    "name": "ipython",
    "version": 3
   },
   "file_extension": ".py",
   "mimetype": "text/x-python",
   "name": "python",
   "nbconvert_exporter": "python",
   "pygments_lexer": "ipython3",
   "version": "3.10.6"
  },
  "orig_nbformat": 4,
  "vscode": {
   "interpreter": {
    "hash": "00f7dc61815a6da5453fee0a1d7c3baaa88d552412e55cf65ecdf10d17265d5d"
   }
  }
 },
 "nbformat": 4,
 "nbformat_minor": 2
}

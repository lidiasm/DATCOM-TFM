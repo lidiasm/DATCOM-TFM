{
 "cells": [
  {
   "attachments": {},
   "cell_type": "markdown",
   "metadata": {},
   "source": [
    "# Modelos de Regresión Logística\n",
    "\n",
    "## 1. Introducción a la Regresión Logística\n",
    "\n",
    "Se trata de un **algoritmo estadístico** cuyo objetivo es aproximar una **función matemática acotada** en el intervalo [0, 1]. Así permite la estimación de las **probabilidades de pertenencia** de cada muestra a las distintas clases. Como la detección de sexismo es un problema de clasificación binario, se establece el umbral en 0.5 con el que asignar una clase a cada instancia aplicando las siguientes casuísticas:\n",
    "\n",
    "* Si la probabilidad es **menor que 0.5** entonces la clase es **no sexista** (categoría 0). \n",
    "* Si la probabilidad es **mayor que 0.5** entonces la clase es **sexista** (categoría 1).\n",
    "\n",
    "### 1.1. Condiciones de uso\n",
    "\n",
    "* **Mínima correlación** entre los predictores o variables independientes.\n",
    "* La existencia de una **relación lineal** entre los predictores y la probabilidad de cada variable dependiente.\n",
    "* Mínima existencia de **outliers**.\n",
    "* Conjunto de datos razonáblemente amplio.\n",
    "\n",
    "### 1.2. Casos de uso\n",
    "\n",
    "1. Construir **modelos lineales** para solventar problemas de clasificación cuyos datos son fácilmente separables.\n",
    "\n",
    "2. Comprobar de la existencia de **relaciones lineales** entre los predictores y la variable dependiente en función de los valores de los coeficientes del hiperplano.\n",
    "\n",
    "   - Si es 0 significa que **no existe una relación lineal** entre un predictor y la variable dependiente por lo que dicho predictor no ayuda en su predicción.\n",
    "\n",
    "   - Si es mayor que 0 supone un crecimiento simultáneo del predictor al aumentar la variable dependiente, mientras que si es menor que 0 simboliza el incremento del predictor cuando disminuye la variable dependiente. Aunque en ambos casos el **predictor puede ser útil para predecir** la clase de una muestra."
   ]
  },
  {
   "attachments": {},
   "cell_type": "markdown",
   "metadata": {},
   "source": [
    "## 2. Estructura del notebook\n",
    "\n",
    "1. Introducción a la Regresión Logística\n",
    "2. Estructura del notebook\n",
    "3. Instalación y carga de librerías\n",
    "4. Lectura y carga de datos\n",
    "5. Técnicas de codificación de textos\n",
    "6. Experimentos y modelos\n",
    "7. Conclusiones"
   ]
  },
  {
   "attachments": {},
   "cell_type": "markdown",
   "metadata": {},
   "source": [
    "## 3. Instalación y carga de librerías\n",
    "\n",
    "Este apartado tiene como único propósito cargar las librerías y dependencias necesarias para la ejecución de este notebook, así como las funciones propiamente desarrolladas. Previo a ello deberán ser instaladas bien ejecutando el script *setup.sh* mediante el comando `bash setup.sh` con permisos de ejecución en distribuciones Linux, o bien ejecutando el compando `pip install -r requirements.txt`."
   ]
  },
  {
   "cell_type": "code",
   "execution_count": 1,
   "metadata": {},
   "outputs": [
    {
     "name": "stderr",
     "output_type": "stream",
     "text": [
      "2023-03-13 13:24:18.494470: I tensorflow/core/platform/cpu_feature_guard.cc:193] This TensorFlow binary is optimized with oneAPI Deep Neural Network Library (oneDNN) to use the following CPU instructions in performance-critical operations:  AVX2 FMA\n",
      "To enable them in other operations, rebuild TensorFlow with the appropriate compiler flags.\n",
      "2023-03-13 13:24:18.969682: W tensorflow/compiler/xla/stream_executor/platform/default/dso_loader.cc:64] Could not load dynamic library 'libcudart.so.11.0'; dlerror: libcudart.so.11.0: cannot open shared object file: No such file or directory\n",
      "2023-03-13 13:24:18.969741: I tensorflow/compiler/xla/stream_executor/cuda/cudart_stub.cc:29] Ignore above cudart dlerror if you do not have a GPU set up on your machine.\n",
      "2023-03-13 13:24:20.231956: W tensorflow/compiler/xla/stream_executor/platform/default/dso_loader.cc:64] Could not load dynamic library 'libnvinfer.so.7'; dlerror: libnvinfer.so.7: cannot open shared object file: No such file or directory\n",
      "2023-03-13 13:24:20.232061: W tensorflow/compiler/xla/stream_executor/platform/default/dso_loader.cc:64] Could not load dynamic library 'libnvinfer_plugin.so.7'; dlerror: libnvinfer_plugin.so.7: cannot open shared object file: No such file or directory\n",
      "2023-03-13 13:24:20.232073: W tensorflow/compiler/tf2tensorrt/utils/py_utils.cc:38] TF-TRT Warning: Cannot dlopen some TensorRT libraries. If you would like to use Nvidia GPU with TensorRT, please make sure the missing libraries mentioned above are installed properly.\n",
      "2023-03-13 13:24:22.880692: W tensorflow/compiler/xla/stream_executor/platform/default/dso_loader.cc:64] Could not load dynamic library 'libcuda.so.1'; dlerror: libcuda.so.1: cannot open shared object file: No such file or directory\n",
      "2023-03-13 13:24:22.880934: W tensorflow/compiler/xla/stream_executor/cuda/cuda_driver.cc:265] failed call to cuInit: UNKNOWN ERROR (303)\n",
      "2023-03-13 13:24:22.880949: I tensorflow/compiler/xla/stream_executor/cuda/cuda_diagnostics.cc:156] kernel driver does not appear to be running on this host (lidiasm): /proc/driver/nvidia/version does not exist\n"
     ]
    }
   ],
   "source": [
    "%%capture\n",
    "# Import LR models and validation metrics\n",
    "from sklearn.linear_model import LogisticRegression\n",
    "from sklearn import metrics\n",
    "from sklearn.metrics import ConfusionMatrixDisplay\n",
    "\n",
    "# Import plot lib to show the confussion matrixes\n",
    "import matplotlib.pyplot as plt\n",
    "\n",
    "import sys\n",
    "sys.path.append('../scripts')\n",
    "\n",
    "# Import data read and compute functions\n",
    "from data import *\n",
    "\n",
    "# Import text preprocess functions\n",
    "from processing import *\n",
    "\n",
    "# Import encoding functions\n",
    "from encoding import *"
   ]
  },
  {
   "attachments": {},
   "cell_type": "markdown",
   "metadata": {},
   "source": [
    "## 4. Lectura y carga de datos\n",
    "\n",
    "En esta sección se pretende **cargar los datasets de entrenamiento y validación** procedentes de los correspondientes ficheros situados en la carpeta *data*. Al tener un **formato TSV** se deben leer como tablas aunque posteriormente se trabaje con ellos en formato *dataframe*. \n",
    "\n",
    "Tal y como se puede comprobar en los siguientes resultados las dimensiones de sendos conjuntos de datos se detallan a continuación:\n",
    "\n",
    "* Conjunto de entrenamiento: **6.977 muestras**.\n",
    "* Conjunto de validación: **4.368 muestras**."
   ]
  },
  {
   "cell_type": "code",
   "execution_count": 2,
   "metadata": {},
   "outputs": [
    {
     "name": "stdout",
     "output_type": "stream",
     "text": [
      "train dataset dimensions: (6977, 7)\n",
      "test dataset dimensions: (4368, 7)\n"
     ]
    }
   ],
   "source": [
    "# Read EXIST datasets\n",
    "train_df = read_train_dataset()\n",
    "test_df = read_test_dataset()\n",
    "\n",
    "# Show the dimensions of the datasets\n",
    "print('train dataset dimensions:', train_df.shape)\n",
    "print('test dataset dimensions:', test_df.shape)"
   ]
  },
  {
   "attachments": {},
   "cell_type": "markdown",
   "metadata": {},
   "source": [
    "## 5. Técnicas de codificación de textos\n",
    "\n",
    "### 5.1. Bolsa de palabras\n",
    "\n",
    "Es una técnica orientada a la **extracción de características** basada en **texto** que convierte cada documento en un vector de longitud fija a partir del cálculo de la frecuencia de sus términos. Si bien se trata de un procedimiento altamente sencillo y rápido de aplicar, **no** respeta el **orden de los términos** en los documentos y como consecuencia tampoco considera el **contexto** de los mismos.\n",
    "\n",
    "### 5.2. TF-IDF\n",
    "\n",
    "Este procedimiento trata de codificar un conjunto de documentos considerando tanto la **frecuencia de los términos** en los textos como su **importancia relativa** con respecto a la población completa. Para ello calcula las frecuencias relativas y absolutas de todo el vocabulario disponible con las que posteriormente determina el **grado de relevancia y representatividad** de los términos. Este método suele beneficiar con un mayor valor a aquellos conceptos con un menor número de ocurrencias. \n",
    "\n",
    "### 5.3. Word Embeddings\n",
    "\n",
    "El cometido de este método consiste en codificar **documentos o palabras** como vectores numéricos capturando las **características contextuales** en base a sus relaciones, definiciones de términos, similitudes semánticas y sintácticas. La cualidad más destacable es su capacidad de **detectar entidades similares** y generar representaciones numéricas altamente parecidas. Si bien se pueden **entrenar modelos** personalizados en conjuntos de datos, también existen **modelos pre-entrenados** con *embeddings* ya generados listos para ser utilizados.\n",
    "\n",
    "#### 5.3.1. Generación de Word Embeddings\n",
    "\n",
    "Existen multitud de técnicas con diferentes enfoques para el entrenamiento y creación de representaciones numéricas vectoriales a partir de documentos y las que se han decidido experimentar en este notebook se detallan a continuación:\n",
    "\n",
    "* **Word2Vec**: es una de las técnicas más populares para codificar a nivel de palabras. Los dos siguientes algoritmos son los que se encuentran disponibles para entrenar un modelo de esta tipología.\n",
    "\n",
    "   * **CBWO** (*Continuous Bag of Words*): esta primera arquitectura trata de **predecir el siguiente término dentro de un contexto determinado**. Se encuentra recomendada para **conjuntos de datos voluminosos** puesto que considera únicamente un vecindario de términos y tiende a representar mejor **conceptos frecuentes**.\n",
    "\n",
    "   * **Skip-Gram**: esta segunda arquitectura trata de **predecir los contextos asociados a un término** de entrada. Puede ser empleada sobre **conjuntos de datos pequeños** para detectar **diferentes significados** por palabra.\n",
    "\n",
    "* **Doc2Vec**: se trata de una versión muy similar a la técnica anterior aunque añadiendo un nuevo **vector numérico** que representa los **párrafos** existentes en los **documentos**. A continuación se presentan los dos algoritmos disponibles que se pueden aplicar para entrenar un modelo mediante esta técnica.\n",
    "\n",
    "   * **PV-DM** (*Distributed Memory Version of Paragraph Vector*): aplica métodos de **Aprendizaje No Supervisado** para aprender **vectores de características de tamaños estáticos** a partir de diferentes tipos de textos de longitud variable, como frases, párrafos y documentos. Así mediante las representaciones de los párrafos se compone un **contexto** que ayuda a **predecir el siguiente término** dentro de los documentos. Es un enfoque similar al *CBWO* de la técnica anterior.\n",
    "\n",
    "   * **PV-DBOW** (*Distributed Bag of Words Version of Paragraph Vector*): este algoritmo comparte el modo de **funcionamiento del método anterior** aunque basado en la técnica previa denominada *Skip-Gram*, en la que se entrena un modelo para **predecir el contexto** de un documento en función de un conjunto términos.\n",
    "\n",
    "### 5.3.2. Generación de Word Embeddings\n",
    "\n",
    "Un segundo enfoque para emplear word embeddings en la clasificación de textos consiste en utilizar **word embeddings pre-entrenados** sobre diferentes conjuntos de datos y configuraciones de modelos. Entre la multitud de ventajas que presenta esta aproximación se encuentra la idea de hacer uso de representaciones numéricas listas para utilizarse en *'cualquier problema'*, así como la existencia de distintas versiones basadas en distintas longitudes de poblaciones y técnicas de entrenamiento. Los modelos experimentados pertenencen a la librería `gensim`."
   ]
  },
  {
   "attachments": {},
   "cell_type": "markdown",
   "metadata": {},
   "source": [
    "## 6. Experimentos y modelos\n",
    "\n",
    "A continuación se detallan los experimentos más relevantes de entre las distintas pruebas realizadas mediante diversas combinaciones de técnicas de procesamiento de textos y codificación de documentos empleando la Regresión Logística, como algoritmo clásico de Aprendizaje Automático, para sentar una base con la que comenzar a idear una solución a este problema de clasificación. \n",
    "\n",
    "La siguiente función ha sido desarrollada exclusívamente para este notebook con la intención de realizar una validación común a todos los modelos de Regresión Logística construidos acorde a distintas configuraciones,"
   ]
  },
  {
   "cell_type": "code",
   "execution_count": 3,
   "metadata": {},
   "outputs": [],
   "source": [
    "def validate_lr_model(lr_model: LogisticRegression, \n",
    "    train_labels: list, train_preds: list, \n",
    "    test_labels: list, test_preds: list):\n",
    "    '''\n",
    "    Computes some validation metrics using a provided trained\n",
    "    Logistic Regression model as well as the true class labels \n",
    "    and the predictions over the train and test datasets.\n",
    "\n",
    "    Parameters\n",
    "    ----------\n",
    "    lr_model : LogisticRegression\n",
    "        A trained Logistic Regression model to validate.\n",
    "    train_labels : list\n",
    "        A list of numeric values with the true train class labels.\n",
    "    train_preds : list\n",
    "        A list of numeric values with the predictions performed by the\n",
    "        trained model over the train dataset.\n",
    "    test_labels : list\n",
    "        A list of numeric values with the true test class labels.\n",
    "    test_preds : list\n",
    "        A list of numeric values with the predictions performed by the\n",
    "        trained model over the test dataset.\n",
    "\n",
    "    Returns\n",
    "    -------\n",
    "    None.\n",
    "    '''\n",
    "    # LR model validation over the train dataset\n",
    "    print('Train accuracy: %.3f' %metrics.accuracy_score(\n",
    "        y_true=train_labels, \n",
    "        y_pred=train_preds))\n",
    "    \n",
    "    # Area of the ROC curve for the train dataset\n",
    "    print('Train AUC: %.3f' %metrics.roc_auc_score(\n",
    "        y_true=train_labels, \n",
    "        y_score=train_preds))\n",
    "\n",
    "    # LR model validation over the test dataset\n",
    "    print('Test accuracy: %.3f' %metrics.accuracy_score(\n",
    "        y_true=test_labels, \n",
    "        y_pred=test_preds))\n",
    "\n",
    "    # Area of the ROC curve for the test dataset\n",
    "    print('Test AUC: %.3f' %metrics.roc_auc_score(\n",
    "        y_true=test_labels, \n",
    "        y_score=test_preds))\n",
    "\n",
    "    # Create and plot a confusion matrix for the test dataset\n",
    "    ConfusionMatrixDisplay(\n",
    "        confusion_matrix=metrics.confusion_matrix(\n",
    "            y_true=test_labels, \n",
    "            y_pred=test_preds), \n",
    "        display_labels=lr_model.classes_).plot()\n",
    "    plt.show()"
   ]
  },
  {
   "attachments": {},
   "cell_type": "markdown",
   "metadata": {},
   "source": [
    "### 6.1. Primer experimento: Bolsa de palabras\n",
    "\n",
    "Tal y como se explica en ambas competiciones, se realiza una **distinción entre textos en inglés y español** puesto que parece ser que estos últimos se caracterizan por una mejor representación y por ende, los **clasificadores entrenados únicamente sobre documentos españoles demuestran una mayor capacidad de predicción**.\n",
    "\n",
    "#### 6.1.1. Modelo específico para inglés\n",
    "\n",
    "- **Procesamiento** de los conjuntos de entrenamiento y validación, incluyendo las siguientes técnicas:\n",
    "\n",
    "  - Elimina URLs.\n",
    "  - Elimina usuarios mencionados.\n",
    "  - Elimina caracteres especiales, no alfabéticos y signos de puntuación.\n",
    "  - Convierte todos los caracteres en minúsculas.\n",
    "  - **No se aplica lematización** puesto que el rendimiento del modelo aumenta únicamente en un 1% en las métricas de evaluación aunque el gasto temporal y computacional se dispara exponencialmente.\n",
    "  - **No se intenta detectar y corregir palabras erróneamente escritas** puesto que tampoco mejora el rendimiento del modelo pero la inversión de recursos es desorbitada. Según he podido comprobar apenas se detecta un 9,43% de términos con faltas de ortogragía y solo un 7,61% son corregidos, por lo que esta técnica no parece que vaya a ser de utilidad. </p>\n",
    "\n",
    "- **Codificación** de la variable dependiente *task1* a **etiquetas numéricas** en los conjuntos de entrenamiento y validación, estableciendo la asignación *non-sexist*~0 y *sexist*~1.\n",
    "\n",
    "- Generación de una **bolsa de palabras** para entrenamiento y otra para validación como codificación de documentos en valores numéricos.\n",
    "\n",
    "- Entrenamiento, hiperparametrización y validación con **Regresión Logística** para la construcción de varios modelos, siendo la siguiente configuración la que mejores resultados de validación ha conseguido:\n",
    "\n",
    "  - **Regularización L1** es la penalización que ha conseguido el *accuracy* y área sobre la curva ROC más elevados gracias a su tendencia de minimizar los coeficientes a cero. Mientras que con la **regularización L2** se consiguen también unos **resultados similares**, si no se aplica penalización ambas métricas descienden más de 5 puntos. Por lo tanto se concluye que la **aplicación de regularización** para un modelo de tales características y sobre este conjunto de datos es necesaria para **reducir el overfitting**, ya que el *accuracy* de entrenamiento es muy superior al de validación.\n",
    "\n",
    "  - El **valor de la penalización** establecido que mejor rendimiento proporciona se encuentra **muy cercano a cero**, siendo el intervalo posible [0, infinito]. Este hecho nos indica que para aumentar la capacidad de predicción de un modelo con Regresión Logística y el conjunto de datos EXIST2022, es necesario aplicar una **fortísima penalización** con motivo de **reducir el overfitting** que tiende a aparecer."
   ]
  },
  {
   "cell_type": "code",
   "execution_count": 4,
   "metadata": {},
   "outputs": [],
   "source": [
    "# Process train documents and encode the train class labels\n",
    "train_df = process_texts_encode_labels(\n",
    "    dataset=train_df,\n",
    "    text_col='text',\n",
    "    class_col='task1',\n",
    "    lemmatize=False,\n",
    "    correct_words=False)\n",
    "\n",
    "# Distinguish between English and Spanish texts\n",
    "es_train_df = train_df[train_df['language'] == 'es']\n",
    "en_train_df = train_df[train_df['language'] == 'en']\n",
    "\n",
    "# Process test documents and encode the train class labels\n",
    "test_df = process_texts_encode_labels(\n",
    "    dataset=test_df,\n",
    "    text_col='text',\n",
    "    class_col='task1',\n",
    "    lemmatize=False,\n",
    "    correct_words=False)\n",
    "\n",
    "# Distinguish between English and Spanish texts\n",
    "es_test_df = test_df[test_df['language'] == 'es']\n",
    "en_test_df= test_df[test_df['language'] == 'en']\n",
    "\n",
    "# Convert train and test documents to bag of words\n",
    "en_train_bag_words, en_test_bag_words = to_bag_of_words(\n",
    "    train_docs=list(en_train_df['clean_text'].values), \n",
    "    test_docs=list(en_test_df['clean_text'].values))\n",
    "\n",
    "# Create and configure a LR model\n",
    "en_lr_model = LogisticRegression(\n",
    "    multi_class='ovr', \n",
    "    solver='liblinear', \n",
    "    penalty='l1', \n",
    "    C=0.3)\n",
    "\n",
    "# Train the LR model\n",
    "en_lr_model.fit(\n",
    "    X=en_train_bag_words, \n",
    "    y=list(en_train_df['task1'].values))\n",
    "\n",
    "# Predict over the train and test datasets\n",
    "en_train_preds = en_lr_model.predict(X=en_train_bag_words)\n",
    "en_train_probs = [max(prob) for prob in en_lr_model.predict_proba(X=en_train_bag_words)]\n",
    "\n",
    "# Predict over the test dataset\n",
    "en_test_preds = en_lr_model.predict(X=en_test_bag_words)\n",
    "en_test_probs = [max(prob) for prob in en_lr_model.predict_proba(X=en_test_bag_words)]"
   ]
  },
  {
   "attachments": {},
   "cell_type": "markdown",
   "metadata": {},
   "source": [
    "Tal y como se observa en los siguientes resultados que representan la validación del modelo orientado a textos ingleses, sobre el conjunto de **entrenamiento** consigue un **77% de aciertos**, mientras que para el de **test** únicamente alcanza un **70% de aciertos**. Por lo tanto parece que la configuración de los datos y del clasificador en este experimento particular no proporcionan una solución de calidad a este problema de clasificación.\n",
    "\n",
    "Si se estudia la matriz de confusión se aprecia la existencia de una **alta concentración de falsos negativos**, puesto que más de cuatrocientos textos ingleses sexistas no han sido detectados por el modelo. Este fenómeno ya se poddía anticipar durante la recopilación de información sobre los conjuntos de datos, ya que dependiendo del lenguaje utilizado en los documentos, su identificación puede llegar a ser bastante compleja de realizar automáticamente."
   ]
  },
  {
   "cell_type": "code",
   "execution_count": 5,
   "metadata": {},
   "outputs": [
    {
     "name": "stdout",
     "output_type": "stream",
     "text": [
      "Train accuracy: 0.772\n",
      "Train AUC: 0.769\n",
      "Test accuracy: 0.700\n",
      "Test AUC: 0.705\n"
     ]
    },
    {
     "data": {
      "image/png": "[encoded data removed]",
      "text/plain": [
       "<Figure size 640x480 with 2 Axes>"
      ]
     },
     "metadata": {},
     "output_type": "display_data"
    }
   ],
   "source": [
    "validate_lr_model(\n",
    "    lr_model=en_lr_model, \n",
    "    train_labels=list(en_train_df['task1'].values), \n",
    "    train_preds=en_train_preds, \n",
    "    test_labels=list(en_test_df['task1'].values),\n",
    "    test_preds=en_test_preds)"
   ]
  },
  {
   "attachments": {},
   "cell_type": "markdown",
   "metadata": {},
   "source": [
    "Si analizamos los resultados en mayor profundidad podemos observar que tanto la **mayor parte de falsos negativos como falsos positivos** se caracterizan por un **umbral de confianza medio-alto** en un intervalo [0.4, 0.8], lo que parece no ser favorable puesto que el **modelo se muestra razonáblemente seguro en los errores que comete**."
   ]
  },
  {
   "cell_type": "code",
   "execution_count": 6,
   "metadata": {},
   "outputs": [
    {
     "name": "stdout",
     "output_type": "stream",
     "text": [
      "FALSE NEGATIVES\n",
      "Confidence Interval Very low (0.0, 0.2): 0 samples\n",
      "Confidence Interval Low (0.2, 0.4): 0 samples\n",
      "Confidence Interval Medium (0.4, 0.6): 163 samples\n",
      "Confidence Interval High (0.6, 0.8): 260 samples\n",
      "Confidence Interval Very high (0.8, 1.0): 26 samples\n",
      "\n",
      "FALSE POSITIVES\n",
      "Confidence Interval Very low (0.0, 0.2): 0 samples\n",
      "Confidence Interval Low (0.2, 0.4): 0 samples\n",
      "Confidence Interval Medium (0.4, 0.6): 94 samples\n",
      "Confidence Interval High (0.6, 0.8): 80 samples\n",
      "Confidence Interval Very high (0.8, 1.0): 39 samples\n"
     ]
    }
   ],
   "source": [
    "# Insert the predicted classes and probabilities into the test dataset\n",
    "en_test_df['task1_pred_classes'] = en_test_preds\n",
    "en_test_df['task1_pred_probs'] = en_test_probs\n",
    "\n",
    "print('FALSE NEGATIVES')\n",
    "false_negatives_df = en_test_df[(en_test_df['task1'] == 1) & (en_test_df['task1_pred_classes'] == 0)]\n",
    "analyze_predicted_probs(\n",
    "    dataset=false_negatives_df,\n",
    "    probs_col='task1_pred_probs')\n",
    "\n",
    "print('\\nFALSE POSITIVES')\n",
    "false_positives_df = en_test_df[(en_test_df['task1'] == 0) & (en_test_df['task1_pred_classes'] == 1)]\n",
    "analyze_predicted_probs(\n",
    "    dataset=false_positives_df,\n",
    "    probs_col='task1_pred_probs')"
   ]
  },
  {
   "attachments": {},
   "cell_type": "markdown",
   "metadata": {},
   "source": [
    "Observando en detalle los falsos negativos, es decir las muestras positivas erróneamente clasificadas. En los siguientes resultados se puede apreciar que la **gran mayoría de ejemplos mal clasificados** pertenecen a las **categorías sexistas más complicadas de detectar**, según se pudo descubrir en el análisis de datos realizado en el *eda.ipynb*, debido a que su contenido no es suficientemente violento y explícito como para que un modelo sea capaz de detectarlo automáticamente."
   ]
  },
  {
   "cell_type": "code",
   "execution_count": 7,
   "metadata": {},
   "outputs": [
    {
     "data": {
      "text/html": [
       "<div>\n",
       "<style scoped>\n",
       "    .dataframe tbody tr th:only-of-type {\n",
       "        vertical-align: middle;\n",
       "    }\n",
       "\n",
       "    .dataframe tbody tr th {\n",
       "        vertical-align: top;\n",
       "    }\n",
       "\n",
       "    .dataframe thead th {\n",
       "        text-align: right;\n",
       "    }\n",
       "</style>\n",
       "<table border=\"1\" class=\"dataframe\">\n",
       "  <thead>\n",
       "    <tr style=\"text-align: right;\">\n",
       "      <th></th>\n",
       "      <th>id</th>\n",
       "    </tr>\n",
       "    <tr>\n",
       "      <th>task2</th>\n",
       "      <th></th>\n",
       "    </tr>\n",
       "  </thead>\n",
       "  <tbody>\n",
       "    <tr>\n",
       "      <th>ideological-inequality</th>\n",
       "      <td>133</td>\n",
       "    </tr>\n",
       "    <tr>\n",
       "      <th>stereotyping-dominance</th>\n",
       "      <td>102</td>\n",
       "    </tr>\n",
       "    <tr>\n",
       "      <th>misogyny-non-sexual-violence</th>\n",
       "      <td>92</td>\n",
       "    </tr>\n",
       "    <tr>\n",
       "      <th>sexual-violence</th>\n",
       "      <td>76</td>\n",
       "    </tr>\n",
       "    <tr>\n",
       "      <th>objectification</th>\n",
       "      <td>46</td>\n",
       "    </tr>\n",
       "  </tbody>\n",
       "</table>\n",
       "</div>"
      ],
      "text/plain": [
       "                               id\n",
       "task2                            \n",
       "ideological-inequality        133\n",
       "stereotyping-dominance        102\n",
       "misogyny-non-sexual-violence   92\n",
       "sexual-violence                76\n",
       "objectification                46"
      ]
     },
     "execution_count": 7,
     "metadata": {},
     "output_type": "execute_result"
    }
   ],
   "source": [
    "false_negatives_df.groupby(['task2']).count().filter(['id']).sort_values(by=['id'], ascending=False)"
   ]
  },
  {
   "attachments": {},
   "cell_type": "markdown",
   "metadata": {},
   "source": [
    "Finalmente cruzando los falsos positivos y negativos con el análisis de emociones realizado en el notebook *eda.ipynb* se puede apreciar en los siguientes resultados que las **dos emociones mayoritarias son *anger* y *joy***. Según una inspección visual, he podido comprobar que *anger* dispone de documentos que contienen un **alto porcentaje de ironía y diversidad de temáticas** cuyo vocabulario alude más a otros tópicos como la iglesia, la lucha LGTBI, la política, el racismo, etc. Minetras qye la segunda emoción *joy* contiene muestras con **terminología positiva** aunque con **significados tremendamente negativos** desde un **punto de vista ideológico**. Tras una inspección visual de los documentos categorizados dentro de las otras dos emociones he podido concluir que la gran mayoría de ellos contienen un **alto porcentaje de ironía y diversidad de temáticas** cuyo vocabulario alude más a otros tópicos como la iglesia, la lucha LGTBI, la política, el racismo, etc."
   ]
  },
  {
   "cell_type": "code",
   "execution_count": 8,
   "metadata": {},
   "outputs": [
    {
     "name": "stdout",
     "output_type": "stream",
     "text": [
      "FALSE NEGATIVES\n",
      "Emotion: fear - No. of texts: 47\n",
      "Emotion: surprise - No. of texts: 8\n",
      "Emotion: joy - No. of texts: 111\n",
      "Emotion: sadness - No. of texts: 63\n",
      "Emotion: anger - No. of texts: 214\n",
      "Emotion: love - No. of texts: 6\n",
      "\n",
      "FALSE POSITIVES\n",
      "Emotion: fear - No. of texts: 25\n",
      "Emotion: surprise - No. of texts: 2\n",
      "Emotion: joy - No. of texts: 63\n",
      "Emotion: sadness - No. of texts: 27\n",
      "Emotion: anger - No. of texts: 94\n",
      "Emotion: love - No. of texts: 2\n"
     ]
    }
   ],
   "source": [
    "print('FALSE NEGATIVES')\n",
    "map_texts_to_emotions(\n",
    "    text_ids=list(false_negatives_df['id'].values),\n",
    "    is_test=True\n",
    ")\n",
    "\n",
    "print('\\nFALSE POSITIVES')\n",
    "map_texts_to_emotions(\n",
    "    text_ids=list(false_positives_df['id'].values),\n",
    "    is_test=True\n",
    ")"
   ]
  },
  {
   "attachments": {},
   "cell_type": "markdown",
   "metadata": {},
   "source": [
    "#### 6.1.2. Modelo específico para español\n",
    "\n",
    "Reproduciendo la misma configuración de datos, entrenamiento y validación, a continuación se construye un modelo similar al anterior aunque basado en los textos españoles. Tal y como se aprecia en los siguientes resultados, **todas las métricas tanto del conjunto de entrenamiento como de test son ligeramente inferiores** a las encontradas en el clasificador dedicado a textos en inglés. Por lo tanto, de momento no se demuestra que las muestras en español dispongan de una mejor representetividad que ayude a mejorar la capacidad de predicción de un modelo con Regresión Logística.\n",
    "\n",
    "Analizando la matriz de confusión se observa que es prácticamente idéntica a la mostrada anteriormente y las conclusiones extraídas del caso anterior son aplicables al clasificador en español, si bien el código no se añade de nuevo puesto que no aporta nueva información útil."
   ]
  },
  {
   "cell_type": "code",
   "execution_count": 9,
   "metadata": {},
   "outputs": [
    {
     "name": "stdout",
     "output_type": "stream",
     "text": [
      "Train accuracy: 0.768\n",
      "Train AUC: 0.768\n",
      "Test accuracy: 0.682\n",
      "Test AUC: 0.687\n"
     ]
    },
    {
     "data": {
      "image/png": "[encoded data removed]",
      "text/plain": [
       "<Figure size 640x480 with 2 Axes>"
      ]
     },
     "metadata": {},
     "output_type": "display_data"
    }
   ],
   "source": [
    "# Convert train and test documents to bag of words\n",
    "es_train_bag_words, es_test_bag_words = to_bag_of_words(\n",
    "    train_docs=list(es_train_df['clean_text'].values), \n",
    "    test_docs=list(es_test_df['clean_text'].values))\n",
    "\n",
    "# Create and configure a LR model\n",
    "es_lr_model = LogisticRegression(\n",
    "    multi_class='ovr', \n",
    "    solver='liblinear', \n",
    "    penalty='l1', \n",
    "    C=0.3)\n",
    "\n",
    "# Train the LR model\n",
    "es_lr_model.fit(\n",
    "    X=es_train_bag_words, \n",
    "    y=list(es_train_df['task1'].values))\n",
    "\n",
    "# Predict over the train and test datasets\n",
    "es_train_preds = es_lr_model.predict(X=es_train_bag_words)\n",
    "\n",
    "# Predict over the test dataset\n",
    "es_test_preds = es_lr_model.predict(X=es_test_bag_words)\n",
    "\n",
    "# Validate the Spanish model\n",
    "validate_lr_model(\n",
    "    lr_model=es_lr_model, \n",
    "    train_labels=list(es_train_df['task1'].values), \n",
    "    train_preds=es_train_preds, \n",
    "    test_labels=list(es_test_df['task1'].values),\n",
    "    test_preds=es_test_preds)"
   ]
  },
  {
   "attachments": {},
   "cell_type": "markdown",
   "metadata": {},
   "source": [
    "### 6.2. Segundo experimento: TF-IDF\n",
    "\n",
    "#### 6.2.1. Modelo específico para inglés\n",
    "\n",
    "La configuración tanto de los datasets como del modelo son idénticas a las explicadas en el anterior experimento, a excepción de los dos siguientes aspectos:\n",
    "\n",
    "* La **codificación de textos** se ha realizado aplicando la técnica denominada **TF-IDF**. \n",
    "\n",
    "* La **regularización** escogida en este caso ha sido la **L2** con un valor de penalización por defecto establecido en 1.0 puesto que al aumentarlo (menos penalización) el sobreajuste incrementaba considerablemente, mientas que al decrementar el valor (más penalización) el rendimiento del modelo empeoraba ligeramente."
   ]
  },
  {
   "cell_type": "code",
   "execution_count": 10,
   "metadata": {},
   "outputs": [],
   "source": [
    "# Encode train and test documents as TF-IDF vectors\n",
    "en_train_tfidf, en_test_tfidf = to_tf_idf(\n",
    "    train_docs=list(en_train_df['clean_text'].values), \n",
    "    test_docs=list(en_test_df['clean_text'].values))\n",
    "\n",
    "# Create and configure a LR model\n",
    "en_lr_model = LogisticRegression(\n",
    "    multi_class='ovr', \n",
    "    solver='liblinear')\n",
    "\n",
    "# Train the LR model\n",
    "en_lr_model.fit(\n",
    "    X=en_train_tfidf, \n",
    "    y=list(en_train_df['task1'].values))\n",
    "\n",
    "# Predict over the train and test datasets\n",
    "en_train_preds = en_lr_model.predict(X=en_train_tfidf)\n",
    "en_train_probs = [max(prob) for prob in en_lr_model.predict_proba(X=en_train_tfidf)]\n",
    "\n",
    "# Predict over the test dataset\n",
    "en_test_preds = en_lr_model.predict(X=en_test_tfidf)\n",
    "en_test_probs = [max(prob) for prob in en_lr_model.predict_proba(X=en_test_tfidf)]"
   ]
  },
  {
   "attachments": {},
   "cell_type": "markdown",
   "metadata": {},
   "source": [
    "Tal y como se puede observar en los siguientes resultados, este segundo modelo parece caracterizarse por un **mayor sobreajuste** que el anterior puesto que la tasa de aciertos de entrenamiento es más de 14 puntos con respecto al conjunto de test. Adicionalmente en la matriz de confusión se observa una **mayor acentuación sobre el número de falsos negativos** aumentando la cifra de textos sexistas no detectados.\n",
    "\n",
    "Un aspecto interesante ha sido la posibilidad de ajustar la configuración de entrenamiento obteniendo distintos resultados tras involucrar a una nueva técnica de codificación de textos. Con la misma **configuración anterior** el modelo del segundo experimento disponía de un **menor sobreajuste pero también un menor rendimiento**, mientras que con esta nueva configuración se dispara la tasa de aciertos en entrenamiento mientras que se resiente considerablemente en validación."
   ]
  },
  {
   "cell_type": "code",
   "execution_count": 11,
   "metadata": {},
   "outputs": [
    {
     "name": "stdout",
     "output_type": "stream",
     "text": [
      "Train accuracy: 0.877\n",
      "Train AUC: 0.876\n",
      "Test accuracy: 0.691\n",
      "Test AUC: 0.694\n"
     ]
    },
    {
     "data": {
      "image/png": "[encoded data removed]",
      "text/plain": [
       "<Figure size 640x480 with 2 Axes>"
      ]
     },
     "metadata": {},
     "output_type": "display_data"
    }
   ],
   "source": [
    "# Validate the Spanish model\n",
    "validate_lr_model(\n",
    "    lr_model=en_lr_model, \n",
    "    train_labels=list(en_train_df['task1'].values), \n",
    "    train_preds=en_train_preds, \n",
    "    test_labels=list(en_test_df['task1'].values),\n",
    "    test_preds=en_test_preds)"
   ]
  },
  {
   "attachments": {},
   "cell_type": "markdown",
   "metadata": {},
   "source": [
    "Replicando el mismo procedimiento de análisis realizado en la primera sección relativa al uso de bolsas de palabras, podemos apreciar en los siguientes resultados la **misma tendencia** en cada uno de los estudios realizados. Por lo tanto las **conclusiones extraídas hasta el momento también son aplicables** sobre estos experimentos que emplean la técnica TF-IDF para la codificación de documentos."
   ]
  },
  {
   "cell_type": "code",
   "execution_count": 12,
   "metadata": {},
   "outputs": [
    {
     "name": "stdout",
     "output_type": "stream",
     "text": [
      "FALSE NEGATIVES\n",
      "Confidence Interval Very low (0.0, 0.2): 0 samples\n",
      "Confidence Interval Low (0.2, 0.4): 0 samples\n",
      "Confidence Interval Medium (0.4, 0.6): 222 samples\n",
      "Confidence Interval High (0.6, 0.8): 199 samples\n",
      "Confidence Interval Very high (0.8, 1.0): 6 samples\n",
      "\n",
      "FALSE POSITIVES\n",
      "Confidence Interval Very low (0.0, 0.2): 0 samples\n",
      "Confidence Interval Low (0.2, 0.4): 0 samples\n",
      "Confidence Interval Medium (0.4, 0.6): 133 samples\n",
      "Confidence Interval High (0.6, 0.8): 113 samples\n",
      "Confidence Interval Very high (0.8, 1.0): 9 samples\n",
      "                               id\n",
      "task2                            \n",
      "ideological-inequality        139\n",
      "stereotyping-dominance         97\n",
      "misogyny-non-sexual-violence   83\n",
      "sexual-violence                74\n",
      "objectification                34\n",
      "\n",
      "FALSE NEGATIVES\n",
      "Emotion: fear - No. of texts: 51\n",
      "Emotion: surprise - No. of texts: 7\n",
      "Emotion: joy - No. of texts: 106\n",
      "Emotion: sadness - No. of texts: 54\n",
      "Emotion: anger - No. of texts: 204\n",
      "Emotion: love - No. of texts: 5\n",
      "\n",
      "FALSE POSITIVES\n",
      "Emotion: fear - No. of texts: 33\n",
      "Emotion: joy - No. of texts: 77\n",
      "Emotion: sadness - No. of texts: 35\n",
      "Emotion: anger - No. of texts: 107\n",
      "Emotion: love - No. of texts: 3\n"
     ]
    }
   ],
   "source": [
    "# Insert the predicted classes and probabilities into the test dataset\n",
    "en_test_df['task1_pred_classes'] = en_test_preds\n",
    "en_test_df['task1_pred_probs'] = en_test_probs\n",
    "\n",
    "# Map probabilities to confidence intervals\n",
    "print('FALSE NEGATIVES')\n",
    "false_negatives_df = en_test_df[(en_test_df['task1'] == 1) & (en_test_df['task1_pred_classes'] == 0)]\n",
    "analyze_predicted_probs(\n",
    "    dataset=false_negatives_df,\n",
    "    probs_col='task1_pred_probs')\n",
    "\n",
    "print('\\nFALSE POSITIVES')\n",
    "false_positives_df = en_test_df[(en_test_df['task1'] == 0) & (en_test_df['task1_pred_classes'] == 1)]\n",
    "analyze_predicted_probs(\n",
    "    dataset=false_positives_df,\n",
    "    probs_col='task1_pred_probs')\n",
    "\n",
    "# Count the number of false negatives per sexist category\n",
    "print(false_negatives_df.groupby(['task2']).count().filter(['id']).sort_values(by=['id'], ascending=False))\n",
    "\n",
    "# Map texts to emotions\n",
    "print('\\nFALSE NEGATIVES')\n",
    "map_texts_to_emotions(\n",
    "    text_ids=list(false_negatives_df['id'].values),\n",
    "    is_test=True\n",
    ")\n",
    "\n",
    "print('\\nFALSE POSITIVES')\n",
    "map_texts_to_emotions(\n",
    "    text_ids=list(false_positives_df['id'].values),\n",
    "    is_test=True\n",
    ")"
   ]
  },
  {
   "attachments": {},
   "cell_type": "markdown",
   "metadata": {},
   "source": [
    "#### 6.2.2. Modelo específico para español\n",
    "\n",
    "Acorde a los siguientes resultados tras entrenar un clasificador con la misma configuración definida en este experimento aunque sobre los documentos en español, se aprecia **un mayor sobreajuste** puesto que la diferencia entre las métricas de entrenamiento y de test son aún más destacables. En relación a las conclusiones obtenidas a partir del análisis de las probabilidades, las categorías sexistas y las emociones, de nuevo se han observado los **mismos patrones conocidos hasta el momento**, por lo que no se incluye el código puesto que no aportan más información relevante."
   ]
  },
  {
   "cell_type": "code",
   "execution_count": 13,
   "metadata": {},
   "outputs": [
    {
     "name": "stdout",
     "output_type": "stream",
     "text": [
      "Train accuracy: 0.970\n",
      "Train AUC: 0.970\n",
      "Test accuracy: 0.678\n",
      "Test AUC: 0.681\n"
     ]
    },
    {
     "data": {
      "image/png": "[encoded data removed]",
      "text/plain": [
       "<Figure size 640x480 with 2 Axes>"
      ]
     },
     "metadata": {},
     "output_type": "display_data"
    }
   ],
   "source": [
    "# Convert train and test documents to bag of words\n",
    "es_train_tfidf, es_test_tfidf = to_tf_idf(\n",
    "    train_docs=list(es_train_df['clean_text'].values), \n",
    "    test_docs=list(es_test_df['clean_text'].values))\n",
    "\n",
    "# Create and configure a LR model\n",
    "es_lr_model = LogisticRegression(\n",
    "    multi_class='ovr', \n",
    "    solver='liblinear')\n",
    "\n",
    "# Train the LR model\n",
    "es_lr_model.fit(\n",
    "    X=es_train_bag_words, \n",
    "    y=list(es_train_df['task1'].values))\n",
    "\n",
    "# Predict over the train and test datasets\n",
    "es_train_preds = es_lr_model.predict(X=es_train_bag_words)\n",
    "\n",
    "# Predict over the test dataset\n",
    "es_test_preds = es_lr_model.predict(X=es_test_bag_words)\n",
    "\n",
    "# Validate the Spanish model\n",
    "validate_lr_model(\n",
    "    lr_model=es_lr_model, \n",
    "    train_labels=list(es_train_df['task1'].values), \n",
    "    train_preds=es_train_preds, \n",
    "    test_labels=list(es_test_df['task1'].values),\n",
    "    test_preds=es_test_preds)"
   ]
  },
  {
   "attachments": {},
   "cell_type": "markdown",
   "metadata": {},
   "source": [
    "### 6.3. Tercer experimento: generación de embeddings\n",
    "\n",
    "#### 6.3.1. Codificación con Word2Vec\n",
    "\n",
    "En este nuevo experimento la configuración de los conjuntos de datos es similar a las anteriores así como la del propio modelo de Regresión Logística, destacando los siguientes aspectos:\n",
    "\n",
    "* La **codificación de textos** se ha realizado aplicando la técnica denominada **Word2Vec** para generar *word embeddings* personalizados a los datasets. \n",
    "\n",
    "* La **regularización** escogida en este caso ha sido la **L2** puesto que se presenta una casuística parecida a la explicada en el experimento anterior.\n",
    "\n",
    "Tras probar diversos valores para los distintos parámetros de la codificación de textos se han podido obtener las siguientes conclusiones:\n",
    "\n",
    "* El rango para el parámetro *vector_size* se encuentra alrededor de 100 por lo que es necesario aumentar el tamaño de los embeddings para almacenar una **mayor cantidad de vocabulario** con la que posteriormente codificar los documentos de una manera más precisa y sin perder tanta información que con longitudes menores.\n",
    "\n",
    "* El valor del parámetro *min_count* también es relevante puesto que si **aumenta demasiado el vocabulario** puede contener **demasiado ruido** y por ende las representaciones resultantes perjudican el rendimiento del clasificador. No obstante, si el valor es muy elevado el **vocabulario se reduce drásticamente perdiendo información**.\n",
    "\n",
    "* Una situación similar ocurre con el número de **iteraciones** puesto que a **mayor número, más sobreajuste** puesto que mayor es la diferencia entre los aciertos de entrenamiento y validación, aunque si se **decrementa demasiado** el modelo puede no tener suficiente tiempo como para estudiar los datos y perder información **disminuyendo su rendimiento**.\n",
    "\n",
    "* En relación al algoritmo utilizado para la codificación ha sido **CBWO** el que mejores resultados ha proporcionado siendo hasta un 5% más elevado en las tres métricas escogidas con respecto al algoritmo Skip-Gram. Por lo tanto para este conjunto de datos y utilizando Regresión Logística, es más factible intentar **predecir el siguiente término a partir del contexto** que no aplicando la arquitectura inversa.\n",
    "\n",
    "* Finalmente se ha experimentado a entrenar un único modelo Word2Vec generando un vocabulario con sendos datasets, con únicamente el de entrenamiento o dos modelos, uno para cada conjunto. De las tres configuraciones la que mejores valores métricos ha conseguido ha sido la última en la que se entrena **un modelo Word2Vec por dataset**. Una de las posibles teorías explicativas de este fenómeno reside en que si bien el conjunto de entrenamiento solo está compuesto por *tweets*, el de validación también dispone de documentos procedentes de una segunda red social llamada *Gab* y un alto contenido en noticias, por lo que la **terminología** parece ser **considerablemente diferente entre datasets**.\n",
    "\n",
    "##### 6.3.1.1. Modelo específico para inglés\n",
    "\n",
    "A pesar de los distintos experimentos realizados utilizando *word-embeddings* para encontrar la codificación de textos más prometedora para entrenar un clasificador con Regresión Logística, según se muestran en los siguientes resultados el modelo se encuentra **completamente sesgado por la clase negativa** ya que todas las predicciones realizadas han sido hacia la categoría *non-sexist*. Este fenómeno es observable cláramente en la matriz de confusión pueso que únicamente existen falsos negativos y verdaderos negativos."
   ]
  },
  {
   "cell_type": "code",
   "execution_count": 14,
   "metadata": {},
   "outputs": [
    {
     "name": "stdout",
     "output_type": "stream",
     "text": [
      "Train accuracy: 0.551\n",
      "Train AUC: 0.540\n",
      "Test accuracy: 0.476\n",
      "Test AUC: 0.500\n"
     ]
    },
    {
     "data": {
      "image/png": "[encoded data removed]",
      "text/plain": [
       "<Figure size 640x480 with 2 Axes>"
      ]
     },
     "metadata": {},
     "output_type": "display_data"
    }
   ],
   "source": [
    "# Encode train and test documents as word-embeddings\n",
    "en_train_w2v, en_test_w2v = word2vec_pipeline(\n",
    "    train_df=en_train_df, \n",
    "    train_text_col='clean_text', \n",
    "    test_df=en_test_df, \n",
    "    test_text_col='clean_text',\n",
    "    vector_size=100, \n",
    "    window=2, \n",
    "    min_count=4, \n",
    "    epochs=7, \n",
    "    alg=0)\n",
    "\n",
    "# Create and configure a LR model\n",
    "en_lr_model = LogisticRegression(\n",
    "    multi_class='ovr', \n",
    "    solver='liblinear')\n",
    "\n",
    "# Train the LR model\n",
    "en_lr_model.fit(\n",
    "    X=en_train_w2v, \n",
    "    y=list(en_train_df['task1'].values))\n",
    "\n",
    "# Predict over the train and test datasets\n",
    "en_train_preds = en_lr_model.predict(X=en_train_w2v)\n",
    "en_train_probs = [max(prob) for prob in en_lr_model.predict_proba(X=en_train_w2v)]\n",
    "\n",
    "# Predict over the test dataset\n",
    "en_test_preds = en_lr_model.predict(X=en_test_w2v)\n",
    "en_test_probs = [max(prob) for prob in en_lr_model.predict_proba(X=en_test_w2v)]\n",
    "\n",
    "validate_lr_model(\n",
    "    lr_model=en_lr_model, \n",
    "    train_labels=list(en_train_df['task1'].values), \n",
    "    train_preds=en_train_preds, \n",
    "    test_labels=list(en_test_df['task1'].values), \n",
    "    test_preds=en_test_preds)"
   ]
  },
  {
   "attachments": {},
   "cell_type": "markdown",
   "metadata": {},
   "source": [
    "##### 6.3.1.2. Modelo específico para español\n",
    "\n",
    "Tal y como se aprecia en los siguientes resultados después de la construcción de un clasificador con la misma configuración anterior aunque sobre el conjunto de documentos en español, la tendencia es idéntica ya que se encuentra **totalmente sesgado hacia la clase negativa** con apenas algunas muestras clasificadas como *sexist*."
   ]
  },
  {
   "cell_type": "code",
   "execution_count": 15,
   "metadata": {},
   "outputs": [
    {
     "name": "stdout",
     "output_type": "stream",
     "text": [
      "Train accuracy: 0.581\n",
      "Train AUC: 0.578\n",
      "Test accuracy: 0.482\n",
      "Test AUC: 0.502\n"
     ]
    },
    {
     "data": {
      "image/png": "[encoded data removed]",
      "text/plain": [
       "<Figure size 640x480 with 2 Axes>"
      ]
     },
     "metadata": {},
     "output_type": "display_data"
    }
   ],
   "source": [
    "# Encode train and test documents as word-embeddings\n",
    "es_train_w2v, es_test_w2v = word2vec_pipeline(\n",
    "    train_df=es_train_df, \n",
    "    train_text_col='clean_text', \n",
    "    test_df=es_test_df, \n",
    "    test_text_col='clean_text',\n",
    "    vector_size=100, \n",
    "    window=2, \n",
    "    min_count=4, \n",
    "    epochs=7, \n",
    "    alg=0)\n",
    "\n",
    "# Create and configure a LR model\n",
    "es_lr_model = LogisticRegression(\n",
    "    multi_class='ovr', \n",
    "    solver='liblinear')\n",
    "\n",
    "# Train the LR model\n",
    "es_lr_model.fit(\n",
    "    X=es_train_w2v, \n",
    "    y=list(es_train_df['task1'].values))\n",
    "\n",
    "# Predict over the train and test datasets\n",
    "es_train_preds = es_lr_model.predict(X=es_train_w2v)\n",
    "es_train_probs = [max(prob) for prob in es_lr_model.predict_proba(X=es_train_w2v)]\n",
    "\n",
    "# Predict over the test dataset\n",
    "es_test_preds = es_lr_model.predict(X=es_test_w2v)\n",
    "es_test_probs = [max(prob) for prob in es_lr_model.predict_proba(X=es_test_w2v)]\n",
    "\n",
    "validate_lr_model(\n",
    "    lr_model=es_lr_model, \n",
    "    train_labels=list(es_train_df['task1'].values), \n",
    "    train_preds=es_train_preds, \n",
    "    test_labels=list(es_test_df['task1'].values), \n",
    "    test_preds=es_test_preds)"
   ]
  },
  {
   "attachments": {},
   "cell_type": "markdown",
   "metadata": {},
   "source": [
    "#### 6.3.2. Codificación con Doc2Vec\n",
    "\n",
    "Al igual que con la versión anterior se replica la misma configuración de los conjuntos de entrenamiento y validación para entrenar un modelo con Regresión Logística destacando los siguientes aspectos más relevantes:\n",
    "\n",
    "* La **codificación de textos** se ha realizado aplicando la técnica denominada **Doc2Vec** para generar *word embeddings* personalizados a los datasets. \n",
    "\n",
    "* La **regularización** escogida en este caso ha sido la **L2** con un valor ligeramente superior al valor por defecto por lo que aplicando una **menor penalización** el modelo presenta **mejores resultados**. Tanto con una mayor penalización como aplicando la regularización L1, los resultados de las métricas descienden hasta en más de 3 puntos. \n",
    "\n",
    "Tras probar diversos valores para los distintos parámetros de la codificación de textos se han podido obtener las siguientes conclusiones:\n",
    "\n",
    "* El rango para el parámetro *vector_size* es más elevado que con la técnica *Word2Vec* necesitando **vectores de mayor longitud** para encapsular más información que ayude al modelo a obtener un mejor rendimiento. La teoría explicativa más plausible para este aumento de tamaño puede estar relacionada con la característica adicional que presenta esta variante al incluir la **representación de los párrafos** en los que se encuentran los términos, ya que ocupan una mayor longitud que los propios conceptos.\n",
    "\n",
    "* El valor del parámetro *min_count* también ha **aumentado su valor** para mejorar el rendimiento del modelo por lo que parece necesario **restringir más los términos** que aparecen en el vocabulario que en la variante anterior. Así se obtiene un vocabulario más preciso pese a que la representación de los textos ocupe una mayor cantidad de memoria.\n",
    "\n",
    "* Una situación similar ocurre con el número de **iteraciones** puesto que a **mayor número, más sobreajuste** puesto que mayor es la diferencia entre los aciertos de entrenamiento y validación, aunque si se **decrementa demasiado** el modelo puede no tener suficiente tiempo como para estudiar los datos y perder información **disminuyendo su rendimiento**.\n",
    "\n",
    "* Mientras que los experimentos con el algoritmo **PV-DBOW apenas han hecho variar el rendimiento del modelo**, la segunda opción **PV-DM** es la que ha proporcionado una **mayor variabilidad y respuesta** ante los cambios de los parámetros y por ende el mejor modelo encontrado para esta configuración. De nuevo el enfoque de entrenamiento de *embeddings* que parece ser más efectivo es la **predicción de términos a partir de un contexto** proporcionado.\n",
    "\n",
    "##### 6.3.2.1. Modelo específico para inglés\n",
    "\n",
    "A pesar de las diferencias destacadas entre ambas técnicas, este nuevo clasificador resultante también presenta un **comportamiento prácticamente aleatorio** por sus ínfimas tasas de aciertos tanto en entrenamiento como en validación, además de un valor AUC casi despreciable que confirma el nulo aprendizaje del modelo. Como en el experimento previo destaca una **fortísima tasa de falsos positivos** si observamos la matriz de confusión."
   ]
  },
  {
   "cell_type": "code",
   "execution_count": 16,
   "metadata": {},
   "outputs": [
    {
     "name": "stdout",
     "output_type": "stream",
     "text": [
      "Train accuracy: 0.519\n",
      "Train AUC: 0.497\n",
      "Test accuracy: 0.521\n",
      "Test AUC: 0.520\n"
     ]
    },
    {
     "data": {
      "image/png": "[encoded data removed]",
      "text/plain": [
       "<Figure size 640x480 with 2 Axes>"
      ]
     },
     "metadata": {},
     "output_type": "display_data"
    }
   ],
   "source": [
    "# Encode train and test documents as word-embeddings\n",
    "en_train_d2v, en_test_d2v = doc2vec_pipeline(\n",
    "    train_df=en_train_df, \n",
    "    train_text_col='clean_text', \n",
    "    test_df=en_test_df, \n",
    "    test_text_col='clean_text', \n",
    "    vector_size=200, \n",
    "    window=5, \n",
    "    min_count=10, \n",
    "    epochs=2, \n",
    "    alg=1)\n",
    "\n",
    "# Create and configure a LR model\n",
    "en_lr_model = LogisticRegression(\n",
    "    multi_class='ovr', \n",
    "    solver='liblinear', \n",
    "    penalty='l2', \n",
    "    C=1.5)\n",
    "\n",
    "# Train the LR model\n",
    "en_lr_model.fit(\n",
    "    X=en_train_d2v, \n",
    "    y=list(en_train_df['task1'].values))\n",
    "\n",
    "# Predict over the train and test datasets\n",
    "en_train_preds = en_lr_model.predict(X=en_train_d2v)\n",
    "en_train_probs = [max(prob) for prob in en_lr_model.predict_proba(X=en_train_d2v)]\n",
    "\n",
    "# Predict over the test dataset\n",
    "en_test_preds = en_lr_model.predict(X=en_test_d2v)\n",
    "en_test_probs = [max(prob) for prob in en_lr_model.predict_proba(X=en_test_d2v)]\n",
    "\n",
    "validate_lr_model(\n",
    "    lr_model=en_lr_model, \n",
    "    train_labels=list(en_train_df['task1'].values), \n",
    "    train_preds=en_train_preds, \n",
    "    test_labels=list(en_test_df['task1'].values), \n",
    "    test_preds=en_test_preds)"
   ]
  },
  {
   "attachments": {},
   "cell_type": "markdown",
   "metadata": {},
   "source": [
    "A diferencia de los modelos construidos hasta el momento, en los siguientes datos estadísticos se puede observar que el clasificador entrenado sobre documentos en inglés codificados con *Doc2Vec* se caracteriza por unos **umbrales de confianza medios y bajos**, por lo que parece ser que el modelo en este experimento no se encuentra seguro de las predicciones que realiza."
   ]
  },
  {
   "cell_type": "code",
   "execution_count": 17,
   "metadata": {},
   "outputs": [
    {
     "name": "stdout",
     "output_type": "stream",
     "text": [
      "FALSE NEGATIVES\n",
      "Confidence Interval Very low (0.0, 0.2): 0 samples\n",
      "Confidence Interval Low (0.2, 0.4): 0 samples\n",
      "Confidence Interval Medium (0.4, 0.6): 504 samples\n",
      "Confidence Interval High (0.6, 0.8): 13 samples\n",
      "Confidence Interval Very high (0.8, 1.0): 0 samples\n",
      "\n",
      "FALSE POSITIVES\n",
      "Confidence Interval Very low (0.0, 0.2): 0 samples\n",
      "Confidence Interval Low (0.2, 0.4): 0 samples\n",
      "Confidence Interval Medium (0.4, 0.6): 540 samples\n",
      "Confidence Interval High (0.6, 0.8): 0 samples\n",
      "Confidence Interval Very high (0.8, 1.0): 0 samples\n"
     ]
    }
   ],
   "source": [
    "# Insert the predicted classes and probabilities into the test dataset\n",
    "en_test_df['task1_pred_classes'] = en_test_preds\n",
    "en_test_df['task1_pred_probs'] = en_test_probs\n",
    "\n",
    "# Map probabilities to confidence intervals\n",
    "print('FALSE NEGATIVES')\n",
    "false_negatives_df = en_test_df[(en_test_df['task1'] == 1) & (en_test_df['task1_pred_classes'] == 0)]\n",
    "analyze_predicted_probs(\n",
    "    dataset=false_negatives_df,\n",
    "    probs_col='task1_pred_probs')\n",
    "\n",
    "print('\\nFALSE POSITIVES')\n",
    "false_positives_df = en_test_df[(en_test_df['task1'] == 0) & (en_test_df['task1_pred_classes'] == 1)]\n",
    "analyze_predicted_probs(\n",
    "    dataset=false_positives_df,\n",
    "    probs_col='task1_pred_probs')"
   ]
  },
  {
   "attachments": {},
   "cell_type": "markdown",
   "metadata": {},
   "source": [
    "No obstante, en el resto de análisis explicativos las **métricas calculadas son muy similares** a las de otros modelos y tras una inspección visual de los documentos implicados, se pueden **aplicar las mismas conclusiones** conocidas hasta el momento acerca de la naturaleza y composición de los textos relativos a muestras erróneamente clasificadas."
   ]
  },
  {
   "cell_type": "code",
   "execution_count": 18,
   "metadata": {},
   "outputs": [
    {
     "name": "stdout",
     "output_type": "stream",
     "text": [
      "                               id\n",
      "task2                            \n",
      "ideological-inequality        138\n",
      "stereotyping-dominance        112\n",
      "misogyny-non-sexual-violence  108\n",
      "sexual-violence                99\n",
      "objectification                60\n",
      "\n",
      "FALSE NEGATIVES\n",
      "Emotion: fear - No. of texts: 54\n",
      "Emotion: surprise - No. of texts: 6\n",
      "Emotion: joy - No. of texts: 112\n",
      "Emotion: sadness - No. of texts: 63\n",
      "Emotion: anger - No. of texts: 260\n",
      "Emotion: love - No. of texts: 22\n",
      "\n",
      "FALSE POSITIVES\n",
      "Emotion: fear - No. of texts: 64\n",
      "Emotion: surprise - No. of texts: 11\n",
      "Emotion: joy - No. of texts: 182\n",
      "Emotion: sadness - No. of texts: 52\n",
      "Emotion: anger - No. of texts: 222\n",
      "Emotion: love - No. of texts: 9\n"
     ]
    }
   ],
   "source": [
    "# Count the number of false negatives per sexist category\n",
    "print(false_negatives_df.groupby(['task2']).count().filter(['id']).sort_values(by=['id'], ascending=False))\n",
    "\n",
    "# Map texts to emotions\n",
    "print('\\nFALSE NEGATIVES')\n",
    "map_texts_to_emotions(\n",
    "    text_ids=list(false_negatives_df['id'].values),\n",
    "    is_test=True\n",
    ")\n",
    "\n",
    "print('\\nFALSE POSITIVES')\n",
    "map_texts_to_emotions(\n",
    "    text_ids=list(false_positives_df['id'].values),\n",
    "    is_test=True\n",
    ")"
   ]
  },
  {
   "attachments": {},
   "cell_type": "markdown",
   "metadata": {},
   "source": [
    "##### 6.3.2.2. Modelo específico para español\n",
    "\n",
    "Visualizando los siguientes resultados tras construir un clasificador con idéntica configuración a la anterior aunque sobre un conjunto de textos españoles, podemos apreciar un cambio drástico de comportamiento obteniendo un **modelo totalmente sesgado hacia la clase positiva**, según la matriz de confusión."
   ]
  },
  {
   "cell_type": "code",
   "execution_count": 19,
   "metadata": {},
   "outputs": [
    {
     "name": "stdout",
     "output_type": "stream",
     "text": [
      "Train accuracy: 0.522\n",
      "Train AUC: 0.516\n",
      "Test accuracy: 0.520\n",
      "Test AUC: 0.500\n"
     ]
    },
    {
     "data": {
      "image/png": "[encoded data removed]",
      "text/plain": [
       "<Figure size 640x480 with 2 Axes>"
      ]
     },
     "metadata": {},
     "output_type": "display_data"
    }
   ],
   "source": [
    "# Encode train and test documents as word-embeddings\n",
    "es_train_d2v, es_test_d2v = doc2vec_pipeline(\n",
    "    train_df=es_train_df, \n",
    "    train_text_col='clean_text', \n",
    "    test_df=es_test_df, \n",
    "    test_text_col='clean_text', \n",
    "    vector_size=200, \n",
    "    window=5, \n",
    "    min_count=10, \n",
    "    epochs=2, \n",
    "    alg=1)\n",
    "\n",
    "# Create and configure a LR model\n",
    "es_lr_model = LogisticRegression(\n",
    "    multi_class='ovr', \n",
    "    solver='liblinear', \n",
    "    penalty='l2', \n",
    "    C=1.5)\n",
    "\n",
    "# Train the LR model\n",
    "es_lr_model.fit(\n",
    "    X=es_train_d2v, \n",
    "    y=list(es_train_df['task1'].values))\n",
    "\n",
    "# Predict over the train and test datasets\n",
    "es_train_preds = es_lr_model.predict(X=es_train_d2v)\n",
    "es_train_probs = [max(prob) for prob in es_lr_model.predict_proba(X=es_train_d2v)]\n",
    "\n",
    "# Predict over the test dataset\n",
    "es_test_preds = es_lr_model.predict(X=es_test_d2v)\n",
    "es_test_probs = [max(prob) for prob in es_lr_model.predict_proba(X=es_test_d2v)]\n",
    "\n",
    "validate_lr_model(\n",
    "    lr_model=es_lr_model, \n",
    "    train_labels=list(es_train_df['task1'].values), \n",
    "    train_preds=es_train_preds, \n",
    "    test_labels=list(es_test_df['task1'].values), \n",
    "    test_preds=es_test_preds)"
   ]
  },
  {
   "attachments": {},
   "cell_type": "markdown",
   "metadata": {},
   "source": [
    "Observando el siguiente análisis sobre los intervalos de confianza existentes en los falsos positivos se aprecia una concentración total en el rango [0.4, 0.6], lo que significa que el **modelo no se encuentra nada seguro acerca de las predicciones que realiza**."
   ]
  },
  {
   "cell_type": "code",
   "execution_count": 20,
   "metadata": {},
   "outputs": [
    {
     "name": "stdout",
     "output_type": "stream",
     "text": [
      "\n",
      "FALSE POSITIVES\n",
      "Confidence Interval Very low (0.0, 0.2): 0 samples\n",
      "Confidence Interval Low (0.2, 0.4): 0 samples\n",
      "Confidence Interval Medium (0.4, 0.6): 1037 samples\n",
      "Confidence Interval High (0.6, 0.8): 0 samples\n",
      "Confidence Interval Very high (0.8, 1.0): 0 samples\n"
     ]
    }
   ],
   "source": [
    "# Insert the predicted classes and probabilities into the test dataset\n",
    "es_test_df['task1_pred_classes'] = es_test_preds\n",
    "es_test_df['task1_pred_probs'] = es_test_probs\n",
    "\n",
    "print('\\nFALSE POSITIVES')\n",
    "false_positives_df = es_test_df[(es_test_df['task1'] == 0) & (es_test_df['task1_pred_classes'] == 1)]\n",
    "analyze_predicted_probs(\n",
    "    dataset=false_positives_df,\n",
    "    probs_col='task1_pred_probs')"
   ]
  },
  {
   "attachments": {},
   "cell_type": "markdown",
   "metadata": {},
   "source": [
    "### 6.3.4. Embeddings pre-entrenados\n",
    "\n",
    "En esta última sección se ha experimentado con diferentes modelos pre-entrenados que disponen de un conjunto de embeddings listo para codificar los documentos de entrenamiento y validación. A continuación se exponen los resultados que se han obtenido de manera general y específica a ciertos modelos.\n",
    "\n",
    "* La mayoría de modelos experimentados **generan valores peridos** al intentar codificar los documentos de entrenamiento y validación, por lo que su tratamiento debe ser considerado para el empleo de ciertos algoritmos de Aprendizaje Automático, como es el caso de la Regresión Logística que es totalmente incompatible con este tipo de valores.\n",
    "\n",
    "* La mayor parte de word-embeddings pre-entrenados se encuentran únicamente **orientados a documentos en inglés**, siendo aquellos multilenguajes o específicos del español ficheros disponibles *online* de tamaños muy considerables (> 2GB). Por lo tanto para realizar una primera prueba procedemos a realizar este experimento únicamente con los textos ingleses.\n",
    "\n",
    "Tal y como se puede apreciar en los siguientes resultados, los valores de todas las métricas de validación son pésimos, si bien parece **evitarse el fenómeno del sobreaprendizaje** por su mínima diferencia entre entrenamiento y test. No obstante, las tasas de falsos positivos y negativos siguen siendo demasiado altas por lo que de momento utilizando únicamente Regresión Logística no parece que se puedan vislumbrar las diferencias y ventajas de usar embeddings pre-entrenados o generarlos de manera personalizada a nuestro problema."
   ]
  },
  {
   "cell_type": "code",
   "execution_count": 23,
   "metadata": {},
   "outputs": [
    {
     "name": "stdout",
     "output_type": "stream",
     "text": [
      "Train accuracy: 0.696\n",
      "Train AUC: 0.692\n",
      "Test accuracy: 0.649\n",
      "Test AUC: 0.651\n"
     ]
    },
    {
     "data": {
      "image/png": "[encoded data removed]",
      "text/plain": [
       "<Figure size 640x480 with 2 Axes>"
      ]
     },
     "metadata": {},
     "output_type": "display_data"
    }
   ],
   "source": [
    "# Encode train and test documents as word-embeddings\n",
    "en_train_pret_wordemb, en_test_pret_wordemb = to_pretrained_embeddings(\n",
    "    train_df=en_train_df, \n",
    "    train_text_col='clean_text', \n",
    "    test_df=en_test_df, \n",
    "    test_text_col='clean_text', \n",
    "    model='glove-twitter-100',\n",
    "    vector_size=100)\n",
    "\n",
    "# Create and configure a LR model\n",
    "en_lr_model = LogisticRegression(\n",
    "    multi_class=\"ovr\", \n",
    "    solver=\"liblinear\")\n",
    "\n",
    "# Train the LR model\n",
    "en_lr_model.fit(\n",
    "    X=en_train_pret_wordemb, \n",
    "    y=list(en_train_df['task1'].values))\n",
    "\n",
    "# Predict over the train and test datasets\n",
    "en_train_preds = en_lr_model.predict(X=en_train_pret_wordemb)\n",
    "en_train_probs = [max(prob) for prob in en_lr_model.predict_proba(X=en_train_pret_wordemb)]\n",
    "\n",
    "# Predict over the test dataset\n",
    "en_test_preds = en_lr_model.predict(X=en_test_pret_wordemb)\n",
    "en_test_probs = [max(prob) for prob in en_lr_model.predict_proba(X=en_test_pret_wordemb)]\n",
    "\n",
    "validate_lr_model(\n",
    "    lr_model=en_lr_model, \n",
    "    train_labels=list(en_train_df['task1'].values), \n",
    "    train_preds=en_train_preds, \n",
    "    test_labels=list(en_test_df['task1'].values), \n",
    "    test_preds=en_test_preds)"
   ]
  },
  {
   "attachments": {},
   "cell_type": "markdown",
   "metadata": {},
   "source": [
    "Por último replicando la misma analítica sobre las probabilidades predichas, las clases sexistas existentes y el estudio sobre detección de emociones, podemos visualizar datos muy similares a los experimentos anteriores. La **mayor parte de los errores se encuentran en los dos intervalos de confianza más elevados**, por lo que el modelo parece seguro de las decisiones que ha tomado. Por otro lado la distribución de textos entre las emociones detectadas y las categorías sexistas es prácticamente idéntica a las vistas hasta el momento, perteneciendo la **mayoría de muestras erróneamente clasificadas a las categorías más complicadas de detectar**. "
   ]
  },
  {
   "cell_type": "code",
   "execution_count": 24,
   "metadata": {},
   "outputs": [
    {
     "name": "stdout",
     "output_type": "stream",
     "text": [
      "FALSE NEGATIVES\n",
      "Confidence Interval Very low (0.0, 0.2): 0 samples\n",
      "Confidence Interval Low (0.2, 0.4): 0 samples\n",
      "Confidence Interval Medium (0.4, 0.6): 221 samples\n",
      "Confidence Interval High (0.6, 0.8): 232 samples\n",
      "Confidence Interval Very high (0.8, 1.0): 19 samples\n",
      "\n",
      "FALSE POSITIVES\n",
      "Confidence Interval Very low (0.0, 0.2): 0 samples\n",
      "Confidence Interval Low (0.2, 0.4): 0 samples\n",
      "Confidence Interval Medium (0.4, 0.6): 127 samples\n",
      "Confidence Interval High (0.6, 0.8): 132 samples\n",
      "Confidence Interval Very high (0.8, 1.0): 45 samples\n",
      "                               id\n",
      "task2                            \n",
      "ideological-inequality        162\n",
      "stereotyping-dominance        122\n",
      "misogyny-non-sexual-violence   82\n",
      "sexual-violence                59\n",
      "objectification                47\n",
      "\n",
      "FALSE NEGATIVES\n",
      "Emotion: fear - No. of texts: 44\n",
      "Emotion: surprise - No. of texts: 10\n",
      "Emotion: joy - No. of texts: 132\n",
      "Emotion: sadness - No. of texts: 75\n",
      "Emotion: anger - No. of texts: 204\n",
      "Emotion: love - No. of texts: 7\n",
      "\n",
      "FALSE POSITIVES\n",
      "Emotion: fear - No. of texts: 35\n",
      "Emotion: surprise - No. of texts: 2\n",
      "Emotion: joy - No. of texts: 89\n",
      "Emotion: sadness - No. of texts: 31\n",
      "Emotion: anger - No. of texts: 141\n",
      "Emotion: love - No. of texts: 6\n"
     ]
    }
   ],
   "source": [
    "# Insert the predicted classes and probabilities into the test dataset\n",
    "en_test_df['task1_pred_classes'] = en_test_preds\n",
    "en_test_df['task1_pred_probs'] = en_test_probs\n",
    "\n",
    "# Map probabilities to confidence intervals\n",
    "print('FALSE NEGATIVES')\n",
    "false_negatives_df = en_test_df[(en_test_df['task1'] == 1) & (en_test_df['task1_pred_classes'] == 0)]\n",
    "analyze_predicted_probs(\n",
    "    dataset=false_negatives_df,\n",
    "    probs_col='task1_pred_probs')\n",
    "\n",
    "print('\\nFALSE POSITIVES')\n",
    "false_positives_df = en_test_df[(en_test_df['task1'] == 0) & (en_test_df['task1_pred_classes'] == 1)]\n",
    "analyze_predicted_probs(\n",
    "    dataset=false_positives_df,\n",
    "    probs_col='task1_pred_probs')\n",
    "\n",
    "# Count the number of false negatives per sexist category\n",
    "print(false_negatives_df.groupby(['task2']).count().filter(['id']).sort_values(by=['id'], ascending=False))\n",
    "\n",
    "# Map texts to emotions\n",
    "print('\\nFALSE NEGATIVES')\n",
    "map_texts_to_emotions(\n",
    "    text_ids=list(false_negatives_df['id'].values),\n",
    "    is_test=True\n",
    ")\n",
    "\n",
    "print('\\nFALSE POSITIVES')\n",
    "map_texts_to_emotions(\n",
    "    text_ids=list(false_positives_df['id'].values),\n",
    "    is_test=True\n",
    ")"
   ]
  },
  {
   "attachments": {},
   "cell_type": "markdown",
   "metadata": {},
   "source": [
    "## 7. Conclusiones\n",
    "\n",
    "Después de experimentar con diferentes configuraciones de codificación de textos y entrenamiento de modelos con Regresión Logística, a continuación se resumen las claves más relevantes que se han extraído durante la generación de este notebook:\n",
    "\n",
    "* Si bien el algoritmo de Regresión Logística para entrenar los clasificadores es profundamente sencillo, el objetivo se orientaba más hacia el **estudio y comprensión de las metodologías de codificación de textos**. Por lo tanto debemos considerar que los resultados obtenidos **no permiten descartar** a unas u otras puesto que la Regresión Logística no está pensada para abordar problemas de clasificación de textos.\n",
    "\n",
    "* De las experimentaciones realizadas destacan principalmente las dos primeras en las que se empleaban **Bolsas de Palabras** y **TF-IDF** por sus **mejores resultados** en base a las métricas consideradas de *accuracy* en entrenamiento y test, *AUC* y matriz de confusión. Si bien han sido **las más sencillas** de conocer, implementar y analizar, han demostrado disponer de una **suficiente capacidad de representación** para construir clasificadores medianamente decentes con un algoritmo estadístico como es la Regresión Logística.\n",
    "\n",
    "* En relación al **entrenamiento de embeddings** personalizados en los conjuntos de datos se han podido experimentar con diversas técnicas que son prácticamente **todas variantes de Word2Vec**. En estos casos los **resultados no han sido aceptables** pero de nuevo intuyo un gran potencial si son combinados con arquitecturas más complejas y específicamente diseñadas para la clasificación de textos, como redes LSTM. Del mismo modo ocurre con el uso de embeddings pre-entrenados, en cuya mayoría apenas se han podido entrenar clasificadores por su generación de valores nulos y la incompatibilidad de tratar este tipo de datos por parte de la Regresión Logística.\n",
    "\n",
    "* Una conclusión general a todos los modelos ha sido el **aumento del sobreajuste** presentado conforme **aumenta la complejidad de la codificación de textos**. Este fenómeno probablemente esté únicamente asociado al empleo de la Regresión Logística para la construcción de los clasificadores pero ha sido inesperado por mi parte y por tanto debe ser destacado como precaución a tomar en el uso de arquitecturas más complejas."
   ]
  }
 ],
 "metadata": {
  "kernelspec": {
   "display_name": "Python 3",
   "language": "python",
   "name": "python3"
  },
  "language_info": {
   "codemirror_mode": {
    "name": "ipython",
    "version": 3
   },
   "file_extension": ".py",
   "mimetype": "text/x-python",
   "name": "python",
   "nbconvert_exporter": "python",
   "pygments_lexer": "ipython3",
   "version": "3.10.6"
  },
  "orig_nbformat": 4,
  "vscode": {
   "interpreter": {
    "hash": "916dbcbb3f70747c44a77c7bcd40155683ae19c65e1c03b4aa3499c5328201f1"
   }
  }
 },
 "nbformat": 4,
 "nbformat_minor": 2
}

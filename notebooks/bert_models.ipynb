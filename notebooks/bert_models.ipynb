{
 "cells": [
  {
   "attachments": {},
   "cell_type": "markdown",
   "metadata": {},
   "source": [
    "# Modelos BERT\n",
    "\n",
    "## 1. Introducción a BERT\n",
    "\n",
    "BERT es un acrónimo de *Bidirectional Encoder Representations from Transformers* y representa un tipo de red neuronal denominada ***transformer*** que es capaz de realizar varios **procesamientos en paralelo** sobre un mismo texto puesto que no sigue un orden específico de lectura ya que puede analizar términos en ambas direcciones. Esta arquitectura ha sido desarrollada por Google y se encuentra compuesta por **múltiples *encoders*** capaces de **extraer características y codificar documentos** proporcionados como entrada. Este modelo dispone de **mecanismos de atención y capas *feed-forward*** con las que aprende las **relaciones contextuales** existentes entre términos y subtérminos dentro de un conjunto de textos.\n",
    "\n",
    "\n",
    "### 1.1. Condiciones de uso\n",
    "\n",
    "Es un requisito indispensable la aplicación de un **formateo específico** para proporcionarle al modelo un conjunto de **documentos como entrada**. Para ello se debe diseñar un procedimiento que contenga los siguientes pasos.\n",
    "\n",
    "   1. En primer lugar se debe ***tokenizar*** todos los documentos, es decir, separar cada uno de ellos en *tokens* o palabras individuales.\n",
    "\n",
    "   2. A continuación se deben incluir **dos tokens adicionales** para marcar **el inicio y el final** de una secuencia de texto. Por lo tanto el primer token de una frase debe ser *[CLS]* mientras que el último token que cierra la secuencia de términos debe ser *[SEP]*.\n",
    "\n",
    "   3. Finalmente cada secuencia de términos debe tener una **longitud fija de 512** tokens. Si es inferior se deberá alcanzar dicha cifra completando los huecos vacíos con tantos tokens *[PAD]* como sean necearios. Si es superior entonces se deberá truncar la secuencia y dividirla en varias siempre respetando el tamaño prefijado.\n",
    "\n",
    "### 1.2. Casos de uso\n",
    "\n",
    "* Detección y clasificación de documentos.\n",
    "* Mecanismos de preguntas y respuestas.\n",
    "* Análisis de sentimientos.\n",
    "* Generación de textos en lenguaje natural para múltiples idiomas.\n",
    "* Detección y extracción de patrones en documentos."
   ]
  },
  {
   "attachments": {},
   "cell_type": "markdown",
   "metadata": {},
   "source": [
    "## 2. Estructura del notebook\n",
    "\n",
    "1. Introducción a BERT\n",
    "2. Estructura del notebook\n",
    "3. Instalación y carga de librerías\n",
    "4. Lectura y carga de datos\n",
    "5. Experimentos y modelos\n",
    "6. Conclusiones"
   ]
  },
  {
   "attachments": {},
   "cell_type": "markdown",
   "metadata": {},
   "source": [
    "## 3. Instalación y carga de librerías\n",
    "\n",
    "Este apartado tiene como único propósito cargar las librerías y dependencias necesarias para la ejecución de este notebook, así como las funciones propiamente desarrolladas. Previo a ello deberán ser instaladas bien ejecutando el script *setup.sh* mediante el comando `bash setup.sh` con permisos de ejecución en distribuciones Linux, o bien ejecutando el compando `pip install -r requirements.txt`."
   ]
  },
  {
   "cell_type": "code",
   "execution_count": 1,
   "metadata": {},
   "outputs": [
    {
     "name": "stderr",
     "output_type": "stream",
     "text": [
      "2023-05-07 16:58:50.341135: I tensorflow/core/platform/cpu_feature_guard.cc:193] This TensorFlow binary is optimized with oneAPI Deep Neural Network Library (oneDNN) to use the following CPU instructions in performance-critical operations:  AVX2 FMA\n",
      "To enable them in other operations, rebuild TensorFlow with the appropriate compiler flags.\n",
      "2023-05-07 16:58:50.735411: W tensorflow/compiler/xla/stream_executor/platform/default/dso_loader.cc:64] Could not load dynamic library 'libcudart.so.11.0'; dlerror: libcudart.so.11.0: cannot open shared object file: No such file or directory\n",
      "2023-05-07 16:58:50.735429: I tensorflow/compiler/xla/stream_executor/cuda/cudart_stub.cc:29] Ignore above cudart dlerror if you do not have a GPU set up on your machine.\n",
      "2023-05-07 16:58:51.859313: W tensorflow/compiler/xla/stream_executor/platform/default/dso_loader.cc:64] Could not load dynamic library 'libnvinfer.so.7'; dlerror: libnvinfer.so.7: cannot open shared object file: No such file or directory\n",
      "2023-05-07 16:58:51.859458: W tensorflow/compiler/xla/stream_executor/platform/default/dso_loader.cc:64] Could not load dynamic library 'libnvinfer_plugin.so.7'; dlerror: libnvinfer_plugin.so.7: cannot open shared object file: No such file or directory\n",
      "2023-05-07 16:58:51.859467: W tensorflow/compiler/tf2tensorrt/utils/py_utils.cc:38] TF-TRT Warning: Cannot dlopen some TensorRT libraries. If you would like to use Nvidia GPU with TensorRT, please make sure the missing libraries mentioned above are installed properly.\n"
     ]
    }
   ],
   "source": [
    "%%capture\n",
    "# pandas: to read the datasets\n",
    "import pandas as pd\n",
    "\n",
    "# numpy: to work with Numpy ndarrays\n",
    "import numpy as np\n",
    "\n",
    "# tensorflow / transformers: to work with pre-trained BERT models\n",
    "import tensorflow as tf\n",
    "from transformers import *\n",
    "\n",
    "# sklearn: to calculate validation metrics and a confusion matrix\n",
    "from sklearn import metrics\n",
    "\n",
    "# matplotlib: to plot charts\n",
    "import matplotlib.pyplot as plt\n",
    " \n",
    "import sys\n",
    "sys.path.append('../scripts')\n",
    "\n",
    "# data: to analyze test predictions\n",
    "from data import analyze_predicted_probs, map_texts_to_emotions"
   ]
  },
  {
   "attachments": {},
   "cell_type": "markdown",
   "metadata": {},
   "source": [
    "## 4. Lectura y carga de datos procesados\n",
    "\n",
    "En esta sección se pretende leer y cargar los datos de entrenamiento y test ya procesados a los que se les ha aplicado las siguientes técnicas de tratamiento de documentos:\n",
    "\n",
    "  - Elimina URLs.\n",
    "  - Elimina usuarios mencionados.\n",
    "  - Elimina caracteres especiales, no alfabéticos y signos de puntuación.\n",
    "  - Convierte todos los caracteres en minúsculas.\n",
    "  - **No se aplica lematización** puesto que el rendimiento del modelo apenas mejora aunque el tiempo invertido se multiplica exponencialmente.\n",
    "  - **No se intenta detectar y corregir palabras erróneamente escritas** puesto que tampoco mejora el rendimiento del modelo pero la inversión de recursos es desorbitada. Según he podido comprobar apenas se detecta un 9,43% de términos con faltas de ortogragía y solo un 7,61% son corregidos, por lo que esta técnica no parece que vaya a ser de utilidad. </p>\n",
    "\n",
    "Tal y como se puede comprobar en los siguientes resultados las dimensiones de sendos conjuntos de datos se detallan a continuación:\n",
    "\n",
    "* Conjunto de entrenamiento: **6.865 muestras**.\n",
    "* Conjunto de validación: **4.296 muestras**."
   ]
  },
  {
   "cell_type": "code",
   "execution_count": 2,
   "metadata": {},
   "outputs": [
    {
     "name": "stdout",
     "output_type": "stream",
     "text": [
      "Train dataset dimensions: (6865, 6)\n",
      "Test dataset dimensions: (4296, 6)\n"
     ]
    }
   ],
   "source": [
    "# Read already processed EXIST datasets\n",
    "train_df = pd.read_csv('../data/proc_EXIST2021_train.csv')\n",
    "test_df = pd.read_csv('../data/proc_EXIST2021_test.csv')\n",
    "\n",
    "# Show the dimensions of the datasets\n",
    "print('Train dataset dimensions:', train_df.shape)\n",
    "print('Test dataset dimensions:', test_df.shape)"
   ]
  },
  {
   "attachments": {},
   "cell_type": "markdown",
   "metadata": {},
   "source": [
    "## 5. Experimentos y modelos\n",
    "\n",
    "En esta sección se pretende ejemplificar la mejor configuración obtenida en relación a la combinación de distintas técnicas de procesamiento de textos, codificación de documentos y arquitecturas BERT, como modelos de Aprendizaje Automático avanzados. A diferencia de los clasificadores entrenados con Regresión Logística, los experimentos efectuados con BERT **no son determinísticos**. Como consecuencia, para evaluar el impacto de las modificaciones realizadas sobre los datasets y las arquitecturas se ejecutan **30 iteraciones de cada experimento** para luego calcular la **media de accuracy y AUC**, como métricas de evaluación seleccionadas para medir la calidad de un clasificador. Para más detalles se puede consultar [este notebook](https://github.com/lidiasm/DATCOM-TFM/blob/main/notebooks/run_bert_experiments.ipynb) donde se encuentra codificado el procedimiento descrito.\n",
    "\n",
    "Tal y como se explica en ambas competiciones, se realiza una **distinción entre textos en inglés y español** puesto que parece ser que estos últimos se caracterizan por una mejor representación y por ende, los **clasificadores entrenados únicamente sobre documentos españoles demuestran una mayor capacidad de predicción**.\n",
    "\n",
    "Previo al comienzo de la experimentación se definen las siguientes funciones con las que tokenizar los documentos de entrenamiento y test para su uso con arquitecturas BERT, así como para la validación de los clasificadores sobre sendos datasets. "
   ]
  },
  {
   "cell_type": "code",
   "execution_count": 3,
   "metadata": {},
   "outputs": [],
   "source": [
    "def tokenize_texts(texts: list, labels: list, bert_tokenizer: BertTokenizer):\n",
    "    '''\n",
    "    A function that tokenizes the provided list of texts using a pre-trained\n",
    "    Bert tokenizer to encode the documents to get them ready for BERT models.\n",
    "\n",
    "    Parameters\n",
    "    ----------\n",
    "    texts : list\n",
    "        A list of strings with the documents to encode as BERT tokens.\n",
    "    labels : int\n",
    "        A list of integers with the class labels to encode as a Numpy array.\n",
    "    bert_tokenizer : BertTokenizer\n",
    "        A pre-trained BERT tokenizer to use to encode the documents for BERT models.\n",
    "    \n",
    "    Returns\n",
    "    -------\n",
    "    A dictionary with the tokenized texts, the created attention\n",
    "    masks for the BERT models as well as the transformed class labels\n",
    "    within a Numpy array.\n",
    "    '''\n",
    "    tokenized_texts = []\n",
    "    attention_masks = []\n",
    "\n",
    "    # Tokenize the provided texts using BERT tokenizer\n",
    "    for doc in texts:\n",
    "        bert_inp = bert_tokenizer.encode_plus(\n",
    "            doc,\n",
    "            add_special_tokens=True,\n",
    "            max_length=64,\n",
    "            pad_to_max_length=True,\n",
    "            return_attention_mask=True)\n",
    "\n",
    "        # Get the tokenized texts along with the attention masks\n",
    "        tokenized_texts.append(bert_inp['input_ids'])\n",
    "        attention_masks.append(bert_inp['attention_mask'])\n",
    "\n",
    "    return {\n",
    "        'tokenized_texts': np.asarray(tokenized_texts),\n",
    "        'attention_masks': np.asarray(attention_masks),\n",
    "        'labels': np.asarray(labels),\n",
    "    }"
   ]
  },
  {
   "cell_type": "code",
   "execution_count": 4,
   "metadata": {},
   "outputs": [],
   "source": [
    "def validate_bert_model(\n",
    "    train_labels: list, train_pred_labels: list,\n",
    "    test_labels: list, test_pred_labels: list):\n",
    "    '''\n",
    "    Computes the validation metrics of accuracy and AUC based\n",
    "    on the provided train and test labels, as well as the train\n",
    "    and test predicted labels by a BERT model.\n",
    "\n",
    "    Parameters\n",
    "    ----------\n",
    "    train_labels : list\n",
    "        A list of integers with the real train class labels.\n",
    "    train_pred_labels : list\n",
    "        A list of integers with the predicted train class labels.\n",
    "    test_labels : list\n",
    "        A list of integers with the real test class labels.\n",
    "    test_pred_labels : list\n",
    "        A list of integers with the predicted test class labels.\n",
    "    '''\n",
    "    # Calculate the accuracy and AUC values over the train dataset\n",
    "    print(f'Train accuracy: {(metrics.accuracy_score(train_labels, train_pred_labels))}')\n",
    "    print(f'Train AUC: {(metrics.roc_auc_score(train_labels, train_pred_labels))}')\n",
    "    \n",
    "    # Calculate the accuracy and AUC values over the test dataset\n",
    "    print(f'Test accuracy: {(metrics.accuracy_score(test_labels, test_pred_labels))}')\n",
    "    print(f'Test AUC: {(metrics.roc_auc_score(test_labels, test_pred_labels))}')\n",
    "\n",
    "    # Plot the confusion matrix \n",
    "    metrics.ConfusionMatrixDisplay(\n",
    "        confusion_matrix=metrics.confusion_matrix(\n",
    "            np.array(test_labels), \n",
    "            np.array(test_pred_labels)), \n",
    "        display_labels=['Non-sexist', 'Sexist']) \\\n",
    "    .plot(cmap='Blues')"
   ]
  },
  {
   "attachments": {},
   "cell_type": "markdown",
   "metadata": {},
   "source": [
    "### 5.1. Modelo específico para inglés\n",
    "\n",
    "* **Data Augmentation**. Ha sido con arquitecturas BERT con las que se ha conseguido una diferencia sustancial en las métricas de validación al generar muestras sintéticas en el conjunto de entrenamiento para aumentar su volumen. En particular, para este clasificador inglés se ha utilizado ***Easy Data Augmentation*** **basado en el reemplazamiento de dos palabras, seleccionadas aleatoriamente, por sus sinónimos aplicado dos veces por documento** generando así el doble de muestras de entrenamiento. Por lo tanto el conjunto final, añadiendo los textos originales, sería tres veces más voluminoso.\n",
    "\n",
    "* **Tokenización de textos** empleando el tokenizador pre-entrenado denominado ***bert-base-uncased*** que se encuentra disponible en Hugging Face. Únicamente se puede utilizar sobre documentos en inglés.\n",
    "\n",
    "* **Arquitectura e hiperparámetros**.\n",
    "    * **Modelo pre-entrenado** sobre un corpus de textos en inglés.\n",
    "    * **110 millones de parámetros**. \n",
    "    * Doble objetivo de entrenamiento\n",
    "        * Masked Language Modeling (MLM): predice palabras que aleatoriamente se reemplazan por máscaras.\n",
    "        * Next Sentence Prediction (NSP): predice si un par de frases son secuenciales o no.\n",
    "    * **Tamaño del lote: 8**.\n",
    "    * Tamaño máximo de un token: 64. </p>\n",
    "\n",
    "* **Entrenamiento y validación**.\n",
    "  * Número máximo de **iteraciones**: 100.\n",
    "  * **Early Stopping** tras 15 iteraciones sin una mejora mayor que 0.01 en el valor de la métrica *accuracy* en validación y recuperando los pesos del mejor modelo encontrado. \n",
    "  * Porcentaje de **validación**: 20%.\n",
    "  * Función de pérdida: *sparse_categorical_crossentropy*.\n",
    "  * Optimizador: Adam con una tasa de aprendizaje de 2e-5.\n",
    "  * **Métricas de validación**: *accuracy*.\n",
    "\n",
    "En los siguientes resultados se puede apreciar una fortísima diferencia de más del 20% en la tasa de aciertos sobre el conjunto de entrenamiento en comparación con la relativa a test, por lo que parece que el **modelo está sobreaprendiendo**. Si bien la tasa de aciertos sobre test apenas alcanza el 73%, se debe considerar que la máxima expuesta **en sendas competiciones no aumentaba del 79% para textos en inglés y utilizando ensembles**, no clasificadores individuales.\n",
    "\n",
    "No obstante, observando la matriz de confusión se aprecia una considerable **reducción de las tasas de falsos positivos y negativos** en comparación con los clasificadores entrenados con Regresión Logística y LSTM, por lo tanto parece que una arquitectura BERT puede resultar más ventajosa de utilizar para solventar este problema de clasificación de sexismo."
   ]
  },
  {
   "cell_type": "code",
   "execution_count": 5,
   "metadata": {},
   "outputs": [
    {
     "name": "stderr",
     "output_type": "stream",
     "text": [
      "/home/lidia/DATCOM-TFM/venv/lib/python3.10/site-packages/transformers/tokenization_utils_base.py:2336: FutureWarning: The `pad_to_max_length` argument is deprecated and will be removed in a future version, use `padding=True` or `padding='longest'` to pad to the longest sequence in the batch, or use `padding='max_length'` to pad to a max length. In this case, you can give a specific length with `max_length` (e.g. `max_length=45`) or leave max_length to None to pad to the maximal input size of the model (e.g. 512 for Bert).\n",
      "  warnings.warn(\n",
      "2023-05-07 16:59:13.032117: W tensorflow/compiler/xla/stream_executor/platform/default/dso_loader.cc:64] Could not load dynamic library 'libcuda.so.1'; dlerror: libcuda.so.1: cannot open shared object file: No such file or directory\n",
      "2023-05-07 16:59:13.032352: W tensorflow/compiler/xla/stream_executor/cuda/cuda_driver.cc:265] failed call to cuInit: UNKNOWN ERROR (303)\n",
      "2023-05-07 16:59:13.032369: I tensorflow/compiler/xla/stream_executor/cuda/cuda_diagnostics.cc:156] kernel driver does not appear to be running on this host (lidiasm): /proc/driver/nvidia/version does not exist\n",
      "2023-05-07 16:59:13.032877: I tensorflow/core/platform/cpu_feature_guard.cc:193] This TensorFlow binary is optimized with oneAPI Deep Neural Network Library (oneDNN) to use the following CPU instructions in performance-critical operations:  AVX2 FMA\n",
      "To enable them in other operations, rebuild TensorFlow with the appropriate compiler flags.\n"
     ]
    },
    {
     "name": "stdout",
     "output_type": "stream",
     "text": [
      "107/107 [==============================] - 255s 2s/step\n",
      "69/69 [==============================] - 149s 2s/step\n",
      "Train accuracy: 0.9958738579428235\n",
      "Train AUC: 0.9957830045787704\n",
      "Test accuracy: 0.735415709692237\n",
      "Test AUC: 0.7336094158674803\n"
     ]
    },
    {
     "data": {
      "image/png": "[encoded data removed]",
      "text/plain": [
       "<Figure size 640x480 with 2 Axes>"
      ]
     },
     "metadata": {},
     "output_type": "display_data"
    }
   ],
   "source": [
    "# Load a pre-trained BertTokenizer for English texts\n",
    "BERT_TOKENIZER_OBJ = BertTokenizer.from_pretrained('bert-base-uncased')\n",
    "\n",
    "# Filter train and test texts by language\n",
    "en_train_df = train_df[train_df['language'] == 'en']\n",
    "en_test_df = test_df[test_df['language'] == 'en']\n",
    "\n",
    "# Tokenize the train documents\n",
    "en_bert_encoded_train_data = tokenize_texts(\n",
    "    texts=list(en_train_df['clean_text'].values),\n",
    "    labels=list(en_train_df['task1'].values),\n",
    "    bert_tokenizer=BERT_TOKENIZER_OBJ)\n",
    "\n",
    "# Tokenize the test documents\n",
    "en_bert_encoded_test_data = tokenize_texts(\n",
    "    texts=list(en_test_df['clean_text'].values),\n",
    "    labels=list(en_test_df['task1'].values),\n",
    "    bert_tokenizer=BERT_TOKENIZER_OBJ)\n",
    "\n",
    "# Load a trained BERT classifier\n",
    "en_bert_model = TFBertForSequenceClassification.from_pretrained('../models/en_bert_models/en_bert_model_synN2X2_2e5LR_8BS')\n",
    "\n",
    "# Create the predictions over the train dataset\n",
    "en_train_preds = en_bert_model.predict(\n",
    "[\n",
    "    en_bert_encoded_train_data['tokenized_texts'], \n",
    "    en_bert_encoded_train_data['attention_masks']\n",
    "])\n",
    "en_train_pred_labels = np.argmax(en_train_preds.logits, axis=1)\n",
    "\n",
    "# Create the predictions over the test dataset\n",
    "en_test_preds = en_bert_model.predict(\n",
    "[\n",
    "    en_bert_encoded_test_data['tokenized_texts'], \n",
    "    en_bert_encoded_test_data['attention_masks']\n",
    "])\n",
    "en_test_pred_labels = np.argmax(en_test_preds.logits, axis=1)\n",
    "\n",
    "# Evaluate the model over train and test datasets\n",
    "validate_bert_model(\n",
    "    train_labels=en_bert_encoded_train_data['labels'],\n",
    "    train_pred_labels=en_train_pred_labels,\n",
    "    test_labels=en_bert_encoded_test_data['labels'],\n",
    "    test_pred_labels=en_test_pred_labels\n",
    ")"
   ]
  },
  {
   "attachments": {},
   "cell_type": "markdown",
   "metadata": {},
   "source": [
    "#### 5.1.1. Análisis de resultados\n",
    "\n",
    "Como en los otros notebooks se replica el mismo procedimiento con el objetivo de intentar comprender las razones que llevan al modelo a clasificar erróneamente ciertas muestras. En este primer análisis se muestran los intervalos de confianza en los que se distribuyen los falsos positivos y negativos. Tal y como se aprecia, en ambos casos **la mayoría se encuentran en intervalos elevados de confianza** por lo que parece que el clasificador está bastante seguro de las decisiones que ha tomado."
   ]
  },
  {
   "cell_type": "code",
   "execution_count": 37,
   "metadata": {},
   "outputs": [
    {
     "name": "stdout",
     "output_type": "stream",
     "text": [
      "FALSE NEGATIVES\n",
      "Confidence Interval Very low (0.0, 0.2): 0 samples\n",
      "Confidence Interval Low (0.2, 0.4): 0 samples\n",
      "Confidence Interval Medium (0.4, 0.6): 59 samples\n",
      "Confidence Interval High (0.6, 0.8): 68 samples\n",
      "Confidence Interval Very high (0.8, 1.0): 140 samples\n",
      "\n",
      "FALSE POSITIVES\n",
      "Confidence Interval Very low (0.0, 0.2): 0 samples\n",
      "Confidence Interval Low (0.2, 0.4): 0 samples\n",
      "Confidence Interval Medium (0.4, 0.6): 72 samples\n",
      "Confidence Interval High (0.6, 0.8): 65 samples\n",
      "Confidence Interval Very high (0.8, 1.0): 172 samples\n"
     ]
    },
    {
     "name": "stderr",
     "output_type": "stream",
     "text": [
      "/tmp/ipykernel_10921/1074265913.py:5: SettingWithCopyWarning: \n",
      "A value is trying to be set on a copy of a slice from a DataFrame.\n",
      "Try using .loc[row_indexer,col_indexer] = value instead\n",
      "\n",
      "See the caveats in the documentation: https://pandas.pydata.org/pandas-docs/stable/user_guide/indexing.html#returning-a-view-versus-a-copy\n",
      "  en_test_df['task1_pred_classes'] = en_test_pred_labels\n",
      "/tmp/ipykernel_10921/1074265913.py:6: SettingWithCopyWarning: \n",
      "A value is trying to be set on a copy of a slice from a DataFrame.\n",
      "Try using .loc[row_indexer,col_indexer] = value instead\n",
      "\n",
      "See the caveats in the documentation: https://pandas.pydata.org/pandas-docs/stable/user_guide/indexing.html#returning-a-view-versus-a-copy\n",
      "  en_test_df['task1_pred_probs'] = en_test_probs\n"
     ]
    }
   ],
   "source": [
    "# Predict over the test dataset\n",
    "en_test_probs = [max(value) for value in np.asarray(tf.nn.sigmoid(en_test_preds.logits))]\n",
    "\n",
    "# Insert the predicted classes and probabilities into the test dataset\n",
    "en_test_df['task1_pred_classes'] = en_test_pred_labels\n",
    "en_test_df['task1_pred_probs'] = en_test_probs\n",
    "\n",
    "print('FALSE NEGATIVES')\n",
    "false_negatives_df = en_test_df[(en_test_df['task1'] == 1) & (en_test_df['task1_pred_classes'] == 0)]\n",
    "analyze_predicted_probs(\n",
    "    dataset=false_negatives_df,\n",
    "    probs_col='task1_pred_probs')\n",
    "\n",
    "print('\\nFALSE POSITIVES')\n",
    "false_positives_df = en_test_df[(en_test_df['task1'] == 0) & (en_test_df['task1_pred_classes'] == 1)]\n",
    "analyze_predicted_probs(\n",
    "    dataset=false_positives_df,\n",
    "    probs_col='task1_pred_probs')"
   ]
  },
  {
   "attachments": {},
   "cell_type": "markdown",
   "metadata": {},
   "source": [
    "A continuación se cruzan los falsos negativos, es decir, documentos sexistas erróneamente clasificados con las categorías sexistas a las que pertenecen. De nuevo se aprecia la misma tendencia vista en otros modelos puesto que en los p**rimeros puestos se observan las clases más complicadas de detectar** por modelos automáticos debido a su contenido que resulta confuso de identificar ya que no contiene suficiente terminología negativa y violenta."
   ]
  },
  {
   "cell_type": "code",
   "execution_count": 38,
   "metadata": {},
   "outputs": [
    {
     "data": {
      "text/html": [
       "<div>\n",
       "<style scoped>\n",
       "    .dataframe tbody tr th:only-of-type {\n",
       "        vertical-align: middle;\n",
       "    }\n",
       "\n",
       "    .dataframe tbody tr th {\n",
       "        vertical-align: top;\n",
       "    }\n",
       "\n",
       "    .dataframe thead th {\n",
       "        text-align: right;\n",
       "    }\n",
       "</style>\n",
       "<table border=\"1\" class=\"dataframe\">\n",
       "  <thead>\n",
       "    <tr style=\"text-align: right;\">\n",
       "      <th></th>\n",
       "      <th>id</th>\n",
       "    </tr>\n",
       "    <tr>\n",
       "      <th>task2</th>\n",
       "      <th></th>\n",
       "    </tr>\n",
       "  </thead>\n",
       "  <tbody>\n",
       "    <tr>\n",
       "      <th>ideological-inequality</th>\n",
       "      <td>80</td>\n",
       "    </tr>\n",
       "    <tr>\n",
       "      <th>stereotyping-dominance</th>\n",
       "      <td>60</td>\n",
       "    </tr>\n",
       "    <tr>\n",
       "      <th>sexual-violence</th>\n",
       "      <td>49</td>\n",
       "    </tr>\n",
       "    <tr>\n",
       "      <th>misogyny-non-sexual-violence</th>\n",
       "      <td>46</td>\n",
       "    </tr>\n",
       "    <tr>\n",
       "      <th>objectification</th>\n",
       "      <td>32</td>\n",
       "    </tr>\n",
       "  </tbody>\n",
       "</table>\n",
       "</div>"
      ],
      "text/plain": [
       "                              id\n",
       "task2                           \n",
       "ideological-inequality        80\n",
       "stereotyping-dominance        60\n",
       "sexual-violence               49\n",
       "misogyny-non-sexual-violence  46\n",
       "objectification               32"
      ]
     },
     "execution_count": 38,
     "metadata": {},
     "output_type": "execute_result"
    }
   ],
   "source": [
    "false_negatives_df.groupby(['task2']).count().filter(['id']).sort_values(by=['id'], ascending=False)"
   ]
  },
  {
   "attachments": {},
   "cell_type": "markdown",
   "metadata": {},
   "source": [
    "Finalmente si se realiza un estudio desde el punto de vista de las emociones detectadas según el contenido de los documentos erróneamente clasificados, se observa de nuevo que las **dos emociones mayoritarias son *anger* y *joy***, cuyos textos se caracterizan por disponer de un **alto porcentaje de ironía** y con terminología y expresiones positivas aunque con **significados nada éticos y completamente sexistas**, respectivamente."
   ]
  },
  {
   "cell_type": "code",
   "execution_count": 39,
   "metadata": {},
   "outputs": [
    {
     "name": "stdout",
     "output_type": "stream",
     "text": [
      "FALSE NEGATIVES\n",
      "Emotion: fear - No. of texts: 25\n",
      "Emotion: surprise - No. of texts: 6\n",
      "Emotion: love - No. of texts: 8\n",
      "Emotion: sadness - No. of texts: 32\n",
      "Emotion: anger - No. of texts: 117\n",
      "Emotion: joy - No. of texts: 79\n",
      "\n",
      "FALSE POSITIVES\n",
      "Emotion: fear - No. of texts: 41\n",
      "Emotion: surprise - No. of texts: 6\n",
      "Emotion: love - No. of texts: 3\n",
      "Emotion: sadness - No. of texts: 42\n",
      "Emotion: anger - No. of texts: 132\n",
      "Emotion: joy - No. of texts: 85\n"
     ]
    }
   ],
   "source": [
    "print('FALSE NEGATIVES')\n",
    "map_texts_to_emotions(\n",
    "    text_ids=list(false_negatives_df['id'].values),\n",
    "    is_test=True\n",
    ")\n",
    "\n",
    "print('\\nFALSE POSITIVES')\n",
    "map_texts_to_emotions(\n",
    "    text_ids=list(false_positives_df['id'].values),\n",
    "    is_test=True\n",
    ")"
   ]
  },
  {
   "attachments": {},
   "cell_type": "markdown",
   "metadata": {},
   "source": [
    "### 5.2. Modelo específico para español\n",
    "\n",
    "* **Data Augmentation**. Al igual que el modelo anterior, para arquitecturas BERT se ha observado un aumento en las métricas de accuracy y AUC de más de 7% al generar muestras sintéticas en el conjunto de entrenamiento. En este caso la técnica más beneficiosa ha sido aplicar ***Easy Data Augmentation*** **basado en el reemplazamiento de una palabra, seleccionada aleatoriamente, por su sinónimo aplicado tres veces por documento** generando así el triple de muestras de entrenamiento. Por lo tanto el conjunto final, añadiendo los textos originales, sería cuatro veces más voluminoso.\n",
    "\n",
    "* **Tokenización de textos** empleando el tokenizador pre-entrenado denominado ***dccuchile/bert-base-spanish-wwm-uncased*** que se encuentra disponible en Hugging Face. Únicamente se puede utilizar sobre documentos en español.\n",
    "\n",
    "* **Arquitectura e hiperparámetros**. El modelo y su configuración es idéntica a la anterior aunque entrenado sobre un volumen considerable de textos en español.\n",
    "\n",
    "* **Entrenamiento y validación**. La configuración es idéntica a la anterior con la salvedad de establecer en este caso una tasa de aprendizaje algo inferior a 1e-5.\n",
    "\n",
    "A continuación se muestran las métricas de validación para este clasificador y al igual que en el caso anterior existe una desmesurada diferencia entre las basadas en entrenamiento y test, por lo que el modelo parece que **sobreajusta** aunque dispone de una **mayor capacidad de predicción** con una tasa de aciertos de más del 77%, siendo la **más alta alcanzada en sendas competiciones del 80% en textos españoles con ensembles**, no clasificadores individuales. \n",
    "\n",
    "En la matriz de confusión se refleja la mejoría obtenida con una **reducción tanto del número de falsos positivos y negativos, aunque el valor de estos últimos sigue estando muy elevado**."
   ]
  },
  {
   "cell_type": "code",
   "execution_count": 6,
   "metadata": {},
   "outputs": [
    {
     "name": "stderr",
     "output_type": "stream",
     "text": [
      "/home/lidia/DATCOM-TFM/venv/lib/python3.10/site-packages/transformers/tokenization_utils_base.py:2336: FutureWarning: The `pad_to_max_length` argument is deprecated and will be removed in a future version, use `padding=True` or `padding='longest'` to pad to the longest sequence in the batch, or use `padding='max_length'` to pad to a max length. In this case, you can give a specific length with `max_length` (e.g. `max_length=45`) or leave max_length to None to pad to the maximal input size of the model (e.g. 512 for Bert).\n",
      "  warnings.warn(\n"
     ]
    },
    {
     "name": "stdout",
     "output_type": "stream",
     "text": [
      "109/109 [==============================] - 239s 2s/step\n",
      "67/67 [==============================] - 147s 2s/step\n",
      "Train accuracy: 0.9979838709677419\n",
      "Train AUC: 0.9979778747902195\n",
      "Test accuracy: 0.7715903728173666\n",
      "Test AUC: 0.7732802406298337\n"
     ]
    },
    {
     "data": {
      "image/png": "[encoded data removed]",
      "text/plain": [
       "<Figure size 640x480 with 2 Axes>"
      ]
     },
     "metadata": {},
     "output_type": "display_data"
    }
   ],
   "source": [
    "# Load a pre-trained BertTokenizer for Spanish texts\n",
    "BERT_TOKENIZER_OBJ = BertTokenizer.from_pretrained('dccuchile/bert-base-spanish-wwm-uncased')\n",
    "\n",
    "# Filter train and test texts by language\n",
    "es_train_df = train_df[train_df['language'] == 'es']\n",
    "es_test_df = test_df[test_df['language'] == 'es']\n",
    "\n",
    "# Tokenize the train documents\n",
    "es_bert_encoded_train_data = tokenize_texts(\n",
    "    texts=list(es_train_df['clean_text'].values),\n",
    "    labels=list(es_train_df['task1'].values),\n",
    "    bert_tokenizer=BERT_TOKENIZER_OBJ)\n",
    "\n",
    "# Tokenize the test documents\n",
    "es_bert_encoded_test_data = tokenize_texts(\n",
    "    texts=list(es_test_df['clean_text'].values),\n",
    "    labels=list(es_test_df['task1'].values),\n",
    "    bert_tokenizer=BERT_TOKENIZER_OBJ)\n",
    "\n",
    "# Load a trained BERT classifier\n",
    "es_bert_model = TFBertForSequenceClassification.from_pretrained('../models/es_bert_models/es_bert_model_synN1X3_1e5LR_8BS')\n",
    "\n",
    "# Create the predictions over the train dataset\n",
    "es_train_preds = es_bert_model.predict(\n",
    "[\n",
    "    es_bert_encoded_train_data['tokenized_texts'], \n",
    "    es_bert_encoded_train_data['attention_masks']\n",
    "])\n",
    "es_train_pred_labels = np.argmax(es_train_preds.logits, axis=1)\n",
    "\n",
    "# Create the predictions over the test dataset\n",
    "es_test_preds = es_bert_model.predict(\n",
    "[\n",
    "    es_bert_encoded_test_data['tokenized_texts'], \n",
    "    es_bert_encoded_test_data['attention_masks']\n",
    "])\n",
    "es_test_pred_labels = np.argmax(es_test_preds.logits, axis=1)\n",
    "\n",
    "# Evaluate the model over train and test datasets\n",
    "validate_bert_model(\n",
    "    train_labels=es_bert_encoded_train_data['labels'],\n",
    "    train_pred_labels=es_train_pred_labels,\n",
    "    test_labels=es_bert_encoded_test_data['labels'],\n",
    "    test_pred_labels=es_test_pred_labels\n",
    ")"
   ]
  },
  {
   "attachments": {},
   "cell_type": "markdown",
   "metadata": {},
   "source": [
    "#### 5.2.1. Análisis de resultados\n",
    "\n",
    "Se replican los estudios realizados anteriormente para el modelo especializado en textos en español.\n",
    "\n",
    "Tal y como se observa en los siguientes resultados, la tendencia es idéntica a la visualizada previamente puesto que la **mayoría de falsos positivos y negativos** se caracterizan por encontrarse en los **intervalos de confianza más altos**, por lo tanto parece que el clasificador tenía bastante certeza al cometer estos errores, lo que significa que no es un buen comportamiento."
   ]
  },
  {
   "cell_type": "code",
   "execution_count": 6,
   "metadata": {},
   "outputs": [
    {
     "name": "stdout",
     "output_type": "stream",
     "text": [
      "FALSE NEGATIVES\n",
      "Confidence Interval Very low (0.0, 0.2): 0 samples\n",
      "Confidence Interval Low (0.2, 0.4): 0 samples\n",
      "Confidence Interval Medium (0.4, 0.6): 28 samples\n",
      "Confidence Interval High (0.6, 0.8): 65 samples\n",
      "Confidence Interval Very high (0.8, 1.0): 207 samples\n",
      "\n",
      "FALSE POSITIVES\n",
      "Confidence Interval Very low (0.0, 0.2): 0 samples\n",
      "Confidence Interval Low (0.2, 0.4): 0 samples\n",
      "Confidence Interval Medium (0.4, 0.6): 17 samples\n",
      "Confidence Interval High (0.6, 0.8): 50 samples\n",
      "Confidence Interval Very high (0.8, 1.0): 117 samples\n"
     ]
    },
    {
     "name": "stderr",
     "output_type": "stream",
     "text": [
      "/tmp/ipykernel_4914/4049925990.py:5: SettingWithCopyWarning: \n",
      "A value is trying to be set on a copy of a slice from a DataFrame.\n",
      "Try using .loc[row_indexer,col_indexer] = value instead\n",
      "\n",
      "See the caveats in the documentation: https://pandas.pydata.org/pandas-docs/stable/user_guide/indexing.html#returning-a-view-versus-a-copy\n",
      "  es_test_df['task1_pred_classes'] = es_test_pred_labels\n",
      "/tmp/ipykernel_4914/4049925990.py:6: SettingWithCopyWarning: \n",
      "A value is trying to be set on a copy of a slice from a DataFrame.\n",
      "Try using .loc[row_indexer,col_indexer] = value instead\n",
      "\n",
      "See the caveats in the documentation: https://pandas.pydata.org/pandas-docs/stable/user_guide/indexing.html#returning-a-view-versus-a-copy\n",
      "  es_test_df['task1_pred_probs'] = es_test_probs\n"
     ]
    }
   ],
   "source": [
    "# Predict over the test dataset\n",
    "es_test_probs = [max(value) for value in np.asarray(tf.nn.sigmoid(es_test_preds.logits))]\n",
    "\n",
    "# Insert the predicted classes and probabilities into the test dataset\n",
    "es_test_df['task1_pred_classes'] = es_test_pred_labels\n",
    "es_test_df['task1_pred_probs'] = es_test_probs\n",
    "\n",
    "print('FALSE NEGATIVES')\n",
    "false_negatives_df = es_test_df[(es_test_df['task1'] == 1) & (es_test_df['task1_pred_classes'] == 0)]\n",
    "analyze_predicted_probs(\n",
    "    dataset=false_negatives_df,\n",
    "    probs_col='task1_pred_probs')\n",
    "\n",
    "print('\\nFALSE POSITIVES')\n",
    "false_positives_df = es_test_df[(es_test_df['task1'] == 0) & (es_test_df['task1_pred_classes'] == 1)]\n",
    "analyze_predicted_probs(\n",
    "    dataset=false_positives_df,\n",
    "    probs_col='task1_pred_probs')"
   ]
  },
  {
   "attachments": {},
   "cell_type": "markdown",
   "metadata": {},
   "source": [
    "Cruzando los falsos negativos, es decir, los textos sexistas no identificados con sus correspondientes categorías sexistas disponibles en el dataset de test, como se ha visualizado en el modelo LSTM de español **los textos erróneamente clasificados en este idioma se caracterizan por tener otra distribución**. En primer lugar se encuentra una categoría sexista que, tras una inspección visual, parece caracterizarse por documentos que albergan **protestas en contra de la violencia sexual** que no parecen ser textos sexistas puesto que son reivindicaciones, **faltas de ortografía y hashtags** que dificultan la codificación a embeddings, así como textos con **terminología positiva** aunque una fuerte connotación sexista. El resto de clases sexistas comparten estas dos últimas características además de **tratar de otros tópicos** como el racismo, la religión y la política."
   ]
  },
  {
   "cell_type": "code",
   "execution_count": 7,
   "metadata": {},
   "outputs": [
    {
     "data": {
      "text/html": [
       "<div>\n",
       "<style scoped>\n",
       "    .dataframe tbody tr th:only-of-type {\n",
       "        vertical-align: middle;\n",
       "    }\n",
       "\n",
       "    .dataframe tbody tr th {\n",
       "        vertical-align: top;\n",
       "    }\n",
       "\n",
       "    .dataframe thead th {\n",
       "        text-align: right;\n",
       "    }\n",
       "</style>\n",
       "<table border=\"1\" class=\"dataframe\">\n",
       "  <thead>\n",
       "    <tr style=\"text-align: right;\">\n",
       "      <th></th>\n",
       "      <th>id</th>\n",
       "    </tr>\n",
       "    <tr>\n",
       "      <th>task2</th>\n",
       "      <th></th>\n",
       "    </tr>\n",
       "  </thead>\n",
       "  <tbody>\n",
       "    <tr>\n",
       "      <th>sexual-violence</th>\n",
       "      <td>72</td>\n",
       "    </tr>\n",
       "    <tr>\n",
       "      <th>misogyny-non-sexual-violence</th>\n",
       "      <td>69</td>\n",
       "    </tr>\n",
       "    <tr>\n",
       "      <th>ideological-inequality</th>\n",
       "      <td>61</td>\n",
       "    </tr>\n",
       "    <tr>\n",
       "      <th>stereotyping-dominance</th>\n",
       "      <td>54</td>\n",
       "    </tr>\n",
       "    <tr>\n",
       "      <th>objectification</th>\n",
       "      <td>44</td>\n",
       "    </tr>\n",
       "  </tbody>\n",
       "</table>\n",
       "</div>"
      ],
      "text/plain": [
       "                              id\n",
       "task2                           \n",
       "sexual-violence               72\n",
       "misogyny-non-sexual-violence  69\n",
       "ideological-inequality        61\n",
       "stereotyping-dominance        54\n",
       "objectification               44"
      ]
     },
     "execution_count": 7,
     "metadata": {},
     "output_type": "execute_result"
    }
   ],
   "source": [
    "false_negatives_df.groupby(['task2']).count().filter(['id']).sort_values(by=['id'], ascending=False)"
   ]
  },
  {
   "attachments": {},
   "cell_type": "markdown",
   "metadata": {},
   "source": [
    "Finalmente mezclando los falsos positivos y negativos con las emociones detectadas durante el análisis exploratorio de datos, podemos visualizar que de nuevo **las dos emociones más populares son *joy* y *anger***. Las características de estos documentos se encuentran de acuerdo a las mencionadas anteriormente acerca de **terminología y expresiones positivas aunque con significados profundamente sexistas, además de textos con una elevada ironía** que de momento no puede ser detectada correctamente por modelos automáticos."
   ]
  },
  {
   "cell_type": "code",
   "execution_count": 15,
   "metadata": {},
   "outputs": [
    {
     "name": "stdout",
     "output_type": "stream",
     "text": [
      "FALSE NEGATIVES\n",
      "Emotion: fear - No. of texts: 84\n",
      "Emotion: joy - No. of texts: 117\n",
      "Emotion: anger - No. of texts: 97\n",
      "Emotion: sadness - No. of texts: 2\n",
      "\n",
      "FALSE POSITIVES\n",
      "Emotion: fear - No. of texts: 61\n",
      "Emotion: anger - No. of texts: 41\n",
      "Emotion: sadness - No. of texts: 3\n",
      "Emotion: joy - No. of texts: 79\n"
     ]
    }
   ],
   "source": [
    "print('FALSE NEGATIVES')\n",
    "map_texts_to_emotions(\n",
    "    text_ids=list(false_negatives_df['id'].values),\n",
    "    is_test=True\n",
    ")\n",
    "\n",
    "print('\\nFALSE POSITIVES')\n",
    "map_texts_to_emotions(\n",
    "    text_ids=list(false_positives_df['id'].values),\n",
    "    is_test=True\n",
    ")"
   ]
  }
 ],
 "metadata": {
  "kernelspec": {
   "display_name": "venv",
   "language": "python",
   "name": "python3"
  },
  "language_info": {
   "codemirror_mode": {
    "name": "ipython",
    "version": 3
   },
   "file_extension": ".py",
   "mimetype": "text/x-python",
   "name": "python",
   "nbconvert_exporter": "python",
   "pygments_lexer": "ipython3",
   "version": "3.10.6"
  },
  "orig_nbformat": 4,
  "vscode": {
   "interpreter": {
    "hash": "00f7dc61815a6da5453fee0a1d7c3baaa88d552412e55cf65ecdf10d17265d5d"
   }
  }
 },
 "nbformat": 4,
 "nbformat_minor": 2
}
